{
  "cells": [
    {
      "cell_type": "markdown",
      "metadata": {
        "id": "view-in-github",
        "colab_type": "text"
      },
      "source": [
        "<a href=\"https://colab.research.google.com/github/Zhang-Cheng-76200/CapsNet-LSTM/blob/main/CapsNet_LSTM_Gold.ipynb\" target=\"_parent\"><img src=\"https://colab.research.google.com/assets/colab-badge.svg\" alt=\"Open In Colab\"/></a>"
      ]
    },
    {
      "cell_type": "markdown",
      "metadata": {
        "id": "G92ON7NXEnkW"
      },
      "source": [
        "# Gold Price Forecasting Using A Hybrid CapsNet-LSTM Architecture\n",
        "\n",
        "Gold dataset contains data of the daily Gold prices recorded from Jan 1st, 2014 to Apr 30st, 2018. In addition to be using Tensorflow's layers for processing sequence data such as LSTMs we will also intergrate Capsule Network in our proposed neural architecture to improve the model's performance.\n",
        "\n",
        "Let's get started!"
      ]
    },
    {
      "cell_type": "code",
      "execution_count": 1,
      "metadata": {
        "id": "56XEQOGknrAk"
      },
      "outputs": [],
      "source": [
        "import keras.backend as K\n",
        "import tensorflow as tf\n",
        "\n",
        "import keras\n",
        "from keras import backend as K\n",
        "from keras import initializers, layers, models, optimizers, callbacks, utils\n",
        "from keras.models import load_model\n",
        "from keras.models import model_from_json\n",
        "\n",
        "from keras.initializers import glorot_uniform\n",
        "\n",
        "from keras.initializers import *\n",
        "from keras.layers import *\n",
        "from keras.models import *\n",
        "from keras.optimizers import *\n",
        "from keras.callbacks import EarlyStopping\n",
        "from keras.utils import *\n",
        "\n",
        "from keras import losses\n",
        "from keras.utils.io_utils import ask_to_proceed_with_overwrite\n",
        "from tensorflow.python.platform import tf_logging as logging\n",
        "\n",
        "import os\n",
        "import copy\n",
        "import pickle\n",
        "import pandas as pd\n",
        "import numpy as np\n",
        "import matplotlib.pyplot as plt\n",
        "from dataclasses import dataclass"
      ]
    },
    {
      "cell_type": "code",
      "source": [
        "# Set seed\n",
        "from numpy.random import seed\n",
        "seed(1)\n",
        "tf.random.set_seed(1)"
      ],
      "metadata": {
        "id": "Xe-Rnq9QbQ7A"
      },
      "execution_count": 2,
      "outputs": []
    },
    {
      "cell_type": "code",
      "source": [
        "# If code is running on TPU\n",
        "resolver = tf.distribute.cluster_resolver.TPUClusterResolver(tpu='')\n",
        "tf.config.experimental_connect_to_cluster(resolver)\n",
        "# This is the TPU initialization code that has to be at the beginning.\n",
        "tf.tpu.experimental.initialize_tpu_system(resolver)\n",
        "print(\"All devices: \", tf.config.list_logical_devices('TPU'))"
      ],
      "metadata": {
        "id": "CnjuziNxZdvf",
        "colab": {
          "base_uri": "https://localhost:8080/"
        },
        "outputId": "e490d383-3c4a-49e1-f1db-095c506c1644"
      },
      "execution_count": 3,
      "outputs": [
        {
          "output_type": "stream",
          "name": "stdout",
          "text": [
            "All devices:  [LogicalDevice(name='/job:worker/replica:0/task:0/device:TPU:0', device_type='TPU'), LogicalDevice(name='/job:worker/replica:0/task:0/device:TPU:1', device_type='TPU'), LogicalDevice(name='/job:worker/replica:0/task:0/device:TPU:2', device_type='TPU'), LogicalDevice(name='/job:worker/replica:0/task:0/device:TPU:3', device_type='TPU'), LogicalDevice(name='/job:worker/replica:0/task:0/device:TPU:4', device_type='TPU'), LogicalDevice(name='/job:worker/replica:0/task:0/device:TPU:5', device_type='TPU'), LogicalDevice(name='/job:worker/replica:0/task:0/device:TPU:6', device_type='TPU'), LogicalDevice(name='/job:worker/replica:0/task:0/device:TPU:7', device_type='TPU')]\n"
          ]
        }
      ]
    },
    {
      "cell_type": "code",
      "source": [
        "strategy = tf.distribute.TPUStrategy(resolver)"
      ],
      "metadata": {
        "id": "eb5Za_rOMFVx"
      },
      "execution_count": 4,
      "outputs": []
    },
    {
      "cell_type": "code",
      "source": [
        "print(tf.__version__)"
      ],
      "metadata": {
        "id": "rA-JsdF3y5eE",
        "colab": {
          "base_uri": "https://localhost:8080/"
        },
        "outputId": "5c4f12c9-12a2-470b-a0f2-1d2401f35a69"
      },
      "execution_count": 5,
      "outputs": [
        {
          "output_type": "stream",
          "name": "stdout",
          "text": [
            "2.11.0\n"
          ]
        }
      ]
    },
    {
      "cell_type": "markdown",
      "metadata": {
        "id": "RBR7h1IgEnkc"
      },
      "source": [
        "## Parsing the raw data\n",
        "\n",
        "A couple of things to note:\n",
        "\n",
        "- There is no need to save the data points as numpy arrays, regular lists is fine.\n",
        "- The `time` list should contain every timestep (starting at zero), which is just a sequence of ordered numbers with the same length as the `series` list.\n",
        "- The values of the `series` should be of `float` type. You can use Python's built-in `float` function to ensure this."
      ]
    },
    {
      "cell_type": "markdown",
      "metadata": {
        "id": "GeP3JMZHEnkZ"
      },
      "source": [
        "Begin by looking at the structure of the xlsx file that contains the data:"
      ]
    },
    {
      "cell_type": "code",
      "source": [
        "from google.colab import drive\n",
        "drive.mount ('gdrive')"
      ],
      "metadata": {
        "id": "o4Vkj4Y8DYm7",
        "colab": {
          "base_uri": "https://localhost:8080/"
        },
        "outputId": "22f8ddc9-1606-4ea3-ccad-972cbee5ad37"
      },
      "execution_count": 6,
      "outputs": [
        {
          "output_type": "stream",
          "name": "stdout",
          "text": [
            "Mounted at gdrive\n"
          ]
        }
      ]
    },
    {
      "cell_type": "code",
      "source": [
        "Gold_raw = pd.read_excel('/content/gdrive/MyDrive/Gold/Gold.xlsx')\n",
        "Gold_raw"
      ],
      "metadata": {
        "id": "vKv3toTHFgnh",
        "colab": {
          "base_uri": "https://localhost:8080/",
          "height": 423
        },
        "outputId": "80096089-a16f-4c1b-9b1b-5db533333fd9"
      },
      "execution_count": 7,
      "outputs": [
        {
          "output_type": "execute_result",
          "data": {
            "text/plain": [
              "           Date    Price\n",
              "0    2007-10-01   742.50\n",
              "1    2007-10-02   731.00\n",
              "2    2007-10-03   730.25\n",
              "3    2007-10-04   725.50\n",
              "4    2007-10-05   737.00\n",
              "...         ...      ...\n",
              "3385 2020-09-21  1909.35\n",
              "3386 2020-09-22  1906.00\n",
              "3387 2020-09-23  1873.40\n",
              "3388 2020-09-24  1861.75\n",
              "3389 2020-09-25  1859.70\n",
              "\n",
              "[3390 rows x 2 columns]"
            ],
            "text/html": [
              "\n",
              "  <div id=\"df-94a056fc-bdc0-49b8-96b9-ef5ea6430f3b\">\n",
              "    <div class=\"colab-df-container\">\n",
              "      <div>\n",
              "<style scoped>\n",
              "    .dataframe tbody tr th:only-of-type {\n",
              "        vertical-align: middle;\n",
              "    }\n",
              "\n",
              "    .dataframe tbody tr th {\n",
              "        vertical-align: top;\n",
              "    }\n",
              "\n",
              "    .dataframe thead th {\n",
              "        text-align: right;\n",
              "    }\n",
              "</style>\n",
              "<table border=\"1\" class=\"dataframe\">\n",
              "  <thead>\n",
              "    <tr style=\"text-align: right;\">\n",
              "      <th></th>\n",
              "      <th>Date</th>\n",
              "      <th>Price</th>\n",
              "    </tr>\n",
              "  </thead>\n",
              "  <tbody>\n",
              "    <tr>\n",
              "      <th>0</th>\n",
              "      <td>2007-10-01</td>\n",
              "      <td>742.50</td>\n",
              "    </tr>\n",
              "    <tr>\n",
              "      <th>1</th>\n",
              "      <td>2007-10-02</td>\n",
              "      <td>731.00</td>\n",
              "    </tr>\n",
              "    <tr>\n",
              "      <th>2</th>\n",
              "      <td>2007-10-03</td>\n",
              "      <td>730.25</td>\n",
              "    </tr>\n",
              "    <tr>\n",
              "      <th>3</th>\n",
              "      <td>2007-10-04</td>\n",
              "      <td>725.50</td>\n",
              "    </tr>\n",
              "    <tr>\n",
              "      <th>4</th>\n",
              "      <td>2007-10-05</td>\n",
              "      <td>737.00</td>\n",
              "    </tr>\n",
              "    <tr>\n",
              "      <th>...</th>\n",
              "      <td>...</td>\n",
              "      <td>...</td>\n",
              "    </tr>\n",
              "    <tr>\n",
              "      <th>3385</th>\n",
              "      <td>2020-09-21</td>\n",
              "      <td>1909.35</td>\n",
              "    </tr>\n",
              "    <tr>\n",
              "      <th>3386</th>\n",
              "      <td>2020-09-22</td>\n",
              "      <td>1906.00</td>\n",
              "    </tr>\n",
              "    <tr>\n",
              "      <th>3387</th>\n",
              "      <td>2020-09-23</td>\n",
              "      <td>1873.40</td>\n",
              "    </tr>\n",
              "    <tr>\n",
              "      <th>3388</th>\n",
              "      <td>2020-09-24</td>\n",
              "      <td>1861.75</td>\n",
              "    </tr>\n",
              "    <tr>\n",
              "      <th>3389</th>\n",
              "      <td>2020-09-25</td>\n",
              "      <td>1859.70</td>\n",
              "    </tr>\n",
              "  </tbody>\n",
              "</table>\n",
              "<p>3390 rows × 2 columns</p>\n",
              "</div>\n",
              "      <button class=\"colab-df-convert\" onclick=\"convertToInteractive('df-94a056fc-bdc0-49b8-96b9-ef5ea6430f3b')\"\n",
              "              title=\"Convert this dataframe to an interactive table.\"\n",
              "              style=\"display:none;\">\n",
              "        \n",
              "  <svg xmlns=\"http://www.w3.org/2000/svg\" height=\"24px\"viewBox=\"0 0 24 24\"\n",
              "       width=\"24px\">\n",
              "    <path d=\"M0 0h24v24H0V0z\" fill=\"none\"/>\n",
              "    <path d=\"M18.56 5.44l.94 2.06.94-2.06 2.06-.94-2.06-.94-.94-2.06-.94 2.06-2.06.94zm-11 1L8.5 8.5l.94-2.06 2.06-.94-2.06-.94L8.5 2.5l-.94 2.06-2.06.94zm10 10l.94 2.06.94-2.06 2.06-.94-2.06-.94-.94-2.06-.94 2.06-2.06.94z\"/><path d=\"M17.41 7.96l-1.37-1.37c-.4-.4-.92-.59-1.43-.59-.52 0-1.04.2-1.43.59L10.3 9.45l-7.72 7.72c-.78.78-.78 2.05 0 2.83L4 21.41c.39.39.9.59 1.41.59.51 0 1.02-.2 1.41-.59l7.78-7.78 2.81-2.81c.8-.78.8-2.07 0-2.86zM5.41 20L4 18.59l7.72-7.72 1.47 1.35L5.41 20z\"/>\n",
              "  </svg>\n",
              "      </button>\n",
              "      \n",
              "  <style>\n",
              "    .colab-df-container {\n",
              "      display:flex;\n",
              "      flex-wrap:wrap;\n",
              "      gap: 12px;\n",
              "    }\n",
              "\n",
              "    .colab-df-convert {\n",
              "      background-color: #E8F0FE;\n",
              "      border: none;\n",
              "      border-radius: 50%;\n",
              "      cursor: pointer;\n",
              "      display: none;\n",
              "      fill: #1967D2;\n",
              "      height: 32px;\n",
              "      padding: 0 0 0 0;\n",
              "      width: 32px;\n",
              "    }\n",
              "\n",
              "    .colab-df-convert:hover {\n",
              "      background-color: #E2EBFA;\n",
              "      box-shadow: 0px 1px 2px rgba(60, 64, 67, 0.3), 0px 1px 3px 1px rgba(60, 64, 67, 0.15);\n",
              "      fill: #174EA6;\n",
              "    }\n",
              "\n",
              "    [theme=dark] .colab-df-convert {\n",
              "      background-color: #3B4455;\n",
              "      fill: #D2E3FC;\n",
              "    }\n",
              "\n",
              "    [theme=dark] .colab-df-convert:hover {\n",
              "      background-color: #434B5C;\n",
              "      box-shadow: 0px 1px 3px 1px rgba(0, 0, 0, 0.15);\n",
              "      filter: drop-shadow(0px 1px 2px rgba(0, 0, 0, 0.3));\n",
              "      fill: #FFFFFF;\n",
              "    }\n",
              "  </style>\n",
              "\n",
              "      <script>\n",
              "        const buttonEl =\n",
              "          document.querySelector('#df-94a056fc-bdc0-49b8-96b9-ef5ea6430f3b button.colab-df-convert');\n",
              "        buttonEl.style.display =\n",
              "          google.colab.kernel.accessAllowed ? 'block' : 'none';\n",
              "\n",
              "        async function convertToInteractive(key) {\n",
              "          const element = document.querySelector('#df-94a056fc-bdc0-49b8-96b9-ef5ea6430f3b');\n",
              "          const dataTable =\n",
              "            await google.colab.kernel.invokeFunction('convertToInteractive',\n",
              "                                                     [key], {});\n",
              "          if (!dataTable) return;\n",
              "\n",
              "          const docLinkHtml = 'Like what you see? Visit the ' +\n",
              "            '<a target=\"_blank\" href=https://colab.research.google.com/notebooks/data_table.ipynb>data table notebook</a>'\n",
              "            + ' to learn more about interactive tables.';\n",
              "          element.innerHTML = '';\n",
              "          dataTable['output_type'] = 'display_data';\n",
              "          await google.colab.output.renderOutput(dataTable, element);\n",
              "          const docLink = document.createElement('div');\n",
              "          docLink.innerHTML = docLinkHtml;\n",
              "          element.appendChild(docLink);\n",
              "        }\n",
              "      </script>\n",
              "    </div>\n",
              "  </div>\n",
              "  "
            ]
          },
          "metadata": {},
          "execution_count": 7
        }
      ]
    },
    {
      "cell_type": "code",
      "source": [
        "series = Gold_raw.iloc[:,1] # price"
      ],
      "metadata": {
        "id": "vTg-wdf-Vpbi"
      },
      "execution_count": 8,
      "outputs": []
    },
    {
      "cell_type": "code",
      "source": [
        "time = []\n",
        "for i in range(0, len(series)):\n",
        "  time.append(i)"
      ],
      "metadata": {
        "id": "4P3cPCrbVpVl"
      },
      "execution_count": 9,
      "outputs": []
    },
    {
      "cell_type": "markdown",
      "source": [
        "A helper function to plot the time series:"
      ],
      "metadata": {
        "id": "XQh2IH8Tl0Le"
      }
    },
    {
      "cell_type": "code",
      "source": [
        "def plot_series(time, series, format=\"-\", start=0, end=None):\n",
        "    plt.plot(time[start:end], series[start:end], format)\n",
        "    plt.xlabel(\"Time\")\n",
        "    plt.ylabel(\"Value\")\n",
        "    plt.grid(True)"
      ],
      "metadata": {
        "id": "qMGyMzGelzEW"
      },
      "execution_count": 10,
      "outputs": []
    },
    {
      "cell_type": "markdown",
      "metadata": {
        "id": "tT1tB8J1Enkd"
      },
      "source": [
        "The next cell will use functions to compute the `time` and `series` and will save these as numpy arrays within the `G` dataclass. This cell will also plot the time series:"
      ]
    },
    {
      "cell_type": "code",
      "execution_count": 11,
      "metadata": {
        "id": "R8UYoZlKEnke",
        "colab": {
          "base_uri": "https://localhost:8080/",
          "height": 398
        },
        "outputId": "e43a49ed-11b0-4562-8228-4cf89780b3a5"
      },
      "outputs": [
        {
          "output_type": "display_data",
          "data": {
            "text/plain": [
              "<Figure size 720x432 with 1 Axes>"
            ],
            "image/png": "[encoded data removed]"
          },
          "metadata": {
            "needs_background": "light"
          }
        }
      ],
      "source": [
        "# Save all \"global\" variables within the G class (G stands for global)\n",
        "@dataclass\n",
        "class G:\n",
        "    TIME = np.array(time)\n",
        "    SERIES = np.array(series)\n",
        "    SPLIT_TIME = int(len(series)*0.9)          # data splitting.\n",
        "    WINDOW_SIZE = 250                                # sequence length\n",
        "    BATCH_SIZE = 32                                  # batch size\n",
        "\n",
        "plt.rcParams['font.size'] = '16'\n",
        "plt.figure(figsize=(10, 6))\n",
        "plot_series(G.TIME, G.SERIES)\n",
        "plt.ylabel(\"USD\")\n",
        "plt.xlabel(\"Time Step\")\n",
        "legend_drawn_flag = True\n",
        "plt.legend([\"Gold per ounce price\"], loc=0, frameon=legend_drawn_flag)\n",
        "plt.savefig(\"/content/gdrive/MyDrive/Forecasting_results/Gold_original.svg\")\n",
        "plt.show()"
      ]
    },
    {
      "cell_type": "markdown",
      "metadata": {
        "id": "Y8U3ckcaEnke"
      },
      "source": [
        "## Processing the data\n",
        "\n",
        "The `train_val_split` and `windowed_dataset` functions:"
      ]
    },
    {
      "cell_type": "code",
      "execution_count": 12,
      "metadata": {
        "id": "3O7A_9XdEnkf"
      },
      "outputs": [],
      "source": [
        "def train_test_split(time, series, time_step=G.SPLIT_TIME):\n",
        "\n",
        "    time_train = time[:time_step]\n",
        "    series_train = series[:time_step]\n",
        "    time_test = time[time_step:]\n",
        "    series_test = series[time_step:]\n",
        "   \n",
        "\n",
        "    return time_train, series_train, time_test, series_test\n",
        "\n",
        "# Split the dataset\n",
        "time_train, series_train, time_test, series_test = train_test_split(G.TIME, G.SERIES)"
      ]
    },
    {
      "cell_type": "markdown",
      "source": [
        "min-max normalization:"
      ],
      "metadata": {
        "id": "M8xZy3QTZD8e"
      }
    },
    {
      "cell_type": "code",
      "source": [
        "def min_max_normalization(series):\n",
        "  series = (series - min(series_train))/(max(series_train) - min(series_train))\n",
        "  return series"
      ],
      "metadata": {
        "id": "aRkvaM6AauAy"
      },
      "execution_count": 13,
      "outputs": []
    },
    {
      "cell_type": "code",
      "source": [
        "series_norm = min_max_normalization(G.SERIES)"
      ],
      "metadata": {
        "id": "UR8bYse7ZC-G"
      },
      "execution_count": 14,
      "outputs": []
    },
    {
      "cell_type": "code",
      "source": [
        "series_train_norm = series_norm[:G.SPLIT_TIME]\n",
        "series_test_norm = series_norm[G.SPLIT_TIME:]"
      ],
      "metadata": {
        "id": "CQr8LSVw4BIV"
      },
      "execution_count": 15,
      "outputs": []
    },
    {
      "cell_type": "markdown",
      "source": [
        "Building train_set:\n",
        "the train_set is used for training of the optimized model."
      ],
      "metadata": {
        "id": "izPRK1HJS8Qh"
      }
    },
    {
      "cell_type": "code",
      "source": [
        "# Create train_set, val_set, and train_val_set. train_set and val_set are used for hyper=parameters tuning, and train_val_set is used for training.\n",
        "def windowed_dataset(series, window_size=G.WINDOW_SIZE, batch_size=G.BATCH_SIZE):\n",
        "    ds = tf.data.Dataset.from_tensor_slices(series)\n",
        "    ds = ds.window(window_size + 1, shift=1, drop_remainder=True)\n",
        "    ds = ds.flat_map(lambda w: w.batch(window_size + 1))\n",
        "    ds = ds.map(lambda w: (w[:-1], w[-1]))\n",
        "    ds = ds.batch(batch_size).prefetch(1)\n",
        "    return ds\n",
        "train_set = windowed_dataset(series_train_norm, window_size=G.WINDOW_SIZE, batch_size=G.BATCH_SIZE)"
      ],
      "metadata": {
        "id": "Uix6YCADP4wK",
        "colab": {
          "base_uri": "https://localhost:8080/"
        },
        "outputId": "a06f372c-f194-42b5-fd73-c1947f23b19e"
      },
      "execution_count": 16,
      "outputs": [
        {
          "output_type": "stream",
          "name": "stderr",
          "text": [
            "WARNING:tensorflow:From /usr/local/lib/python3.8/dist-packages/tensorflow/python/autograph/pyct/static_analysis/liveness.py:83: Analyzer.lamba_check (from tensorflow.python.autograph.pyct.static_analysis.liveness) is deprecated and will be removed after 2023-09-23.\n",
            "Instructions for updating:\n",
            "Lambda fuctions will be no more assumed to be used in the statement where they are used, or at least in the same block. https://github.com/tensorflow/tensorflow/issues/56089\n"
          ]
        }
      ]
    },
    {
      "cell_type": "markdown",
      "metadata": {
        "id": "E6stIQIqEnkh"
      },
      "source": [
        "## Compiling the model\n"
      ]
    },
    {
      "cell_type": "markdown",
      "metadata": {
        "id": "GaMon77MEnkf"
      },
      "source": [
        "### Defining the model architecture (CapsNet-LSTM)\n"
      ]
    },
    {
      "cell_type": "code",
      "source": [
        "# Squash function\n",
        "\n",
        "def squash(vectors, axis=-1):\n",
        "    \"\"\"\n",
        "    The non-linear activation used in Capsule. It drives the length of a large vector to near 1 and small vector to 0\n",
        "    :param vectors: some vectors to be squashed, N-dim tensor\n",
        "    :param axis: the axis to squash\n",
        "    :return: a Tensor with same shape as input vectors\n",
        "    \"\"\"\n",
        "    s_squared_norm = K.sum(K.square(vectors), axis, keepdims=True) \n",
        "    scale = s_squared_norm / (1 + s_squared_norm) / K.sqrt(s_squared_norm + K.epsilon())\n",
        "    return scale * vectors\n"
      ],
      "metadata": {
        "id": "NAPDHkls8FGx"
      },
      "execution_count": 17,
      "outputs": []
    },
    {
      "cell_type": "code",
      "source": [
        "# Dynamic routing (layer)\n",
        "#    The capsule layer. It is similar to Dense layer. Dense layer has `in_num` inputs, each is a scalar, the output of the \n",
        "#    neuron from the former layer, and it has `out_num` output neurons. CapsuleLayer just expand the output of the neuron\n",
        "#    from scalar to vector. So its input shape = [None, input_num_capsule, input_dim_capsule] and output shape = \\\n",
        "#    [None, num_capsule, dim_capsule]. For Dense Layer, input_dim_capsule = dim_capsule = 1.\n",
        "\n",
        "#    :param dim_capsule: dimension of the output vectors of the capsules in this layer\n",
        "#    :param routings: number of iterations for the routing algorithm \n",
        "\n",
        "#@tf.keras.utils.register_keras_serializable() should use this line next time when need to save the model with a custom layer.\n",
        "class Routing(keras.layers.Layer):\n",
        "\n",
        "    def __init__(self, dim_capsule = 32 , routings=3, kernel_initializer='glorot_uniform'):\n",
        "        super(Routing, self).__init__()\n",
        "        self.dim_capsule = dim_capsule\n",
        "        self.routings = routings\n",
        "        self.kernel_initializer = initializers.get(kernel_initializer)\n",
        "\n",
        "    def build(self, input_shape):\n",
        "        # build tansform matrix which can convert one primary cap to a vector with the same order as the digit cap.\n",
        "        # assert len(input_shape) >= 3  # The input Tensor should have shape=[None, input_num_capsule, input_dim_capsule]\n",
        "        self.input_num_capsule = input_shape[1]\n",
        "        self.input_dim_capsule = input_shape[2]\n",
        "        \n",
        "        # Transform matrix\n",
        "       \n",
        "        self.W = self.add_weight(shape=[self.input_num_capsule,self.dim_capsule, self.input_dim_capsule],initializer=self.kernel_initializer,name='W')\n",
        "\n",
        "    def call(self, inputs): #training=None\n",
        "        # inputs.shape=[input_num_capsule, input_dim_capsule]\n",
        "        # inputs_expand.shape=[input_num_capsule, input_dim_capsule, 1]\n",
        "        inputs_expand = K.expand_dims(inputs, -1)    \n",
        "\n",
        "        # Compute `inputs * W` by scanning inputs_tiled on dimension 0.\n",
        "        # x.shape=[None, input_num_capsule, input_dim_capsule, 1]\n",
        "        # W.shape=[input_num_capsule, dim_capsule, input_dim_capsule]\n",
        "        # Regard the first dimension as `batch` dimension,\n",
        "        # then matmul: [dim_capsule, input_dim_capsule] x [input_dim_capsule, 1] -> [dim_capsule].\n",
        "        # inputs_hat.shape = [None, input_num_capsule, dim_capsule, 1]     \n",
        "          \n",
        "        inputs_hat = K.map_fn(lambda x: K.batch_dot(self.W, x, [2, 1]), elems=inputs_expand) \n",
        "\n",
        "        inputs_hat = K.squeeze(inputs_hat, axis = -1)\n",
        "        # inputs_hat.shape = [None, input_num_capsule, dim_capsule]\n",
        "       \n",
        "        # Begin: Routing algorithm ---------------------------------------------------------------------#\n",
        "        # The prior for coupling coefficient, initialized as zeros.\n",
        "        # b.shape = [None, self.input_num_capsule].\n",
        "        b = tf.zeros(shape=[K.shape(inputs_hat)[0], self.input_num_capsule])\n",
        "        \n",
        "        assert self.routings > 0\n",
        "        for i in range(self.routings):\n",
        "            # c.shape=[batch_size, input_num_capsule]\n",
        "            c = tf.nn.softmax(b, axis=-1)\n",
        "\n",
        "            # c.shape =  [batch_size, input_num_capsule]\n",
        "            # inputs_hat.shape=[batch_size, input_num_capsule, dim_capsule]\n",
        "            # The first dimensions as `batch` dimension,\n",
        "            # then matmal: [input_num_capsule] x [input_num_capsule, dim_capsule] -> [dim_capsule].\n",
        "            # outputs.shape=[None, dim_capsule]\n",
        "            \n",
        "            #outputs = squash(K.batch_dot(c, inputs_hat, [1, 1])) \n",
        "            outputs = K.batch_dot(c, inputs_hat, [1, 1])\n",
        "\n",
        "            if i < self.routings - 1:\n",
        "                # outputs.shape =  [None, dim_capsule]\n",
        "                # inputs_hat.shape=[None, input_num_capsule, dim_capsule]\n",
        "                # The first dimension as `batch` dimension,\n",
        "                # then matmal: [dim_capsule] x [input_num_capsule, dim_capsule]^T -> [input_num_capsule].\n",
        "                # b.shape=[batch_size, input_num_capsule]\n",
        "                b += K.batch_dot(outputs, inputs_hat, [1, 2])\n",
        "       \n",
        "        # End: Routing algorithm -----------------------------------------------------------------------#\n",
        "\n",
        "        return outputs\n",
        "\n",
        "    def compute_output_shape(self, input_shape):\n",
        "        return tuple([None, self.dim_capsule])\n",
        "\n",
        "    def get_config(self):\n",
        "        config = super().get_config()\n",
        "        config.update({\n",
        "            \"dim_capsule\": self.dim_capsule,\n",
        "            \"routings\": self.routings,\n",
        "            \"kernel_initializer\": self.kernel_initializer,\n",
        "        })\n",
        "        return config"
      ],
      "metadata": {
        "id": "n2SUkh9LAFqP"
      },
      "execution_count": 18,
      "outputs": []
    },
    {
      "cell_type": "code",
      "execution_count": 19,
      "metadata": {
        "id": "1Y12KaJYEnki"
      },
      "outputs": [],
      "source": [
        "def compute_metrics(true_series, forecast):\n",
        "    \n",
        "    mse = tf.keras.metrics.mean_squared_error(true_series, forecast).numpy()   \n",
        "    rmse = tf.math.sqrt(mse).numpy()\n",
        "    mae = tf.keras.metrics.mean_absolute_error(true_series, forecast).numpy()\n",
        "    mape = tf.keras.metrics.mean_absolute_percentage_error(true_series, forecast).numpy()\n",
        "    return rmse, mae, mape"
      ]
    },
    {
      "cell_type": "code",
      "source": [
        "def smape(true_series, forecast):\n",
        "    return 100/len(true_series) * np.sum(2 * np.abs(forecast - true_series) / (np.abs(true_series) + np.abs(forecast)))"
      ],
      "metadata": {
        "id": "JaL1EdZAe1TN"
      },
      "execution_count": 58,
      "outputs": []
    },
    {
      "cell_type": "code",
      "execution_count": 20,
      "metadata": {
        "id": "4XwGrf-A_wF0"
      },
      "outputs": [],
      "source": [
        "def model_forecast(model, series, window_size):\n",
        "    ds = tf.data.Dataset.from_tensor_slices(series)\n",
        "    ds = ds.window(window_size, shift=1, drop_remainder=True)\n",
        "    ds = ds.flat_map(lambda w: w.batch(window_size))\n",
        "    ds = ds.batch(32).prefetch(1)\n",
        "    forecast = model.predict(ds)\n",
        "    return forecast"
      ]
    },
    {
      "cell_type": "code",
      "source": [
        "def reverse_normalization(series):\n",
        "  series = series * (max(series_train) - min(series_train)) + min(series_train)\n",
        "  return series"
      ],
      "metadata": {
        "id": "xG8kJO3blWny"
      },
      "execution_count": 21,
      "outputs": []
    },
    {
      "cell_type": "code",
      "source": [
        "input_shape = (G.WINDOW_SIZE, 1)"
      ],
      "metadata": {
        "id": "uh3dZo2eVk0K"
      },
      "execution_count": 22,
      "outputs": []
    },
    {
      "cell_type": "code",
      "source": [
        "# Prepare callback\n",
        "\n",
        "reduce_lr = tf.keras.callbacks.ReduceLROnPlateau(monitor='mae', factor=0.95,patience=5)"
      ],
      "metadata": {
        "id": "LxTHiYBFhIhF"
      },
      "execution_count": 23,
      "outputs": []
    },
    {
      "cell_type": "code",
      "source": [
        "K.clear_session()"
      ],
      "metadata": {
        "id": "-dD6KzvejX_o"
      },
      "execution_count": 24,
      "outputs": []
    },
    {
      "cell_type": "markdown",
      "source": [
        "### Determine the number of Epoch"
      ],
      "metadata": {
        "id": "HAgEm3Ue4PNF"
      }
    },
    {
      "cell_type": "code",
      "source": [
        "# Build the model with the default setting. LSTM units = 200, Convolution filters = 512, kernel size = 2, stride = 1, learning rate = 0.0005\n",
        "def CapsNet_LSTM():\n",
        "   \n",
        "    input = tf.keras.layers.Input(shape=input_shape)\n",
        "      \n",
        "    # First layer\n",
        "    conv1d_1 = tf.keras.layers.Conv1D(filters=512, kernel_size=2, strides=1, padding='causal', activation='relu', name = 'conv1d_1')(input)\n",
        "          \n",
        "    # Primary caps\n",
        "  \n",
        "    unsquashed_caps = tf.keras.layers.Reshape((G.WINDOW_SIZE, 64, 8))(conv1d_1)\n",
        "    squashed_caps = tf.keras.layers.Lambda(squash)(unsquashed_caps)\n",
        "\n",
        "    # Digit caps\n",
        "     \n",
        "    digit_caps = tf.keras.layers.TimeDistributed(Routing(dim_capsule = 512, routings = 3))(squashed_caps)\n",
        "\n",
        "    # LSTM layer\n",
        "    lstm = tf.keras.layers.LSTM(100)(digit_caps)\n",
        "\n",
        "    # Dense layer\n",
        "\n",
        "    output = tf.keras.layers.Dense(1)(lstm)\n",
        "\n",
        "    model = keras.Model(inputs=input, outputs=output, name=\"capsnet_lstm\")\n",
        "\n",
        "    learning_rate = 0.0005\n",
        "    model.compile(\n",
        "        optimizer=tf.keras.optimizers.Adam(learning_rate = learning_rate),\n",
        "        loss=tf.keras.losses.MeanSquaredError(),\n",
        "        metrics=[\"mae\"])\n",
        "\n",
        "    return model"
      ],
      "metadata": {
        "id": "fqOfqDbaUhsm"
      },
      "execution_count": 82,
      "outputs": []
    },
    {
      "cell_type": "markdown",
      "source": [
        "Finding epoch number"
      ],
      "metadata": {
        "id": "Hh0WNIt-XlNR"
      }
    },
    {
      "cell_type": "markdown",
      "source": [
        "epoch number for CapsNet-LSTM is 500."
      ],
      "metadata": {
        "id": "hMTX52gu5Jmg"
      }
    },
    {
      "cell_type": "code",
      "source": [
        "# Train the model with the train dataset and val set combining together.\n",
        "with strategy.scope():\n",
        "  capsnet_lstm = CapsNet_LSTM()\n",
        "# Fit with the entire dataset.\n",
        "history_capsnet_lstm_train = capsnet_lstm.fit(train_set, epochs=500,callbacks = [reduce_lr])"
      ],
      "metadata": {
        "id": "Bz4kTlU3C_r_",
        "colab": {
          "base_uri": "https://localhost:8080/"
        },
        "outputId": "41d631b0-95f2-4bff-d042-cc4f5cedde6d"
      },
      "execution_count": null,
      "outputs": [
        {
          "output_type": "stream",
          "name": "stdout",
          "text": [
            "Epoch 1/500\n",
            "88/88 [==============================] - 43s 409ms/step - loss: 0.0096 - mae: 0.0774 - lr: 5.0000e-04\n",
            "Epoch 2/500\n",
            "88/88 [==============================] - 35s 404ms/step - loss: 0.0419 - mae: 0.1453 - lr: 5.0000e-04\n",
            "Epoch 3/500\n",
            "88/88 [==============================] - 33s 377ms/step - loss: 0.0507 - mae: 0.1767 - lr: 5.0000e-04\n",
            "Epoch 4/500\n",
            "88/88 [==============================] - 38s 432ms/step - loss: 0.0358 - mae: 0.1514 - lr: 5.0000e-04\n",
            "Epoch 5/500\n",
            "88/88 [==============================] - 34s 388ms/step - loss: 0.0271 - mae: 0.1312 - lr: 5.0000e-04\n",
            "Epoch 6/500\n",
            "88/88 [==============================] - 32s 365ms/step - loss: 0.0172 - mae: 0.1016 - lr: 5.0000e-04\n",
            "Epoch 7/500\n",
            "88/88 [==============================] - 35s 405ms/step - loss: 0.0110 - mae: 0.0789 - lr: 4.7500e-04\n",
            "Epoch 8/500\n",
            "88/88 [==============================] - 31s 347ms/step - loss: 0.0071 - mae: 0.0599 - lr: 4.7500e-04\n",
            "Epoch 9/500\n",
            "88/88 [==============================] - 32s 360ms/step - loss: 0.0049 - mae: 0.0473 - lr: 4.7500e-04\n",
            "Epoch 10/500\n",
            "88/88 [==============================] - 35s 389ms/step - loss: 0.0035 - mae: 0.0389 - lr: 4.7500e-04\n",
            "Epoch 11/500\n",
            "88/88 [==============================] - 38s 434ms/step - loss: 0.0027 - mae: 0.0333 - lr: 4.7500e-04\n",
            "Epoch 12/500\n",
            "88/88 [==============================] - 36s 408ms/step - loss: 0.0021 - mae: 0.0295 - lr: 4.7500e-04\n",
            "Epoch 13/500\n",
            "88/88 [==============================] - 32s 367ms/step - loss: 0.0017 - mae: 0.0269 - lr: 4.7500e-04\n",
            "Epoch 14/500\n",
            "88/88 [==============================] - 34s 384ms/step - loss: 0.0015 - mae: 0.0254 - lr: 4.7500e-04\n",
            "Epoch 15/500\n",
            "88/88 [==============================] - 35s 404ms/step - loss: 0.0013 - mae: 0.0246 - lr: 4.7500e-04\n",
            "Epoch 16/500\n",
            "88/88 [==============================] - 35s 401ms/step - loss: 0.0012 - mae: 0.0242 - lr: 4.7500e-04\n",
            "Epoch 17/500\n",
            "88/88 [==============================] - 33s 378ms/step - loss: 0.0012 - mae: 0.0241 - lr: 4.7500e-04\n",
            "Epoch 18/500\n",
            "88/88 [==============================] - 33s 376ms/step - loss: 0.0012 - mae: 0.0241 - lr: 4.7500e-04\n",
            "Epoch 19/500\n",
            "88/88 [==============================] - 37s 415ms/step - loss: 0.0012 - mae: 0.0241 - lr: 4.7500e-04\n",
            "Epoch 20/500\n",
            "88/88 [==============================] - 35s 403ms/step - loss: 0.0012 - mae: 0.0240 - lr: 4.7500e-04\n",
            "Epoch 21/500\n",
            "88/88 [==============================] - 35s 402ms/step - loss: 0.0011 - mae: 0.0239 - lr: 4.7500e-04\n",
            "Epoch 22/500\n",
            "88/88 [==============================] - 34s 391ms/step - loss: 0.0011 - mae: 0.0238 - lr: 4.7500e-04\n",
            "Epoch 23/500\n",
            "88/88 [==============================] - 45s 520ms/step - loss: 0.0011 - mae: 0.0236 - lr: 4.7500e-04\n",
            "Epoch 24/500\n",
            "88/88 [==============================] - 34s 384ms/step - loss: 0.0011 - mae: 0.0235 - lr: 4.7500e-04\n",
            "Epoch 25/500\n",
            "88/88 [==============================] - 37s 422ms/step - loss: 0.0010 - mae: 0.0232 - lr: 4.7500e-04\n",
            "Epoch 26/500\n",
            "88/88 [==============================] - 39s 438ms/step - loss: 0.0010 - mae: 0.0229 - lr: 4.7500e-04\n",
            "Epoch 27/500\n",
            "88/88 [==============================] - 38s 436ms/step - loss: 9.7636e-04 - mae: 0.0226 - lr: 4.7500e-04\n",
            "Epoch 28/500\n",
            "88/88 [==============================] - 33s 372ms/step - loss: 9.4524e-04 - mae: 0.0223 - lr: 4.7500e-04\n",
            "Epoch 29/500\n",
            "88/88 [==============================] - 35s 386ms/step - loss: 9.1798e-04 - mae: 0.0220 - lr: 4.7500e-04\n",
            "Epoch 30/500\n",
            "88/88 [==============================] - 36s 410ms/step - loss: 8.8673e-04 - mae: 0.0216 - lr: 4.7500e-04\n",
            "Epoch 31/500\n",
            "88/88 [==============================] - 33s 376ms/step - loss: 8.5618e-04 - mae: 0.0212 - lr: 4.7500e-04\n",
            "Epoch 32/500\n",
            "88/88 [==============================] - 37s 422ms/step - loss: 8.2820e-04 - mae: 0.0209 - lr: 4.7500e-04\n",
            "Epoch 33/500\n",
            "88/88 [==============================] - 38s 431ms/step - loss: 8.0024e-04 - mae: 0.0206 - lr: 4.7500e-04\n",
            "Epoch 34/500\n",
            "88/88 [==============================] - 36s 398ms/step - loss: 7.7432e-04 - mae: 0.0202 - lr: 4.7500e-04\n",
            "Epoch 35/500\n",
            "88/88 [==============================] - 37s 411ms/step - loss: 7.4516e-04 - mae: 0.0199 - lr: 4.7500e-04\n",
            "Epoch 36/500\n",
            "88/88 [==============================] - 32s 371ms/step - loss: 7.2037e-04 - mae: 0.0195 - lr: 4.7500e-04\n",
            "Epoch 37/500\n",
            "88/88 [==============================] - 30s 340ms/step - loss: 6.9346e-04 - mae: 0.0192 - lr: 4.7500e-04\n",
            "Epoch 38/500\n",
            "88/88 [==============================] - 32s 361ms/step - loss: 6.6872e-04 - mae: 0.0188 - lr: 4.7500e-04\n",
            "Epoch 39/500\n",
            "88/88 [==============================] - 34s 385ms/step - loss: 6.4217e-04 - mae: 0.0185 - lr: 4.7500e-04\n",
            "Epoch 40/500\n",
            "88/88 [==============================] - 35s 389ms/step - loss: 6.1799e-04 - mae: 0.0181 - lr: 4.7500e-04\n",
            "Epoch 41/500\n",
            "88/88 [==============================] - 41s 460ms/step - loss: 5.9324e-04 - mae: 0.0178 - lr: 4.7500e-04\n",
            "Epoch 42/500\n",
            "88/88 [==============================] - 35s 402ms/step - loss: 5.6852e-04 - mae: 0.0174 - lr: 4.7500e-04\n",
            "Epoch 43/500\n",
            "88/88 [==============================] - 35s 399ms/step - loss: 5.4387e-04 - mae: 0.0171 - lr: 4.7500e-04\n",
            "Epoch 44/500\n",
            "88/88 [==============================] - 32s 366ms/step - loss: 5.2007e-04 - mae: 0.0167 - lr: 4.7500e-04\n",
            "Epoch 45/500\n",
            "88/88 [==============================] - 29s 333ms/step - loss: 4.9646e-04 - mae: 0.0163 - lr: 4.7500e-04\n",
            "Epoch 46/500\n",
            "88/88 [==============================] - 29s 329ms/step - loss: 4.7251e-04 - mae: 0.0160 - lr: 4.7500e-04\n",
            "Epoch 47/500\n",
            "88/88 [==============================] - 32s 365ms/step - loss: 4.4940e-04 - mae: 0.0156 - lr: 4.7500e-04\n",
            "Epoch 48/500\n",
            "88/88 [==============================] - 30s 348ms/step - loss: 4.2669e-04 - mae: 0.0152 - lr: 4.7500e-04\n",
            "Epoch 49/500\n",
            "88/88 [==============================] - 35s 401ms/step - loss: 4.0518e-04 - mae: 0.0148 - lr: 4.7500e-04\n",
            "Epoch 50/500\n",
            "88/88 [==============================] - 32s 364ms/step - loss: 3.8522e-04 - mae: 0.0144 - lr: 4.7500e-04\n",
            "Epoch 51/500\n",
            "88/88 [==============================] - 36s 400ms/step - loss: 3.6543e-04 - mae: 0.0141 - lr: 4.7500e-04\n",
            "Epoch 52/500\n",
            "88/88 [==============================] - 34s 379ms/step - loss: 3.4583e-04 - mae: 0.0137 - lr: 4.7500e-04\n",
            "Epoch 53/500\n",
            "88/88 [==============================] - 30s 344ms/step - loss: 3.2900e-04 - mae: 0.0133 - lr: 4.7500e-04\n",
            "Epoch 54/500\n",
            "88/88 [==============================] - 31s 350ms/step - loss: 3.1393e-04 - mae: 0.0130 - lr: 4.7500e-04\n",
            "Epoch 55/500\n",
            "88/88 [==============================] - 33s 373ms/step - loss: 3.0078e-04 - mae: 0.0127 - lr: 4.7500e-04\n",
            "Epoch 56/500\n",
            "88/88 [==============================] - 37s 424ms/step - loss: 2.9030e-04 - mae: 0.0124 - lr: 4.7500e-04\n",
            "Epoch 57/500\n",
            "88/88 [==============================] - 34s 390ms/step - loss: 2.8092e-04 - mae: 0.0122 - lr: 4.7500e-04\n",
            "Epoch 58/500\n",
            "88/88 [==============================] - 35s 393ms/step - loss: 2.7268e-04 - mae: 0.0120 - lr: 4.7500e-04\n",
            "Epoch 59/500\n",
            "88/88 [==============================] - 29s 329ms/step - loss: 2.6675e-04 - mae: 0.0119 - lr: 4.7500e-04\n",
            "Epoch 60/500\n",
            "88/88 [==============================] - 32s 366ms/step - loss: 2.6232e-04 - mae: 0.0117 - lr: 4.7500e-04\n",
            "Epoch 61/500\n",
            "88/88 [==============================] - 35s 400ms/step - loss: 2.5903e-04 - mae: 0.0117 - lr: 4.7500e-04\n",
            "Epoch 62/500\n",
            "88/88 [==============================] - 30s 341ms/step - loss: 2.5798e-04 - mae: 0.0116 - lr: 4.7500e-04\n",
            "Epoch 63/500\n",
            "88/88 [==============================] - 36s 409ms/step - loss: 2.5691e-04 - mae: 0.0116 - lr: 4.7500e-04\n",
            "Epoch 64/500\n",
            "88/88 [==============================] - 35s 388ms/step - loss: 2.5613e-04 - mae: 0.0116 - lr: 4.7500e-04\n",
            "Epoch 65/500\n",
            "88/88 [==============================] - 29s 328ms/step - loss: 2.5563e-04 - mae: 0.0116 - lr: 4.7500e-04\n",
            "Epoch 66/500\n",
            "88/88 [==============================] - 33s 383ms/step - loss: 2.5679e-04 - mae: 0.0116 - lr: 4.7500e-04\n",
            "Epoch 67/500\n",
            "88/88 [==============================] - 34s 383ms/step - loss: 2.5865e-04 - mae: 0.0116 - lr: 4.7500e-04\n",
            "Epoch 68/500\n",
            "88/88 [==============================] - 31s 360ms/step - loss: 2.5671e-04 - mae: 0.0116 - lr: 4.5125e-04\n",
            "Epoch 69/500\n",
            "88/88 [==============================] - 31s 341ms/step - loss: 2.5864e-04 - mae: 0.0116 - lr: 4.5125e-04\n",
            "Epoch 70/500\n",
            "88/88 [==============================] - 36s 406ms/step - loss: 2.6195e-04 - mae: 0.0117 - lr: 4.5125e-04\n",
            "Epoch 71/500\n",
            "88/88 [==============================] - 34s 394ms/step - loss: 2.6424e-04 - mae: 0.0118 - lr: 4.5125e-04\n",
            "Epoch 72/500\n",
            "88/88 [==============================] - 31s 358ms/step - loss: 2.6775e-04 - mae: 0.0119 - lr: 4.5125e-04\n",
            "Epoch 73/500\n",
            "88/88 [==============================] - 36s 408ms/step - loss: 2.6750e-04 - mae: 0.0119 - lr: 4.2869e-04\n",
            "Epoch 74/500\n",
            "88/88 [==============================] - 32s 361ms/step - loss: 2.6962e-04 - mae: 0.0119 - lr: 4.2869e-04\n",
            "Epoch 75/500\n",
            "88/88 [==============================] - 40s 451ms/step - loss: 2.7068e-04 - mae: 0.0119 - lr: 4.2869e-04\n",
            "Epoch 76/500\n",
            "88/88 [==============================] - 36s 416ms/step - loss: 2.7295e-04 - mae: 0.0120 - lr: 4.2869e-04\n",
            "Epoch 77/500\n",
            "88/88 [==============================] - 31s 349ms/step - loss: 2.7458e-04 - mae: 0.0120 - lr: 4.2869e-04\n",
            "Epoch 78/500\n",
            "88/88 [==============================] - 32s 365ms/step - loss: 2.7058e-04 - mae: 0.0119 - lr: 4.0725e-04\n",
            "Epoch 79/500\n",
            "88/88 [==============================] - 32s 365ms/step - loss: 2.7097e-04 - mae: 0.0119 - lr: 4.0725e-04\n",
            "Epoch 80/500\n",
            "88/88 [==============================] - 31s 355ms/step - loss: 2.6797e-04 - mae: 0.0118 - lr: 4.0725e-04\n",
            "Epoch 81/500\n",
            "88/88 [==============================] - 34s 387ms/step - loss: 2.6828e-04 - mae: 0.0118 - lr: 4.0725e-04\n",
            "Epoch 82/500\n",
            "88/88 [==============================] - 36s 408ms/step - loss: 2.6836e-04 - mae: 0.0118 - lr: 4.0725e-04\n",
            "Epoch 83/500\n",
            "88/88 [==============================] - 38s 431ms/step - loss: 2.6128e-04 - mae: 0.0117 - lr: 3.8689e-04\n",
            "Epoch 84/500\n",
            "88/88 [==============================] - 37s 428ms/step - loss: 2.5941e-04 - mae: 0.0116 - lr: 3.8689e-04\n",
            "Epoch 85/500\n",
            "88/88 [==============================] - 37s 418ms/step - loss: 2.5766e-04 - mae: 0.0116 - lr: 3.8689e-04\n",
            "Epoch 86/500\n",
            "88/88 [==============================] - 35s 399ms/step - loss: 2.5504e-04 - mae: 0.0115 - lr: 3.8689e-04\n",
            "Epoch 87/500\n",
            "88/88 [==============================] - 33s 379ms/step - loss: 2.5516e-04 - mae: 0.0115 - lr: 3.8689e-04\n",
            "Epoch 88/500\n",
            "88/88 [==============================] - 35s 406ms/step - loss: 2.5023e-04 - mae: 0.0114 - lr: 3.6755e-04\n",
            "Epoch 89/500\n",
            "88/88 [==============================] - 33s 379ms/step - loss: 2.4841e-04 - mae: 0.0114 - lr: 3.6755e-04\n",
            "Epoch 90/500\n",
            "88/88 [==============================] - 28s 310ms/step - loss: 2.4641e-04 - mae: 0.0113 - lr: 3.6755e-04\n",
            "Epoch 91/500\n",
            "88/88 [==============================] - 32s 368ms/step - loss: 2.4749e-04 - mae: 0.0114 - lr: 3.6755e-04\n",
            "Epoch 92/500\n",
            "88/88 [==============================] - 33s 375ms/step - loss: 2.4641e-04 - mae: 0.0113 - lr: 3.6755e-04\n",
            "Epoch 93/500\n",
            "88/88 [==============================] - 36s 413ms/step - loss: 2.4614e-04 - mae: 0.0113 - lr: 3.6755e-04\n",
            "Epoch 94/500\n",
            "88/88 [==============================] - 38s 429ms/step - loss: 2.4287e-04 - mae: 0.0112 - lr: 3.4917e-04\n",
            "Epoch 95/500\n",
            "88/88 [==============================] - 30s 338ms/step - loss: 2.4007e-04 - mae: 0.0112 - lr: 3.4917e-04\n",
            "Epoch 96/500\n",
            "88/88 [==============================] - 31s 354ms/step - loss: 2.3810e-04 - mae: 0.0111 - lr: 3.4917e-04\n",
            "Epoch 97/500\n",
            "88/88 [==============================] - 34s 390ms/step - loss: 2.3844e-04 - mae: 0.0111 - lr: 3.4917e-04\n",
            "Epoch 98/500\n",
            "88/88 [==============================] - 33s 372ms/step - loss: 2.3644e-04 - mae: 0.0111 - lr: 3.4917e-04\n",
            "Epoch 99/500\n",
            "88/88 [==============================] - 31s 351ms/step - loss: 2.3800e-04 - mae: 0.0111 - lr: 3.4917e-04\n",
            "Epoch 100/500\n",
            "88/88 [==============================] - 31s 355ms/step - loss: 2.3866e-04 - mae: 0.0111 - lr: 3.4917e-04\n",
            "Epoch 101/500\n",
            "88/88 [==============================] - 29s 328ms/step - loss: 2.3674e-04 - mae: 0.0111 - lr: 3.4917e-04\n",
            "Epoch 102/500\n",
            "88/88 [==============================] - 30s 335ms/step - loss: 2.3097e-04 - mae: 0.0110 - lr: 3.3171e-04\n",
            "Epoch 103/500\n",
            "88/88 [==============================] - 30s 344ms/step - loss: 2.2991e-04 - mae: 0.0109 - lr: 3.3171e-04\n",
            "Epoch 104/500\n",
            "88/88 [==============================] - 33s 372ms/step - loss: 2.2659e-04 - mae: 0.0108 - lr: 3.3171e-04\n",
            "Epoch 105/500\n",
            "88/88 [==============================] - 35s 404ms/step - loss: 2.2436e-04 - mae: 0.0108 - lr: 3.3171e-04\n",
            "Epoch 106/500\n",
            "88/88 [==============================] - 37s 419ms/step - loss: 2.2567e-04 - mae: 0.0108 - lr: 3.3171e-04\n",
            "Epoch 107/500\n",
            "88/88 [==============================] - 37s 420ms/step - loss: 2.2523e-04 - mae: 0.0108 - lr: 3.3171e-04\n",
            "Epoch 108/500\n",
            "88/88 [==============================] - 34s 381ms/step - loss: 2.2552e-04 - mae: 0.0108 - lr: 3.3171e-04\n",
            "Epoch 109/500\n",
            "88/88 [==============================] - 37s 418ms/step - loss: 2.2507e-04 - mae: 0.0108 - lr: 3.3171e-04\n",
            "Epoch 110/500\n",
            "88/88 [==============================] - 37s 412ms/step - loss: 2.2126e-04 - mae: 0.0107 - lr: 3.1512e-04\n",
            "Epoch 111/500\n",
            "88/88 [==============================] - 32s 362ms/step - loss: 2.1952e-04 - mae: 0.0106 - lr: 3.1512e-04\n",
            "Epoch 112/500\n",
            "88/88 [==============================] - 36s 405ms/step - loss: 2.1692e-04 - mae: 0.0106 - lr: 3.1512e-04\n",
            "Epoch 113/500\n",
            "88/88 [==============================] - 30s 340ms/step - loss: 2.1725e-04 - mae: 0.0106 - lr: 3.1512e-04\n",
            "Epoch 114/500\n",
            "88/88 [==============================] - 37s 414ms/step - loss: 2.1555e-04 - mae: 0.0105 - lr: 3.1512e-04\n",
            "Epoch 115/500\n",
            "88/88 [==============================] - 36s 411ms/step - loss: 2.1488e-04 - mae: 0.0105 - lr: 3.1512e-04\n",
            "Epoch 116/500\n",
            "88/88 [==============================] - 36s 411ms/step - loss: 2.1512e-04 - mae: 0.0105 - lr: 3.1512e-04\n",
            "Epoch 117/500\n",
            "88/88 [==============================] - 34s 390ms/step - loss: 2.1592e-04 - mae: 0.0105 - lr: 3.1512e-04\n",
            "Epoch 118/500\n",
            "88/88 [==============================] - 32s 359ms/step - loss: 2.1061e-04 - mae: 0.0104 - lr: 2.9937e-04\n",
            "Epoch 119/500\n",
            "88/88 [==============================] - 34s 389ms/step - loss: 2.0872e-04 - mae: 0.0103 - lr: 2.9937e-04\n",
            "Epoch 120/500\n",
            "88/88 [==============================] - 35s 396ms/step - loss: 2.0785e-04 - mae: 0.0103 - lr: 2.9937e-04\n",
            "Epoch 121/500\n",
            "88/88 [==============================] - 32s 367ms/step - loss: 2.0719e-04 - mae: 0.0103 - lr: 2.9937e-04\n",
            "Epoch 122/500\n",
            "88/88 [==============================] - 33s 378ms/step - loss: 2.0543e-04 - mae: 0.0102 - lr: 2.9937e-04\n",
            "Epoch 123/500\n",
            "88/88 [==============================] - 31s 348ms/step - loss: 2.0548e-04 - mae: 0.0102 - lr: 2.9937e-04\n",
            "Epoch 124/500\n",
            "88/88 [==============================] - 34s 385ms/step - loss: 2.0705e-04 - mae: 0.0103 - lr: 2.9937e-04\n",
            "Epoch 125/500\n",
            "88/88 [==============================] - 34s 374ms/step - loss: 2.0587e-04 - mae: 0.0103 - lr: 2.9937e-04\n",
            "Epoch 126/500\n",
            "88/88 [==============================] - 33s 372ms/step - loss: 2.0525e-04 - mae: 0.0102 - lr: 2.9937e-04\n",
            "Epoch 127/500\n",
            "88/88 [==============================] - 33s 379ms/step - loss: 2.0112e-04 - mae: 0.0101 - lr: 2.8440e-04\n",
            "Epoch 128/500\n",
            "88/88 [==============================] - 31s 352ms/step - loss: 2.0069e-04 - mae: 0.0101 - lr: 2.8440e-04\n",
            "Epoch 129/500\n",
            "88/88 [==============================] - 33s 372ms/step - loss: 1.9919e-04 - mae: 0.0101 - lr: 2.8440e-04\n",
            "Epoch 130/500\n",
            "88/88 [==============================] - 31s 349ms/step - loss: 1.9692e-04 - mae: 0.0100 - lr: 2.8440e-04\n",
            "Epoch 131/500\n",
            "88/88 [==============================] - 34s 390ms/step - loss: 1.9715e-04 - mae: 0.0100 - lr: 2.8440e-04\n",
            "Epoch 132/500\n",
            "88/88 [==============================] - 33s 375ms/step - loss: 1.9640e-04 - mae: 0.0100 - lr: 2.8440e-04\n",
            "Epoch 133/500\n",
            "88/88 [==============================] - 36s 411ms/step - loss: 1.9702e-04 - mae: 0.0100 - lr: 2.8440e-04\n",
            "Epoch 134/500\n",
            "88/88 [==============================] - 38s 427ms/step - loss: 1.9564e-04 - mae: 0.0100 - lr: 2.8440e-04\n",
            "Epoch 135/500\n",
            "88/88 [==============================] - 32s 371ms/step - loss: 1.9676e-04 - mae: 0.0100 - lr: 2.8440e-04\n",
            "Epoch 136/500\n",
            "88/88 [==============================] - 32s 361ms/step - loss: 1.9324e-04 - mae: 0.0099 - lr: 2.7018e-04\n",
            "Epoch 137/500\n",
            "88/88 [==============================] - 37s 420ms/step - loss: 1.9355e-04 - mae: 0.0099 - lr: 2.7018e-04\n",
            "Epoch 138/500\n",
            "88/88 [==============================] - 34s 379ms/step - loss: 1.9146e-04 - mae: 0.0098 - lr: 2.7018e-04\n",
            "Epoch 139/500\n",
            "88/88 [==============================] - 36s 404ms/step - loss: 1.9071e-04 - mae: 0.0098 - lr: 2.7018e-04\n",
            "Epoch 140/500\n",
            "88/88 [==============================] - 34s 390ms/step - loss: 1.9023e-04 - mae: 0.0098 - lr: 2.7018e-04\n",
            "Epoch 141/500\n",
            "88/88 [==============================] - 31s 357ms/step - loss: 1.8993e-04 - mae: 0.0098 - lr: 2.7018e-04\n",
            "Epoch 142/500\n",
            "88/88 [==============================] - 32s 361ms/step - loss: 1.8461e-04 - mae: 0.0096 - lr: 2.5667e-04\n",
            "Epoch 143/500\n",
            "88/88 [==============================] - 30s 337ms/step - loss: 1.8566e-04 - mae: 0.0097 - lr: 2.5667e-04\n",
            "Epoch 144/500\n",
            "88/88 [==============================] - 35s 404ms/step - loss: 1.8499e-04 - mae: 0.0096 - lr: 2.5667e-04\n",
            "Epoch 145/500\n",
            "88/88 [==============================] - 34s 392ms/step - loss: 1.8365e-04 - mae: 0.0096 - lr: 2.5667e-04\n",
            "Epoch 146/500\n",
            "88/88 [==============================] - 35s 389ms/step - loss: 1.8428e-04 - mae: 0.0096 - lr: 2.5667e-04\n",
            "Epoch 147/500\n",
            "88/88 [==============================] - 35s 394ms/step - loss: 1.8254e-04 - mae: 0.0096 - lr: 2.5667e-04\n",
            "Epoch 148/500\n",
            "88/88 [==============================] - 37s 423ms/step - loss: 1.8079e-04 - mae: 0.0095 - lr: 2.4384e-04\n",
            "Epoch 149/500\n",
            "88/88 [==============================] - 34s 392ms/step - loss: 1.8225e-04 - mae: 0.0096 - lr: 2.4384e-04\n",
            "Epoch 150/500\n",
            "88/88 [==============================] - 31s 349ms/step - loss: 1.8036e-04 - mae: 0.0095 - lr: 2.4384e-04\n",
            "Epoch 151/500\n",
            "88/88 [==============================] - 32s 364ms/step - loss: 1.8014e-04 - mae: 0.0095 - lr: 2.4384e-04\n",
            "Epoch 152/500\n",
            "88/88 [==============================] - 36s 406ms/step - loss: 1.7926e-04 - mae: 0.0095 - lr: 2.4384e-04\n",
            "Epoch 153/500\n",
            "88/88 [==============================] - 32s 371ms/step - loss: 1.7910e-04 - mae: 0.0095 - lr: 2.4384e-04\n",
            "Epoch 154/500\n",
            "88/88 [==============================] - 34s 383ms/step - loss: 1.7653e-04 - mae: 0.0094 - lr: 2.3165e-04\n",
            "Epoch 155/500\n",
            "88/88 [==============================] - 31s 352ms/step - loss: 1.7690e-04 - mae: 0.0094 - lr: 2.3165e-04\n",
            "Epoch 156/500\n",
            "88/88 [==============================] - 29s 330ms/step - loss: 1.7564e-04 - mae: 0.0093 - lr: 2.3165e-04\n",
            "Epoch 157/500\n",
            "88/88 [==============================] - 36s 400ms/step - loss: 1.7429e-04 - mae: 0.0093 - lr: 2.3165e-04\n",
            "Epoch 158/500\n",
            "88/88 [==============================] - 32s 365ms/step - loss: 1.7498e-04 - mae: 0.0093 - lr: 2.3165e-04\n",
            "Epoch 159/500\n",
            "88/88 [==============================] - 37s 414ms/step - loss: 1.7450e-04 - mae: 0.0093 - lr: 2.3165e-04\n",
            "Epoch 160/500\n",
            "88/88 [==============================] - 37s 417ms/step - loss: 1.7197e-04 - mae: 0.0092 - lr: 2.2006e-04\n",
            "Epoch 161/500\n",
            "88/88 [==============================] - 37s 421ms/step - loss: 1.7268e-04 - mae: 0.0092 - lr: 2.2006e-04\n",
            "Epoch 162/500\n",
            "88/88 [==============================] - 35s 399ms/step - loss: 1.7227e-04 - mae: 0.0092 - lr: 2.2006e-04\n",
            "Epoch 163/500\n",
            "88/88 [==============================] - 36s 410ms/step - loss: 1.7165e-04 - mae: 0.0092 - lr: 2.2006e-04\n",
            "Epoch 164/500\n",
            "88/88 [==============================] - 33s 376ms/step - loss: 1.7128e-04 - mae: 0.0092 - lr: 2.2006e-04\n",
            "Epoch 165/500\n",
            "88/88 [==============================] - 36s 417ms/step - loss: 1.7135e-04 - mae: 0.0092 - lr: 2.2006e-04\n",
            "Epoch 166/500\n",
            "88/88 [==============================] - 35s 404ms/step - loss: 1.6869e-04 - mae: 0.0091 - lr: 2.0906e-04\n",
            "Epoch 167/500\n",
            "88/88 [==============================] - 35s 402ms/step - loss: 1.6924e-04 - mae: 0.0091 - lr: 2.0906e-04\n",
            "Epoch 168/500\n",
            "88/88 [==============================] - 35s 401ms/step - loss: 1.6862e-04 - mae: 0.0091 - lr: 2.0906e-04\n",
            "Epoch 169/500\n",
            "88/88 [==============================] - 36s 404ms/step - loss: 1.6830e-04 - mae: 0.0091 - lr: 2.0906e-04\n",
            "Epoch 170/500\n",
            "88/88 [==============================] - 35s 395ms/step - loss: 1.6861e-04 - mae: 0.0091 - lr: 2.0906e-04\n",
            "Epoch 171/500\n",
            "88/88 [==============================] - 32s 368ms/step - loss: 1.6820e-04 - mae: 0.0091 - lr: 2.0906e-04\n",
            "Epoch 172/500\n",
            "88/88 [==============================] - 35s 401ms/step - loss: 1.6620e-04 - mae: 0.0090 - lr: 1.9861e-04\n",
            "Epoch 173/500\n",
            "88/88 [==============================] - 36s 401ms/step - loss: 1.6603e-04 - mae: 0.0090 - lr: 1.9861e-04\n",
            "Epoch 174/500\n",
            "88/88 [==============================] - 37s 428ms/step - loss: 1.6646e-04 - mae: 0.0090 - lr: 1.9861e-04\n",
            "Epoch 175/500\n",
            "88/88 [==============================] - 31s 354ms/step - loss: 1.6738e-04 - mae: 0.0091 - lr: 1.9861e-04\n",
            "Epoch 176/500\n",
            "88/88 [==============================] - 36s 405ms/step - loss: 1.6635e-04 - mae: 0.0090 - lr: 1.9861e-04\n",
            "Epoch 177/500\n",
            "88/88 [==============================] - 35s 402ms/step - loss: 1.6402e-04 - mae: 0.0090 - lr: 1.8868e-04\n",
            "Epoch 178/500\n",
            "88/88 [==============================] - 29s 332ms/step - loss: 1.6499e-04 - mae: 0.0090 - lr: 1.8868e-04\n",
            "Epoch 179/500\n",
            "88/88 [==============================] - 32s 359ms/step - loss: 1.6544e-04 - mae: 0.0090 - lr: 1.8868e-04\n",
            "Epoch 180/500\n",
            "88/88 [==============================] - 29s 334ms/step - loss: 1.6535e-04 - mae: 0.0090 - lr: 1.8868e-04\n",
            "Epoch 181/500\n",
            "88/88 [==============================] - 30s 340ms/step - loss: 1.6508e-04 - mae: 0.0090 - lr: 1.8868e-04\n",
            "Epoch 182/500\n",
            "88/88 [==============================] - 31s 343ms/step - loss: 1.6549e-04 - mae: 0.0090 - lr: 1.8868e-04\n",
            "Epoch 183/500\n",
            "88/88 [==============================] - 34s 383ms/step - loss: 1.6392e-04 - mae: 0.0090 - lr: 1.7924e-04\n",
            "Epoch 184/500\n",
            "88/88 [==============================] - 32s 371ms/step - loss: 1.6402e-04 - mae: 0.0090 - lr: 1.7924e-04\n",
            "Epoch 185/500\n",
            "88/88 [==============================] - 32s 366ms/step - loss: 1.6485e-04 - mae: 0.0090 - lr: 1.7924e-04\n",
            "Epoch 186/500\n",
            "88/88 [==============================] - 28s 313ms/step - loss: 1.6616e-04 - mae: 0.0090 - lr: 1.7924e-04\n",
            "Epoch 187/500\n",
            "88/88 [==============================] - 33s 382ms/step - loss: 1.6639e-04 - mae: 0.0090 - lr: 1.7924e-04\n",
            "Epoch 188/500\n",
            "88/88 [==============================] - 31s 352ms/step - loss: 1.6499e-04 - mae: 0.0090 - lr: 1.7028e-04\n",
            "Epoch 189/500\n",
            "88/88 [==============================] - 36s 401ms/step - loss: 1.6571e-04 - mae: 0.0090 - lr: 1.7028e-04\n",
            "Epoch 190/500\n",
            "88/88 [==============================] - 33s 379ms/step - loss: 1.6691e-04 - mae: 0.0090 - lr: 1.7028e-04\n",
            "Epoch 191/500\n",
            "88/88 [==============================] - 33s 380ms/step - loss: 1.6782e-04 - mae: 0.0091 - lr: 1.7028e-04\n",
            "Epoch 192/500\n",
            "88/88 [==============================] - 33s 374ms/step - loss: 1.6740e-04 - mae: 0.0091 - lr: 1.7028e-04\n",
            "Epoch 193/500\n",
            "88/88 [==============================] - 35s 391ms/step - loss: 1.6606e-04 - mae: 0.0090 - lr: 1.6177e-04\n",
            "Epoch 194/500\n",
            "88/88 [==============================] - 37s 414ms/step - loss: 1.6738e-04 - mae: 0.0090 - lr: 1.6177e-04\n",
            "Epoch 195/500\n",
            "88/88 [==============================] - 31s 344ms/step - loss: 1.6902e-04 - mae: 0.0091 - lr: 1.6177e-04\n",
            "Epoch 196/500\n",
            "88/88 [==============================] - 32s 365ms/step - loss: 1.7121e-04 - mae: 0.0092 - lr: 1.6177e-04\n",
            "Epoch 197/500\n",
            "88/88 [==============================] - 37s 420ms/step - loss: 1.7218e-04 - mae: 0.0092 - lr: 1.6177e-04\n",
            "Epoch 198/500\n",
            "88/88 [==============================] - 31s 354ms/step - loss: 1.7381e-04 - mae: 0.0092 - lr: 1.5368e-04\n",
            "Epoch 199/500\n",
            "88/88 [==============================] - 36s 411ms/step - loss: 1.7658e-04 - mae: 0.0093 - lr: 1.5368e-04\n",
            "Epoch 200/500\n",
            "88/88 [==============================] - 33s 380ms/step - loss: 1.8117e-04 - mae: 0.0095 - lr: 1.5368e-04\n",
            "Epoch 201/500\n",
            "88/88 [==============================] - 34s 378ms/step - loss: 1.8365e-04 - mae: 0.0095 - lr: 1.5368e-04\n",
            "Epoch 202/500\n",
            "88/88 [==============================] - 35s 402ms/step - loss: 1.8694e-04 - mae: 0.0096 - lr: 1.5368e-04\n",
            "Epoch 203/500\n",
            "88/88 [==============================] - 35s 396ms/step - loss: 1.9600e-04 - mae: 0.0098 - lr: 1.4599e-04\n",
            "Epoch 204/500\n",
            "88/88 [==============================] - 33s 375ms/step - loss: 2.0514e-04 - mae: 0.0101 - lr: 1.4599e-04\n",
            "Epoch 205/500\n",
            "88/88 [==============================] - 33s 370ms/step - loss: 2.2395e-04 - mae: 0.0105 - lr: 1.4599e-04\n",
            "Epoch 206/500\n",
            "88/88 [==============================] - 33s 376ms/step - loss: 2.4896e-04 - mae: 0.0111 - lr: 1.4599e-04\n",
            "Epoch 207/500\n",
            "88/88 [==============================] - 33s 371ms/step - loss: 2.8098e-04 - mae: 0.0118 - lr: 1.4599e-04\n",
            "Epoch 208/500\n",
            "88/88 [==============================] - 39s 447ms/step - loss: 3.3524e-04 - mae: 0.0130 - lr: 1.3869e-04\n",
            "Epoch 209/500\n",
            "88/88 [==============================] - 31s 347ms/step - loss: 3.8619e-04 - mae: 0.0141 - lr: 1.3869e-04\n",
            "Epoch 210/500\n",
            "88/88 [==============================] - 32s 365ms/step - loss: 4.7960e-04 - mae: 0.0157 - lr: 1.3869e-04\n",
            "Epoch 211/500\n",
            "88/88 [==============================] - 37s 417ms/step - loss: 5.0464e-04 - mae: 0.0162 - lr: 1.3869e-04\n",
            "Epoch 212/500\n",
            "88/88 [==============================] - 33s 377ms/step - loss: 6.8644e-04 - mae: 0.0189 - lr: 1.3869e-04\n",
            "Epoch 213/500\n",
            "88/88 [==============================] - 34s 385ms/step - loss: 6.4381e-04 - mae: 0.0183 - lr: 1.3176e-04\n",
            "Epoch 214/500\n",
            "88/88 [==============================] - 32s 361ms/step - loss: 7.2004e-04 - mae: 0.0193 - lr: 1.3176e-04\n",
            "Epoch 215/500\n",
            "88/88 [==============================] - 31s 353ms/step - loss: 5.4474e-04 - mae: 0.0167 - lr: 1.3176e-04\n",
            "Epoch 216/500\n",
            "88/88 [==============================] - 37s 418ms/step - loss: 4.7237e-04 - mae: 0.0156 - lr: 1.3176e-04\n",
            "Epoch 217/500\n",
            "88/88 [==============================] - 35s 399ms/step - loss: 3.7772e-04 - mae: 0.0140 - lr: 1.3176e-04\n",
            "Epoch 218/500\n",
            "88/88 [==============================] - 36s 414ms/step - loss: 3.2055e-04 - mae: 0.0128 - lr: 1.2517e-04\n",
            "Epoch 219/500\n",
            "88/88 [==============================] - 38s 428ms/step - loss: 2.6931e-04 - mae: 0.0117 - lr: 1.2517e-04\n",
            "Epoch 220/500\n",
            "88/88 [==============================] - 35s 403ms/step - loss: 2.3805e-04 - mae: 0.0110 - lr: 1.2517e-04\n",
            "Epoch 221/500\n",
            "88/88 [==============================] - 32s 359ms/step - loss: 2.2081e-04 - mae: 0.0105 - lr: 1.2517e-04\n",
            "Epoch 222/500\n",
            "88/88 [==============================] - 31s 355ms/step - loss: 2.1055e-04 - mae: 0.0103 - lr: 1.2517e-04\n",
            "Epoch 223/500\n",
            "88/88 [==============================] - 33s 376ms/step - loss: 2.0799e-04 - mae: 0.0102 - lr: 1.1891e-04\n",
            "Epoch 224/500\n",
            "88/88 [==============================] - 32s 365ms/step - loss: 2.0118e-04 - mae: 0.0100 - lr: 1.1891e-04\n",
            "Epoch 225/500\n",
            "88/88 [==============================] - 33s 376ms/step - loss: 1.9771e-04 - mae: 0.0099 - lr: 1.1891e-04\n",
            "Epoch 226/500\n",
            "88/88 [==============================] - 32s 365ms/step - loss: 1.9674e-04 - mae: 0.0099 - lr: 1.1891e-04\n",
            "Epoch 227/500\n",
            "88/88 [==============================] - 34s 384ms/step - loss: 1.9856e-04 - mae: 0.0100 - lr: 1.1891e-04\n",
            "Epoch 228/500\n",
            "88/88 [==============================] - 30s 338ms/step - loss: 2.0474e-04 - mae: 0.0101 - lr: 1.1297e-04\n",
            "Epoch 229/500\n",
            "88/88 [==============================] - 33s 365ms/step - loss: 2.0433e-04 - mae: 0.0101 - lr: 1.1297e-04\n",
            "Epoch 230/500\n",
            "88/88 [==============================] - 34s 392ms/step - loss: 2.0620e-04 - mae: 0.0102 - lr: 1.1297e-04\n",
            "Epoch 231/500\n",
            "88/88 [==============================] - 37s 422ms/step - loss: 2.0950e-04 - mae: 0.0103 - lr: 1.1297e-04\n",
            "Epoch 232/500\n",
            "88/88 [==============================] - 31s 355ms/step - loss: 2.1382e-04 - mae: 0.0104 - lr: 1.1297e-04\n",
            "Epoch 233/500\n",
            "88/88 [==============================] - 33s 382ms/step - loss: 2.2368e-04 - mae: 0.0106 - lr: 1.0732e-04\n",
            "Epoch 234/500\n",
            "88/88 [==============================] - 34s 387ms/step - loss: 2.2286e-04 - mae: 0.0106 - lr: 1.0732e-04\n",
            "Epoch 235/500\n",
            "88/88 [==============================] - 32s 361ms/step - loss: 2.2485e-04 - mae: 0.0107 - lr: 1.0732e-04\n",
            "Epoch 236/500\n",
            "88/88 [==============================] - 36s 411ms/step - loss: 2.2747e-04 - mae: 0.0107 - lr: 1.0732e-04\n",
            "Epoch 237/500\n",
            "88/88 [==============================] - 32s 361ms/step - loss: 2.3126e-04 - mae: 0.0108 - lr: 1.0732e-04\n",
            "Epoch 238/500\n",
            "88/88 [==============================] - 37s 421ms/step - loss: 2.3935e-04 - mae: 0.0110 - lr: 1.0195e-04\n",
            "Epoch 239/500\n",
            "88/88 [==============================] - 35s 397ms/step - loss: 2.3412e-04 - mae: 0.0109 - lr: 1.0195e-04\n",
            "Epoch 240/500\n",
            "88/88 [==============================] - 31s 354ms/step - loss: 2.3057e-04 - mae: 0.0108 - lr: 1.0195e-04\n",
            "Epoch 241/500\n",
            "88/88 [==============================] - 33s 371ms/step - loss: 2.2797e-04 - mae: 0.0107 - lr: 1.0195e-04\n",
            "Epoch 242/500\n",
            "88/88 [==============================] - 31s 353ms/step - loss: 2.2647e-04 - mae: 0.0107 - lr: 1.0195e-04\n",
            "Epoch 243/500\n",
            "88/88 [==============================] - 32s 361ms/step - loss: 2.2890e-04 - mae: 0.0108 - lr: 9.6856e-05\n",
            "Epoch 244/500\n",
            "88/88 [==============================] - 32s 365ms/step - loss: 2.2071e-04 - mae: 0.0106 - lr: 9.6856e-05\n",
            "Epoch 245/500\n",
            "88/88 [==============================] - 34s 385ms/step - loss: 2.1598e-04 - mae: 0.0104 - lr: 9.6856e-05\n",
            "Epoch 246/500\n",
            "88/88 [==============================] - 29s 335ms/step - loss: 2.1291e-04 - mae: 0.0104 - lr: 9.6856e-05\n",
            "Epoch 247/500\n",
            "88/88 [==============================] - 33s 372ms/step - loss: 2.1187e-04 - mae: 0.0103 - lr: 9.6856e-05\n",
            "Epoch 248/500\n",
            "88/88 [==============================] - 36s 416ms/step - loss: 2.1510e-04 - mae: 0.0104 - lr: 9.2013e-05\n",
            "Epoch 249/500\n",
            "88/88 [==============================] - 30s 341ms/step - loss: 2.0962e-04 - mae: 0.0103 - lr: 9.2013e-05\n",
            "Epoch 250/500\n",
            "88/88 [==============================] - 32s 371ms/step - loss: 2.0591e-04 - mae: 0.0102 - lr: 9.2013e-05\n",
            "Epoch 251/500\n",
            "88/88 [==============================] - 34s 385ms/step - loss: 2.0434e-04 - mae: 0.0101 - lr: 9.2013e-05\n",
            "Epoch 252/500\n",
            "88/88 [==============================] - 32s 363ms/step - loss: 2.0375e-04 - mae: 0.0101 - lr: 9.2013e-05\n",
            "Epoch 253/500\n",
            "88/88 [==============================] - 34s 381ms/step - loss: 2.0674e-04 - mae: 0.0102 - lr: 8.7412e-05\n",
            "Epoch 254/500\n",
            "88/88 [==============================] - 35s 403ms/step - loss: 2.0192e-04 - mae: 0.0100 - lr: 8.7412e-05\n",
            "Epoch 255/500\n",
            "88/88 [==============================] - 41s 469ms/step - loss: 1.9885e-04 - mae: 0.0100 - lr: 8.7412e-05\n",
            "Epoch 256/500\n",
            "88/88 [==============================] - 44s 505ms/step - loss: 1.9793e-04 - mae: 0.0099 - lr: 8.7412e-05\n",
            "Epoch 257/500\n",
            "88/88 [==============================] - 42s 479ms/step - loss: 1.9791e-04 - mae: 0.0099 - lr: 8.7412e-05\n",
            "Epoch 258/500\n",
            "88/88 [==============================] - 41s 465ms/step - loss: 2.0144e-04 - mae: 0.0100 - lr: 8.3042e-05\n",
            "Epoch 259/500\n",
            "88/88 [==============================] - 40s 447ms/step - loss: 1.9776e-04 - mae: 0.0099 - lr: 8.3042e-05\n",
            "Epoch 260/500\n",
            "88/88 [==============================] - 52s 590ms/step - loss: 1.9510e-04 - mae: 0.0099 - lr: 8.3042e-05\n",
            "Epoch 261/500\n",
            "88/88 [==============================] - 41s 467ms/step - loss: 1.9438e-04 - mae: 0.0098 - lr: 8.3042e-05\n",
            "Epoch 262/500\n",
            "88/88 [==============================] - 38s 436ms/step - loss: 1.9474e-04 - mae: 0.0099 - lr: 8.3042e-05\n",
            "Epoch 263/500\n",
            "88/88 [==============================] - 39s 445ms/step - loss: 1.9793e-04 - mae: 0.0099 - lr: 7.8890e-05\n",
            "Epoch 264/500\n",
            "88/88 [==============================] - 32s 366ms/step - loss: 1.9344e-04 - mae: 0.0098 - lr: 7.8890e-05\n",
            "Epoch 265/500\n",
            "88/88 [==============================] - 36s 408ms/step - loss: 1.9151e-04 - mae: 0.0097 - lr: 7.8890e-05\n",
            "Epoch 266/500\n",
            "88/88 [==============================] - 39s 449ms/step - loss: 1.8997e-04 - mae: 0.0097 - lr: 7.8890e-05\n",
            "Epoch 267/500\n",
            "88/88 [==============================] - 35s 403ms/step - loss: 1.8939e-04 - mae: 0.0097 - lr: 7.8890e-05\n",
            "Epoch 268/500\n",
            "88/88 [==============================] - 34s 386ms/step - loss: 1.9200e-04 - mae: 0.0098 - lr: 7.4945e-05\n",
            "Epoch 269/500\n",
            "88/88 [==============================] - 35s 390ms/step - loss: 1.8726e-04 - mae: 0.0096 - lr: 7.4945e-05\n",
            "Epoch 270/500\n",
            "88/88 [==============================] - 36s 408ms/step - loss: 1.8556e-04 - mae: 0.0096 - lr: 7.4945e-05\n",
            "Epoch 271/500\n",
            "88/88 [==============================] - 33s 371ms/step - loss: 1.8486e-04 - mae: 0.0096 - lr: 7.4945e-05\n",
            "Epoch 272/500\n",
            "88/88 [==============================] - 34s 383ms/step - loss: 1.8510e-04 - mae: 0.0096 - lr: 7.4945e-05\n",
            "Epoch 273/500\n",
            "88/88 [==============================] - 36s 403ms/step - loss: 1.8761e-04 - mae: 0.0096 - lr: 7.1198e-05\n",
            "Epoch 274/500\n",
            "88/88 [==============================] - 32s 368ms/step - loss: 1.8489e-04 - mae: 0.0096 - lr: 7.1198e-05\n",
            "Epoch 275/500\n",
            "88/88 [==============================] - 35s 399ms/step - loss: 1.8360e-04 - mae: 0.0095 - lr: 7.1198e-05\n",
            "Epoch 276/500\n",
            "88/88 [==============================] - 34s 384ms/step - loss: 1.8267e-04 - mae: 0.0095 - lr: 7.1198e-05\n",
            "Epoch 277/500\n",
            "88/88 [==============================] - 30s 345ms/step - loss: 1.8226e-04 - mae: 0.0095 - lr: 7.1198e-05\n",
            "Epoch 278/500\n",
            "88/88 [==============================] - 38s 431ms/step - loss: 1.8427e-04 - mae: 0.0095 - lr: 6.7638e-05\n",
            "Epoch 279/500\n",
            "88/88 [==============================] - 32s 362ms/step - loss: 1.8097e-04 - mae: 0.0094 - lr: 6.7638e-05\n",
            "Epoch 280/500\n",
            "88/88 [==============================] - 33s 380ms/step - loss: 1.7925e-04 - mae: 0.0094 - lr: 6.7638e-05\n",
            "Epoch 281/500\n",
            "88/88 [==============================] - 36s 399ms/step - loss: 1.7801e-04 - mae: 0.0093 - lr: 6.7638e-05\n",
            "Epoch 282/500\n",
            "88/88 [==============================] - 31s 352ms/step - loss: 1.7807e-04 - mae: 0.0093 - lr: 6.7638e-05\n",
            "Epoch 283/500\n",
            "88/88 [==============================] - 35s 396ms/step - loss: 1.7983e-04 - mae: 0.0094 - lr: 6.4256e-05\n",
            "Epoch 284/500\n",
            "88/88 [==============================] - 32s 366ms/step - loss: 1.7673e-04 - mae: 0.0093 - lr: 6.4256e-05\n",
            "Epoch 285/500\n",
            "88/88 [==============================] - 34s 385ms/step - loss: 1.7542e-04 - mae: 0.0093 - lr: 6.4256e-05\n",
            "Epoch 286/500\n",
            "88/88 [==============================] - 36s 412ms/step - loss: 1.7479e-04 - mae: 0.0092 - lr: 6.4256e-05\n",
            "Epoch 287/500\n",
            "88/88 [==============================] - 37s 412ms/step - loss: 1.7441e-04 - mae: 0.0092 - lr: 6.4256e-05\n",
            "Epoch 288/500\n",
            "88/88 [==============================] - 36s 406ms/step - loss: 1.7632e-04 - mae: 0.0093 - lr: 6.1043e-05\n",
            "Epoch 289/500\n",
            "88/88 [==============================] - 34s 385ms/step - loss: 1.7373e-04 - mae: 0.0092 - lr: 6.1043e-05\n",
            "Epoch 290/500\n",
            "88/88 [==============================] - 37s 419ms/step - loss: 1.7240e-04 - mae: 0.0092 - lr: 6.1043e-05\n",
            "Epoch 291/500\n",
            "88/88 [==============================] - 34s 378ms/step - loss: 1.7200e-04 - mae: 0.0092 - lr: 6.1043e-05\n",
            "Epoch 292/500\n",
            "88/88 [==============================] - 34s 385ms/step - loss: 1.7225e-04 - mae: 0.0092 - lr: 6.1043e-05\n",
            "Epoch 293/500\n",
            "88/88 [==============================] - 34s 391ms/step - loss: 1.7367e-04 - mae: 0.0092 - lr: 5.7991e-05\n",
            "Epoch 294/500\n",
            "88/88 [==============================] - 36s 414ms/step - loss: 1.7136e-04 - mae: 0.0091 - lr: 5.7991e-05\n",
            "Epoch 295/500\n",
            "88/88 [==============================] - 37s 417ms/step - loss: 1.6990e-04 - mae: 0.0091 - lr: 5.7991e-05\n",
            "Epoch 296/500\n",
            "88/88 [==============================] - 33s 378ms/step - loss: 1.6965e-04 - mae: 0.0091 - lr: 5.7991e-05\n",
            "Epoch 297/500\n",
            "88/88 [==============================] - 36s 410ms/step - loss: 1.6930e-04 - mae: 0.0091 - lr: 5.7991e-05\n",
            "Epoch 298/500\n",
            "88/88 [==============================] - 37s 419ms/step - loss: 1.7096e-04 - mae: 0.0091 - lr: 5.5092e-05\n",
            "Epoch 299/500\n",
            "88/88 [==============================] - 33s 379ms/step - loss: 1.6864e-04 - mae: 0.0090 - lr: 5.5092e-05\n",
            "Epoch 300/500\n",
            "88/88 [==============================] - 33s 372ms/step - loss: 1.6738e-04 - mae: 0.0090 - lr: 5.5092e-05\n",
            "Epoch 301/500\n",
            "88/88 [==============================] - 35s 399ms/step - loss: 1.6660e-04 - mae: 0.0090 - lr: 5.5092e-05\n",
            "Epoch 302/500\n",
            "88/88 [==============================] - 33s 383ms/step - loss: 1.6686e-04 - mae: 0.0090 - lr: 5.5092e-05\n",
            "Epoch 303/500\n",
            "88/88 [==============================] - 38s 435ms/step - loss: 1.6802e-04 - mae: 0.0090 - lr: 5.2337e-05\n",
            "Epoch 304/500\n",
            "88/88 [==============================] - 35s 406ms/step - loss: 1.6579e-04 - mae: 0.0090 - lr: 5.2337e-05\n",
            "Epoch 305/500\n",
            "88/88 [==============================] - 33s 379ms/step - loss: 1.6468e-04 - mae: 0.0089 - lr: 5.2337e-05\n",
            "Epoch 306/500\n",
            "88/88 [==============================] - 35s 398ms/step - loss: 1.6401e-04 - mae: 0.0089 - lr: 5.2337e-05\n",
            "Epoch 307/500\n",
            "88/88 [==============================] - 35s 395ms/step - loss: 1.6459e-04 - mae: 0.0089 - lr: 5.2337e-05\n",
            "Epoch 308/500\n",
            "88/88 [==============================] - 34s 384ms/step - loss: 1.6598e-04 - mae: 0.0090 - lr: 4.9720e-05\n",
            "Epoch 309/500\n",
            "88/88 [==============================] - 40s 458ms/step - loss: 1.6419e-04 - mae: 0.0089 - lr: 4.9720e-05\n",
            "Epoch 310/500\n",
            "88/88 [==============================] - 31s 357ms/step - loss: 1.6315e-04 - mae: 0.0089 - lr: 4.9720e-05\n",
            "Epoch 311/500\n",
            "88/88 [==============================] - 33s 367ms/step - loss: 1.6280e-04 - mae: 0.0089 - lr: 4.9720e-05\n",
            "Epoch 312/500\n",
            "88/88 [==============================] - 35s 393ms/step - loss: 1.6278e-04 - mae: 0.0089 - lr: 4.9720e-05\n",
            "Epoch 313/500\n",
            "88/88 [==============================] - 34s 390ms/step - loss: 1.6314e-04 - mae: 0.0089 - lr: 4.9720e-05\n",
            "Epoch 314/500\n",
            "88/88 [==============================] - 30s 348ms/step - loss: 1.6368e-04 - mae: 0.0089 - lr: 4.9720e-05\n",
            "Epoch 315/500\n",
            "88/88 [==============================] - 37s 419ms/step - loss: 1.6463e-04 - mae: 0.0089 - lr: 4.9720e-05\n",
            "Epoch 316/500\n",
            "88/88 [==============================] - 35s 397ms/step - loss: 1.6494e-04 - mae: 0.0089 - lr: 4.9720e-05\n",
            "Epoch 317/500\n",
            "88/88 [==============================] - 34s 386ms/step - loss: 1.6534e-04 - mae: 0.0089 - lr: 4.9720e-05\n",
            "Epoch 318/500\n",
            "88/88 [==============================] - 31s 350ms/step - loss: 1.6640e-04 - mae: 0.0090 - lr: 4.7234e-05\n",
            "Epoch 319/500\n",
            "88/88 [==============================] - 39s 436ms/step - loss: 1.6450e-04 - mae: 0.0089 - lr: 4.7234e-05\n",
            "Epoch 320/500\n",
            "88/88 [==============================] - 25s 280ms/step - loss: 1.6329e-04 - mae: 0.0089 - lr: 4.7234e-05\n",
            "Epoch 321/500\n",
            "37/88 [===========>..................] - ETA: 9s - loss: 2.2741e-04 - mae: 0.0109"
          ]
        }
      ]
    },
    {
      "cell_type": "code",
      "source": [
        "print(capsnet_lstm.summary())"
      ],
      "metadata": {
        "id": "bRU73bByvkyi"
      },
      "execution_count": null,
      "outputs": []
    },
    {
      "cell_type": "markdown",
      "metadata": {
        "id": "69lcH5cAEnki"
      },
      "source": [
        "## Evaluating the forecast\n",
        "\n",
        "Now it is time to evaluate the performance of the forecast. For this we use the `compute_metrics` function:"
      ]
    },
    {
      "cell_type": "markdown",
      "metadata": {
        "id": "r7V0kTKHEnki"
      },
      "source": [
        "At this point only the model that will perform the forecast is ready but we still need to compute the actual forecast.\n",
        "\n"
      ]
    },
    {
      "cell_type": "markdown",
      "metadata": {
        "id": "rJtDyAD9Enkj"
      },
      "source": [
        "### Faster model forecasts\n",
        "\n",
        "\n",
        "- The dataset is windowed using `window_size` rather than `window_size + 1`\n",
        "- No shuffle should be used\n",
        "- No need to split the data into features and labels\n",
        "- A model is used to predict batches of the dataset"
      ]
    },
    {
      "cell_type": "markdown",
      "metadata": {
        "id": "kIyFlTEwEnkj"
      },
      "source": [
        "Now compute the actual forecast:"
      ]
    },
    {
      "cell_type": "code",
      "source": [
        "# Compute the forecast for all the series\n",
        "capsnet_lstm_forecast = model_forecast(capsnet_lstm, series_norm, G.WINDOW_SIZE).squeeze()\n",
        "\n",
        "# Slice the forecast to get only the predictions for the test set\n",
        "series_test_hat_capsnet_lstm = capsnet_lstm_forecast[-len(time_test):]\n",
        "\n",
        "# Reverse normalization\n",
        "series_test_hat_capsnet_lstm = reverse_normalization(series_test_hat_capsnet_lstm)"
      ],
      "metadata": {
        "id": "k2HUvtSTAY1n"
      },
      "execution_count": null,
      "outputs": []
    },
    {
      "cell_type": "code",
      "source": [
        "# Plot the forecast\n",
        "\n",
        "plt.figure(figsize=(10, 6))\n",
        "plot_series(np.arange( 1, len(time_test)+1 ), series_test)\n",
        "plot_series(np.arange( 1, len(time_test)+1 ), series_test_hat_capsnet_lstm)\n",
        "plt.ylabel(\"USD\")\n",
        "plt.xlabel(\"Time Step\")\n",
        "legend_drawn_flag = True\n",
        "plt.legend([\"Original Value (Gold)\", \"Predicted Value (Gold)\"], loc=0, frameon=legend_drawn_flag)\n",
        "plt.savefig(\"/content/gdrive/MyDrive/Forecasting_results/capsnet_lstm_forecasts_GOLD.svg\")"
      ],
      "metadata": {
        "id": "SmSKga7VAAKf"
      },
      "execution_count": null,
      "outputs": []
    },
    {
      "cell_type": "code",
      "execution_count": null,
      "metadata": {
        "id": "OmelEr6a3I70"
      },
      "outputs": [],
      "source": [
        "rmse_capsnet_lstm, mae_capsnet_lstm, mape_capsnet_lstm= compute_metrics(series_test, series_test_hat_capsnet_lstm)\n",
        "\n",
        "print(f\"rmse: {rmse_capsnet_lstm:.2f}, mae: {mae_capsnet_lstm:.2f} , mape: {mape_capsnet_lstm:.2f} for forecast\")"
      ]
    },
    {
      "cell_type": "code",
      "source": [
        "smape_capsnet_lstm = smape(series_test, series_test_hat_capsnet_lstm)\n",
        "print(f\"smape: {smape_capsnet_lstm:.2f} for forecast\")"
      ],
      "metadata": {
        "id": "TxkN6Lw8fJPn"
      },
      "execution_count": null,
      "outputs": []
    },
    {
      "cell_type": "code",
      "source": [
        "capsnet_lstm.save_weights('/content/gdrive/MyDrive/Saved_models/apsnet_lstm_Gold_weights.h5', overwrite=True, save_format=None, options=None)"
      ],
      "metadata": {
        "id": "D-RP0rcdVj3p"
      },
      "execution_count": null,
      "outputs": []
    },
    {
      "cell_type": "markdown",
      "source": [
        "## Baseline (LSTM, CNN-LSTM)"
      ],
      "metadata": {
        "id": "og2vNXLVgOeC"
      }
    },
    {
      "cell_type": "markdown",
      "source": [
        "### LSTM"
      ],
      "metadata": {
        "id": "DTXrC28w_ZGT"
      }
    },
    {
      "cell_type": "code",
      "source": [
        "# Build the model with the best hp.\n",
        "def LSTM():\n",
        "   \n",
        "    model = tf.keras.models.Sequential([\n",
        "          tf.keras.layers.LSTM(100, input_shape=[G.WINDOW_SIZE, 1]),\n",
        "          tf.keras.layers.Dense(1)\n",
        "    ])\n",
        "    learning_rate = 0.0005\n",
        "    model.compile(\n",
        "        optimizer=tf.keras.optimizers.Adam(learning_rate=learning_rate),\n",
        "        loss=tf.keras.losses.MeanSquaredError(),\n",
        "        metrics=[\"mae\"])\n",
        "\n",
        "    return model"
      ],
      "metadata": {
        "id": "ay7_NsM8fmKT"
      },
      "execution_count": null,
      "outputs": []
    },
    {
      "cell_type": "markdown",
      "source": [
        "Finding Epoch number"
      ],
      "metadata": {
        "id": "n298uO7ngm_X"
      }
    },
    {
      "cell_type": "markdown",
      "source": [
        "The number of epoch is 500 for LSTM"
      ],
      "metadata": {
        "id": "Jc5BRZZHhfUi"
      }
    },
    {
      "cell_type": "code",
      "source": [
        "# Train the model with the train dataset.\n",
        "with strategy.scope():\n",
        "  lstm = LSTM()\n",
        "# Fit with the entire dataset.\n",
        "history_lstm_train = lstm.fit(train_set, epochs=500,callbacks = [reduce_lr])"
      ],
      "metadata": {
        "id": "VveQt5UllpUD"
      },
      "execution_count": null,
      "outputs": []
    },
    {
      "cell_type": "code",
      "source": [
        "print(lstm.summary())"
      ],
      "metadata": {
        "id": "CUVX9mrUwRc_"
      },
      "execution_count": null,
      "outputs": []
    },
    {
      "cell_type": "code",
      "source": [
        "# Compute the forecast for all the series\n",
        "lstm_forecast = model_forecast(lstm, series_norm, G.WINDOW_SIZE).squeeze()\n",
        "\n",
        "# Slice the forecast to get only the predictions for the test set\n",
        "series_test_hat_lstm = lstm_forecast[-len(time_test):]\n",
        "series_test_hat_lstm = reverse_normalization(series_test_hat_lstm)"
      ],
      "metadata": {
        "id": "usOQ3cl6_rPV"
      },
      "execution_count": null,
      "outputs": []
    },
    {
      "cell_type": "code",
      "source": [
        "# Plot the forecast\n",
        "\n",
        "plt.figure(figsize=(10, 6))\n",
        "plot_series(np.arange( 1, len(time_test)+1 ), series_test)\n",
        "plot_series(np.arange( 1, len(time_test)+1 ), series_test_hat_lstm)\n",
        "plt.ylabel(\"USD\")\n",
        "plt.xlabel(\"Time Step\")\n",
        "legend_drawn_flag = True\n",
        "plt.legend([\"Original Value (Gold)\", \"Predicted Value (Gold)\"], loc=0, frameon=legend_drawn_flag)\n",
        "plt.savefig(\"/content/gdrive/MyDrive/Forecasting_results/lstm_forecasts_Gold.svg\")"
      ],
      "metadata": {
        "id": "B_fYj_UQJjl1"
      },
      "execution_count": null,
      "outputs": []
    },
    {
      "cell_type": "code",
      "source": [
        "rmse_lstm, mae_lstm, mape_lstm= compute_metrics(series_test, series_test_hat_lstm)\n",
        "\n",
        "print(f\"rmse: {rmse_lstm:.2f}, mae: {mae_lstm:.2f} , mape: {mape_lstm:.2f} for forecast\")"
      ],
      "metadata": {
        "id": "-U4UwUsf_Tp2"
      },
      "execution_count": null,
      "outputs": []
    },
    {
      "cell_type": "code",
      "source": [
        "smape_lstm = smape(series_test, series_test_hat_lstm)\n",
        "print(f\"smape: {smape_lstm:.2f} for forecast\")"
      ],
      "metadata": {
        "id": "6QZJDUsRf9_o"
      },
      "execution_count": null,
      "outputs": []
    },
    {
      "cell_type": "code",
      "source": [
        "# Save model\n",
        "lstm.save(\"/content/gdrive/MyDrive/Saved_models/lstm_Gold.h5\")"
      ],
      "metadata": {
        "id": "Rx-8-GmWqAbz"
      },
      "execution_count": null,
      "outputs": []
    },
    {
      "cell_type": "markdown",
      "source": [
        "### CNN-LSTM"
      ],
      "metadata": {
        "id": "EgSv9-FX_UEA"
      }
    },
    {
      "cell_type": "code",
      "source": [
        "def CNN_LSTM():\n",
        "   \n",
        "    model = tf.keras.models.Sequential([\n",
        "          tf.keras.layers.Conv1D(filters=512, kernel_size=2,\n",
        "                                 strides=1,\n",
        "                                 activation=\"relu\",\n",
        "                                 padding='causal',\n",
        "                                 input_shape=[G.WINDOW_SIZE, 1]),\n",
        "          tf.keras.layers.MaxPooling1D(pool_size=2, strides=1, padding=\"same\"),\n",
        "          tf.keras.layers.LSTM(100),\n",
        "          tf.keras.layers.Dense(1)\n",
        "    ])\n",
        "    learning_rate = 0.0005\n",
        "    model.compile(\n",
        "        optimizer=tf.keras.optimizers.Adam(learning_rate=learning_rate),\n",
        "        loss=tf.keras.losses.MeanSquaredError(),\n",
        "        metrics=[\"mae\"])\n",
        "\n",
        "    return model"
      ],
      "metadata": {
        "id": "Amka1E2csj3H"
      },
      "execution_count": null,
      "outputs": []
    },
    {
      "cell_type": "markdown",
      "source": [
        "Epoch number is 500."
      ],
      "metadata": {
        "id": "Y8uS607RIn-B"
      }
    },
    {
      "cell_type": "code",
      "source": [
        "# Train the model with the train dataset.\n",
        "with strategy.scope():\n",
        "  cnn_lstm = CNN_LSTM()\n",
        "# Fit with the entire dataset.\n",
        "history_cnn_lstm_train = cnn_lstm.fit(train_set, epochs=500,callbacks = [reduce_lr])"
      ],
      "metadata": {
        "id": "TM5Zy7HdmTgU"
      },
      "execution_count": null,
      "outputs": []
    },
    {
      "cell_type": "code",
      "source": [
        "print(cnn_lstm.summary())"
      ],
      "metadata": {
        "id": "JRRKJ2VswVHY"
      },
      "execution_count": null,
      "outputs": []
    },
    {
      "cell_type": "code",
      "source": [
        "# Compute the forecast for all the series\n",
        "cnn_lstm_forecast = model_forecast(cnn_lstm, series_norm, G.WINDOW_SIZE).squeeze()\n",
        "\n",
        "# Slice the forecast to get only the predictions for the test set\n",
        "series_test_hat_cnn_lstm = cnn_lstm_forecast[-len(time_test):]\n",
        "series_test_hat_cnn_lstm = reverse_normalization(series_test_hat_cnn_lstm)"
      ],
      "metadata": {
        "id": "54nm9-qaAU9o"
      },
      "execution_count": null,
      "outputs": []
    },
    {
      "cell_type": "code",
      "source": [
        "# Plot the forecast\n",
        "\n",
        "plt.figure(figsize=(10, 6))\n",
        "plot_series(np.arange( 1, len(time_test)+1 ), series_test)\n",
        "plot_series(np.arange( 1, len(time_test)+1 ), series_test_hat_cnn_lstm)\n",
        "plt.ylabel(\"USD\")\n",
        "plt.xlabel(\"Time Step\")\n",
        "legend_drawn_flag = True\n",
        "plt.legend([\"Original Value (Gold)\", \"Predicted Value (Gold)\"], loc=0, frameon=legend_drawn_flag)\n",
        "plt.savefig(\"/content/gdrive/MyDrive/Forecasting_results/cnn_lstm_forecasts_Gold.svg\")"
      ],
      "metadata": {
        "id": "aunNgSHlJ7A6"
      },
      "execution_count": null,
      "outputs": []
    },
    {
      "cell_type": "code",
      "source": [
        "rmse_cnn_lstm, mae_cnn_lstm, mape_cnn_lstm= compute_metrics(series_test, series_test_hat_cnn_lstm)\n",
        "\n",
        "print(f\"rmse: {rmse_cnn_lstm:.2f}, mae: {mae_cnn_lstm:.2f} , mape: {mape_cnn_lstm:.2f} for forecast\")"
      ],
      "metadata": {
        "id": "hW0VZCxdAVjO"
      },
      "execution_count": null,
      "outputs": []
    },
    {
      "cell_type": "code",
      "source": [
        "smape_cnn_lstm = smape(series_test, series_test_hat_cnn_lstm)\n",
        "print(f\"smape: {smape_cnn_lstm:.2f} for forecast\")"
      ],
      "metadata": {
        "id": "jRA9afd3gz4H"
      },
      "execution_count": null,
      "outputs": []
    },
    {
      "cell_type": "code",
      "source": [
        "cnn_lstm.save(\"/content/gdrive/MyDrive/Saved_models/cnn_lstm_Gold.h5\")"
      ],
      "metadata": {
        "id": "JWGGlYp9h3rG"
      },
      "execution_count": null,
      "outputs": []
    },
    {
      "cell_type": "code",
      "source": [
        "plt.figure(figsize=(30, 20))\n",
        "plt.rcParams['font.size'] = '16'\n",
        "plot_series(np.arange( 1, len(time_test)+1 ), series_test)\n",
        "plot_series(np.arange( 1, len(time_test)+1 ), series_test_hat_capsnet_lstm)\n",
        "plot_series(np.arange( 1, len(time_test)+1 ), series_test_hat_lstm)\n",
        "plot_series(np.arange( 1, len(time_test)+1 ), series_test_hat_cnn_lstm)\n",
        "plt.ylabel(\"USD\")\n",
        "plt.xlabel(\"Time Step\")\n",
        "legend_drawn_flag = True\n",
        "plt.legend([\"Original Value (Gold)\", \"Predicted Value (CapsNet-LSTM)\",\"Predicted Value (LSTM)\",\"Predicted Value (CNN-LSTM)\"], loc=0, frameon=legend_drawn_flag)\n",
        "plt.savefig(\"/content/gdrive/MyDrive/Forecasting_results/all_together_forecasts_Gold.svg\")"
      ],
      "metadata": {
        "id": "HV9A-uEqheTx"
      },
      "execution_count": null,
      "outputs": []
    },
    {
      "cell_type": "code",
      "source": [
        "print(rmse_capsnet_lstm)\n",
        "print(rmse_lstm)\n",
        "print(rmse_cnn_lstm)"
      ],
      "metadata": {
        "id": "i04gcQHRRnFh"
      },
      "execution_count": null,
      "outputs": []
    },
    {
      "cell_type": "code",
      "source": [
        "print(mae_capsnet_lstm)\n",
        "print(mae_lstm)\n",
        "print(mae_cnn_lstm)"
      ],
      "metadata": {
        "id": "udvSlzwBRmU7"
      },
      "execution_count": null,
      "outputs": []
    },
    {
      "cell_type": "code",
      "source": [
        "print(mape_capsnet_lstm)\n",
        "print(mape_lstm)\n",
        "print(mape_cnn_lstm)"
      ],
      "metadata": {
        "id": "LGqMIsnTRlQL"
      },
      "execution_count": null,
      "outputs": []
    },
    {
      "cell_type": "code",
      "source": [
        "print(smape_capsnet_lstm)\n",
        "print(smape_lstm)\n",
        "print(smape_cnn_lstm)"
      ],
      "metadata": {
        "id": "jMDy4xR7hq6X"
      },
      "execution_count": null,
      "outputs": []
    }
  ],
  "metadata": {
    "kernelspec": {
      "display_name": "Python 3",
      "language": "python",
      "name": "python3"
    },
    "language_info": {
      "codemirror_mode": {
        "name": "ipython",
        "version": 3
      },
      "file_extension": ".py",
      "mimetype": "text/x-python",
      "name": "python",
      "nbconvert_exporter": "python",
      "pygments_lexer": "ipython3",
      "version": "3.8.8"
    },
    "colab": {
      "provenance": [],
      "include_colab_link": true
    },
    "accelerator": "TPU",
    "gpuClass": "standard"
  },
  "nbformat": 4,
  "nbformat_minor": 0
}