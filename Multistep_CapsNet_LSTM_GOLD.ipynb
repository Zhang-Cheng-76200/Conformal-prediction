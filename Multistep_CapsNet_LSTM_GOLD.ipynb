{
  "cells": [
    {
      "cell_type": "markdown",
      "metadata": {
        "id": "view-in-github",
        "colab_type": "text"
      },
      "source": [
        "<a href=\"https://colab.research.google.com/github/Zhang-Cheng-76200/Multistep-forecasting-CapsNet-LSTM/blob/main/Multistep_CapsNet_LSTM_GOLD.ipynb\" target=\"_parent\"><img src=\"https://colab.research.google.com/assets/colab-badge.svg\" alt=\"Open In Colab\"/></a>"
      ]
    },
    {
      "cell_type": "markdown",
      "metadata": {
        "id": "G92ON7NXEnkW"
      },
      "source": [
        "# Multistage prediction with CAPSNET-LSTM (GOLD)"
      ]
    },
    {
      "cell_type": "code",
      "execution_count": 1,
      "metadata": {
        "id": "56XEQOGknrAk"
      },
      "outputs": [],
      "source": [
        "import keras.backend as K\n",
        "import tensorflow as tf\n",
        "\n",
        "import keras\n",
        "from keras import backend as K\n",
        "from keras import initializers, layers, models, optimizers, callbacks, utils\n",
        "from keras.models import load_model\n",
        "from keras.models import model_from_json\n",
        "\n",
        "from keras.initializers import glorot_uniform\n",
        "\n",
        "from keras.initializers import *\n",
        "from keras.layers import *\n",
        "from keras.models import *\n",
        "from keras.optimizers import *\n",
        "from keras.callbacks import EarlyStopping\n",
        "from keras.utils import *\n",
        "\n",
        "from keras import losses\n",
        "from keras.utils.io_utils import ask_to_proceed_with_overwrite\n",
        "from tensorflow.python.platform import tf_logging as logging\n",
        "\n",
        "import os\n",
        "import copy\n",
        "import pickle\n",
        "import pandas as pd\n",
        "import numpy as np\n",
        "import matplotlib.pyplot as plt\n",
        "from dataclasses import dataclass\n",
        "\n",
        "\n"
      ]
    },
    {
      "cell_type": "code",
      "source": [
        "import random"
      ],
      "metadata": {
        "id": "G6J7jPPbg3Ud"
      },
      "execution_count": 2,
      "outputs": []
    },
    {
      "cell_type": "code",
      "source": [
        "# Set seed\n",
        "from numpy.random import seed\n",
        "seed(1)\n",
        "tf.random.set_seed(1)"
      ],
      "metadata": {
        "id": "Xe-Rnq9QbQ7A"
      },
      "execution_count": 3,
      "outputs": []
    },
    {
      "cell_type": "code",
      "source": [
        "# If code is running on TPU\n",
        "resolver = tf.distribute.cluster_resolver.TPUClusterResolver(tpu='')\n",
        "tf.config.experimental_connect_to_cluster(resolver)\n",
        "# This is the TPU initialization code that has to be at the beginning.\n",
        "tf.tpu.experimental.initialize_tpu_system(resolver)\n",
        "print(\"All devices: \", tf.config.list_logical_devices('TPU'))"
      ],
      "metadata": {
        "id": "CnjuziNxZdvf",
        "colab": {
          "base_uri": "https://localhost:8080/"
        },
        "outputId": "9a52591a-14a4-4156-a1d7-046b9b43a89d"
      },
      "execution_count": 4,
      "outputs": [
        {
          "output_type": "stream",
          "name": "stdout",
          "text": [
            "All devices:  [LogicalDevice(name='/job:worker/replica:0/task:0/device:TPU:0', device_type='TPU'), LogicalDevice(name='/job:worker/replica:0/task:0/device:TPU:1', device_type='TPU'), LogicalDevice(name='/job:worker/replica:0/task:0/device:TPU:2', device_type='TPU'), LogicalDevice(name='/job:worker/replica:0/task:0/device:TPU:3', device_type='TPU'), LogicalDevice(name='/job:worker/replica:0/task:0/device:TPU:4', device_type='TPU'), LogicalDevice(name='/job:worker/replica:0/task:0/device:TPU:5', device_type='TPU'), LogicalDevice(name='/job:worker/replica:0/task:0/device:TPU:6', device_type='TPU'), LogicalDevice(name='/job:worker/replica:0/task:0/device:TPU:7', device_type='TPU')]\n"
          ]
        }
      ]
    },
    {
      "cell_type": "code",
      "source": [
        "strategy = tf.distribute.TPUStrategy(resolver)"
      ],
      "metadata": {
        "id": "eb5Za_rOMFVx"
      },
      "execution_count": 5,
      "outputs": []
    },
    {
      "cell_type": "code",
      "source": [
        "print(tf.__version__)"
      ],
      "metadata": {
        "id": "rA-JsdF3y5eE",
        "colab": {
          "base_uri": "https://localhost:8080/"
        },
        "outputId": "2e60be82-e2e2-4274-834c-632aaa6cc83b"
      },
      "execution_count": 6,
      "outputs": [
        {
          "output_type": "stream",
          "name": "stdout",
          "text": [
            "2.11.0\n"
          ]
        }
      ]
    },
    {
      "cell_type": "markdown",
      "metadata": {
        "id": "RBR7h1IgEnkc"
      },
      "source": [
        "# Parsing the raw data\n",
        "\n",
        "A couple of things to note:\n",
        "\n",
        "- There is no need to save the data points as numpy arrays, regular lists is fine.\n",
        "- The `time` list should contain every timestep (starting at zero), which is just a sequence of ordered numbers with the same length as the `series` list.\n",
        "- The values of the `series` should be of `float` type. You can use Python's built-in `float` function to ensure this."
      ]
    },
    {
      "cell_type": "markdown",
      "metadata": {
        "id": "GeP3JMZHEnkZ"
      },
      "source": [
        "Begin by looking at the structure of the xlsx file that contains the data:"
      ]
    },
    {
      "cell_type": "code",
      "source": [
        "from google.colab import drive\n",
        "drive.mount ('gdrive')"
      ],
      "metadata": {
        "id": "o4Vkj4Y8DYm7",
        "colab": {
          "base_uri": "https://localhost:8080/"
        },
        "outputId": "4f84ec5f-ba04-4ff0-9e66-261833d83bf8"
      },
      "execution_count": 7,
      "outputs": [
        {
          "output_type": "stream",
          "name": "stdout",
          "text": [
            "Mounted at gdrive\n"
          ]
        }
      ]
    },
    {
      "cell_type": "code",
      "source": [
        "GOLD_raw = pd.read_excel('/content/gdrive/MyDrive/Multistage/GOLD/GOLD.xlsx')\n",
        "GOLD_raw"
      ],
      "metadata": {
        "id": "vKv3toTHFgnh",
        "colab": {
          "base_uri": "https://localhost:8080/",
          "height": 424
        },
        "outputId": "0c65d2b8-cffe-4807-b27d-12f4b97dcad5"
      },
      "execution_count": 8,
      "outputs": [
        {
          "output_type": "execute_result",
          "data": {
            "text/plain": [
              "           Date    Price\n",
              "0    2007-10-01   742.50\n",
              "1    2007-10-02   731.00\n",
              "2    2007-10-03   730.25\n",
              "3    2007-10-04   725.50\n",
              "4    2007-10-05   737.00\n",
              "...         ...      ...\n",
              "3385 2020-09-21  1909.35\n",
              "3386 2020-09-22  1906.00\n",
              "3387 2020-09-23  1873.40\n",
              "3388 2020-09-24  1861.75\n",
              "3389 2020-09-25  1859.70\n",
              "\n",
              "[3390 rows x 2 columns]"
            ],
            "text/html": [
              "\n",
              "  <div id=\"df-15ac1ad5-6224-47bc-9378-73251df94fa9\">\n",
              "    <div class=\"colab-df-container\">\n",
              "      <div>\n",
              "<style scoped>\n",
              "    .dataframe tbody tr th:only-of-type {\n",
              "        vertical-align: middle;\n",
              "    }\n",
              "\n",
              "    .dataframe tbody tr th {\n",
              "        vertical-align: top;\n",
              "    }\n",
              "\n",
              "    .dataframe thead th {\n",
              "        text-align: right;\n",
              "    }\n",
              "</style>\n",
              "<table border=\"1\" class=\"dataframe\">\n",
              "  <thead>\n",
              "    <tr style=\"text-align: right;\">\n",
              "      <th></th>\n",
              "      <th>Date</th>\n",
              "      <th>Price</th>\n",
              "    </tr>\n",
              "  </thead>\n",
              "  <tbody>\n",
              "    <tr>\n",
              "      <th>0</th>\n",
              "      <td>2007-10-01</td>\n",
              "      <td>742.50</td>\n",
              "    </tr>\n",
              "    <tr>\n",
              "      <th>1</th>\n",
              "      <td>2007-10-02</td>\n",
              "      <td>731.00</td>\n",
              "    </tr>\n",
              "    <tr>\n",
              "      <th>2</th>\n",
              "      <td>2007-10-03</td>\n",
              "      <td>730.25</td>\n",
              "    </tr>\n",
              "    <tr>\n",
              "      <th>3</th>\n",
              "      <td>2007-10-04</td>\n",
              "      <td>725.50</td>\n",
              "    </tr>\n",
              "    <tr>\n",
              "      <th>4</th>\n",
              "      <td>2007-10-05</td>\n",
              "      <td>737.00</td>\n",
              "    </tr>\n",
              "    <tr>\n",
              "      <th>...</th>\n",
              "      <td>...</td>\n",
              "      <td>...</td>\n",
              "    </tr>\n",
              "    <tr>\n",
              "      <th>3385</th>\n",
              "      <td>2020-09-21</td>\n",
              "      <td>1909.35</td>\n",
              "    </tr>\n",
              "    <tr>\n",
              "      <th>3386</th>\n",
              "      <td>2020-09-22</td>\n",
              "      <td>1906.00</td>\n",
              "    </tr>\n",
              "    <tr>\n",
              "      <th>3387</th>\n",
              "      <td>2020-09-23</td>\n",
              "      <td>1873.40</td>\n",
              "    </tr>\n",
              "    <tr>\n",
              "      <th>3388</th>\n",
              "      <td>2020-09-24</td>\n",
              "      <td>1861.75</td>\n",
              "    </tr>\n",
              "    <tr>\n",
              "      <th>3389</th>\n",
              "      <td>2020-09-25</td>\n",
              "      <td>1859.70</td>\n",
              "    </tr>\n",
              "  </tbody>\n",
              "</table>\n",
              "<p>3390 rows × 2 columns</p>\n",
              "</div>\n",
              "      <button class=\"colab-df-convert\" onclick=\"convertToInteractive('df-15ac1ad5-6224-47bc-9378-73251df94fa9')\"\n",
              "              title=\"Convert this dataframe to an interactive table.\"\n",
              "              style=\"display:none;\">\n",
              "        \n",
              "  <svg xmlns=\"http://www.w3.org/2000/svg\" height=\"24px\"viewBox=\"0 0 24 24\"\n",
              "       width=\"24px\">\n",
              "    <path d=\"M0 0h24v24H0V0z\" fill=\"none\"/>\n",
              "    <path d=\"M18.56 5.44l.94 2.06.94-2.06 2.06-.94-2.06-.94-.94-2.06-.94 2.06-2.06.94zm-11 1L8.5 8.5l.94-2.06 2.06-.94-2.06-.94L8.5 2.5l-.94 2.06-2.06.94zm10 10l.94 2.06.94-2.06 2.06-.94-2.06-.94-.94-2.06-.94 2.06-2.06.94z\"/><path d=\"M17.41 7.96l-1.37-1.37c-.4-.4-.92-.59-1.43-.59-.52 0-1.04.2-1.43.59L10.3 9.45l-7.72 7.72c-.78.78-.78 2.05 0 2.83L4 21.41c.39.39.9.59 1.41.59.51 0 1.02-.2 1.41-.59l7.78-7.78 2.81-2.81c.8-.78.8-2.07 0-2.86zM5.41 20L4 18.59l7.72-7.72 1.47 1.35L5.41 20z\"/>\n",
              "  </svg>\n",
              "      </button>\n",
              "      \n",
              "  <style>\n",
              "    .colab-df-container {\n",
              "      display:flex;\n",
              "      flex-wrap:wrap;\n",
              "      gap: 12px;\n",
              "    }\n",
              "\n",
              "    .colab-df-convert {\n",
              "      background-color: #E8F0FE;\n",
              "      border: none;\n",
              "      border-radius: 50%;\n",
              "      cursor: pointer;\n",
              "      display: none;\n",
              "      fill: #1967D2;\n",
              "      height: 32px;\n",
              "      padding: 0 0 0 0;\n",
              "      width: 32px;\n",
              "    }\n",
              "\n",
              "    .colab-df-convert:hover {\n",
              "      background-color: #E2EBFA;\n",
              "      box-shadow: 0px 1px 2px rgba(60, 64, 67, 0.3), 0px 1px 3px 1px rgba(60, 64, 67, 0.15);\n",
              "      fill: #174EA6;\n",
              "    }\n",
              "\n",
              "    [theme=dark] .colab-df-convert {\n",
              "      background-color: #3B4455;\n",
              "      fill: #D2E3FC;\n",
              "    }\n",
              "\n",
              "    [theme=dark] .colab-df-convert:hover {\n",
              "      background-color: #434B5C;\n",
              "      box-shadow: 0px 1px 3px 1px rgba(0, 0, 0, 0.15);\n",
              "      filter: drop-shadow(0px 1px 2px rgba(0, 0, 0, 0.3));\n",
              "      fill: #FFFFFF;\n",
              "    }\n",
              "  </style>\n",
              "\n",
              "      <script>\n",
              "        const buttonEl =\n",
              "          document.querySelector('#df-15ac1ad5-6224-47bc-9378-73251df94fa9 button.colab-df-convert');\n",
              "        buttonEl.style.display =\n",
              "          google.colab.kernel.accessAllowed ? 'block' : 'none';\n",
              "\n",
              "        async function convertToInteractive(key) {\n",
              "          const element = document.querySelector('#df-15ac1ad5-6224-47bc-9378-73251df94fa9');\n",
              "          const dataTable =\n",
              "            await google.colab.kernel.invokeFunction('convertToInteractive',\n",
              "                                                     [key], {});\n",
              "          if (!dataTable) return;\n",
              "\n",
              "          const docLinkHtml = 'Like what you see? Visit the ' +\n",
              "            '<a target=\"_blank\" href=https://colab.research.google.com/notebooks/data_table.ipynb>data table notebook</a>'\n",
              "            + ' to learn more about interactive tables.';\n",
              "          element.innerHTML = '';\n",
              "          dataTable['output_type'] = 'display_data';\n",
              "          await google.colab.output.renderOutput(dataTable, element);\n",
              "          const docLink = document.createElement('div');\n",
              "          docLink.innerHTML = docLinkHtml;\n",
              "          element.appendChild(docLink);\n",
              "        }\n",
              "      </script>\n",
              "    </div>\n",
              "  </div>\n",
              "  "
            ]
          },
          "metadata": {},
          "execution_count": 8
        }
      ]
    },
    {
      "cell_type": "code",
      "source": [
        "series = GOLD_raw.iloc[:,1] # close price"
      ],
      "metadata": {
        "id": "vTg-wdf-Vpbi"
      },
      "execution_count": 10,
      "outputs": []
    },
    {
      "cell_type": "code",
      "source": [
        "time = []\n",
        "for i in range(0, len(series)):\n",
        "  time.append(i)"
      ],
      "metadata": {
        "id": "4P3cPCrbVpVl"
      },
      "execution_count": 11,
      "outputs": []
    },
    {
      "cell_type": "markdown",
      "source": [
        "A helper function to plot the time series:"
      ],
      "metadata": {
        "id": "XQh2IH8Tl0Le"
      }
    },
    {
      "cell_type": "code",
      "source": [
        "def plot_series(time, series, format=\"-\", start=0, end=None):\n",
        "    plt.plot(time[start:end], series[start:end], format)\n",
        "    plt.xlabel(\"Time\")\n",
        "    plt.ylabel(\"Value\")\n",
        "    plt.grid(True)"
      ],
      "metadata": {
        "id": "qMGyMzGelzEW"
      },
      "execution_count": 12,
      "outputs": []
    },
    {
      "cell_type": "markdown",
      "metadata": {
        "id": "tT1tB8J1Enkd"
      },
      "source": [
        "The next cell will use functions to compute the `time` and `series` and will save these as numpy arrays within the `G` dataclass. This cell will also plot the time series:"
      ]
    },
    {
      "cell_type": "code",
      "execution_count": 13,
      "metadata": {
        "id": "R8UYoZlKEnke",
        "colab": {
          "base_uri": "https://localhost:8080/",
          "height": 398
        },
        "outputId": "d63b1c5b-e4de-4edd-828e-238889451bf0"
      },
      "outputs": [
        {
          "output_type": "display_data",
          "data": {
            "text/plain": [
              "<Figure size 720x432 with 1 Axes>"
            ],
            "image/png": "[encoded data removed]"
          },
          "metadata": {
            "needs_background": "light"
          }
        }
      ],
      "source": [
        "# Save all \"global\" variables within the G class (G stands for global)\n",
        "@dataclass\n",
        "class G:\n",
        "    TIME = np.array(time)\n",
        "    SERIES = np.array(series)\n",
        "    SPLIT_TIME = int(len(series)*0.1)          # data splitting, the last 20% samples are test set.\n",
        "    WINDOW_SIZE = 50                                # sequence length\n",
        "    BATCH_SIZE = 32                                  # batch size\n",
        "\n",
        "plt.rcParams['font.size'] = '16'\n",
        "plt.figure(figsize=(10, 6))\n",
        "plot_series(G.TIME, G.SERIES)\n",
        "plt.ylabel(\"Index Value\")\n",
        "plt.xlabel(\"Time Step\")\n",
        "legend_drawn_flag = True\n",
        "plt.legend([\"GOLD\"], loc=0, frameon=legend_drawn_flag)\n",
        "plt.savefig(\"/content/gdrive/MyDrive/Multistage/GOLD/figures/GOLD_original.tif\")\n",
        "plt.show()"
      ]
    },
    {
      "cell_type": "code",
      "source": [
        "series_y = series[G.WINDOW_SIZE:]"
      ],
      "metadata": {
        "id": "yv7x0SedSqe7"
      },
      "execution_count": 14,
      "outputs": []
    },
    {
      "cell_type": "markdown",
      "metadata": {
        "id": "Y8U3ckcaEnke"
      },
      "source": [
        "# Processing the data\n",
        "\n",
        "The `train_test_split` and `windowed_dataset` functions:"
      ]
    },
    {
      "cell_type": "code",
      "execution_count": 15,
      "metadata": {
        "id": "3O7A_9XdEnkf"
      },
      "outputs": [],
      "source": [
        "def train_test_split(time, series, time_step=G.SPLIT_TIME):\n",
        "\n",
        "    time_train = time[:-G.SPLIT_TIME]\n",
        "    series_train = series[:-G.SPLIT_TIME]\n",
        "    time_test = time[-G.SPLIT_TIME:]\n",
        "    series_test = series[-G.SPLIT_TIME:]\n",
        "\n",
        "    return time_train, series_train, time_test, series_test\n",
        "\n"
      ]
    },
    {
      "cell_type": "code",
      "source": [
        "time_train, series_train, time_test, series_test = train_test_split(G.TIME, series)"
      ],
      "metadata": {
        "id": "taG0Fph1-iWV"
      },
      "execution_count": 16,
      "outputs": []
    },
    {
      "cell_type": "code",
      "source": [
        "# Split the dataset\n",
        "time_train, series_train, time_test, series_test = train_test_split(G.TIME, G.SERIES)\n"
      ],
      "metadata": {
        "id": "zSkk4RCdC5pX"
      },
      "execution_count": 17,
      "outputs": []
    },
    {
      "cell_type": "code",
      "source": [
        "def min_max_normalization(series):\n",
        "  series = (series - min(series[:-G.SPLIT_TIME]))/(max(series[:-G.SPLIT_TIME]) - min(series[:-G.SPLIT_TIME]))\n",
        "  return series"
      ],
      "metadata": {
        "id": "aRkvaM6AauAy"
      },
      "execution_count": 18,
      "outputs": []
    },
    {
      "cell_type": "code",
      "source": [
        "\n",
        "series_norm = min_max_normalization(G.SERIES)\n",
        "\n"
      ],
      "metadata": {
        "id": "UR8bYse7ZC-G"
      },
      "execution_count": 19,
      "outputs": []
    },
    {
      "cell_type": "code",
      "source": [
        "# Create train_set, val_set, and train_val_set. train_set and val_set are used for hyper=parameters tuning, and train_val_set is used for training.\n",
        "def windowed_dataset_one_step(series, window_size=G.WINDOW_SIZE, batch_size=G.BATCH_SIZE):\n",
        "    ds = tf.data.Dataset.from_tensor_slices(series)\n",
        "    ds = ds.window(window_size + 1, shift=1, drop_remainder=True)\n",
        "    ds = ds.flat_map(lambda w: w.batch(window_size + 1))\n",
        "    ds = ds.map(lambda w: (w[:-1], w[-1]))\n",
        "    ds = ds.batch(batch_size).prefetch(1)\n",
        "    return ds\n"
      ],
      "metadata": {
        "id": "Uix6YCADP4wK"
      },
      "execution_count": 20,
      "outputs": []
    },
    {
      "cell_type": "code",
      "source": [
        "def windowed_dataset_ten_step(series, window_size=G.WINDOW_SIZE, batch_size=G.BATCH_SIZE):\n",
        "    ds = tf.data.Dataset.from_tensor_slices(series)\n",
        "    ds = ds.window(window_size + 10, shift=1, drop_remainder=True)\n",
        "    ds = ds.flat_map(lambda w: w.batch(window_size + 10))\n",
        "    ds = ds.map(lambda w: (w[:-10], w[-10:]))\n",
        "    ds = ds.batch(batch_size).prefetch(1)\n",
        "    return ds\n"
      ],
      "metadata": {
        "id": "n5qqpYVOJHTt"
      },
      "execution_count": 21,
      "outputs": []
    },
    {
      "cell_type": "code",
      "source": [
        "train_set_ten_step = windowed_dataset_ten_step(series_norm[:-G.SPLIT_TIME], window_size=G.WINDOW_SIZE, batch_size=G.BATCH_SIZE)"
      ],
      "metadata": {
        "id": "DQVN3Xb6I57Q",
        "colab": {
          "base_uri": "https://localhost:8080/"
        },
        "outputId": "39cfe725-9602-4841-89bd-6dd6c12719f5"
      },
      "execution_count": 22,
      "outputs": [
        {
          "output_type": "stream",
          "name": "stderr",
          "text": [
            "WARNING:tensorflow:From /usr/local/lib/python3.9/dist-packages/tensorflow/python/autograph/pyct/static_analysis/liveness.py:83: Analyzer.lamba_check (from tensorflow.python.autograph.pyct.static_analysis.liveness) is deprecated and will be removed after 2023-09-23.\n",
            "Instructions for updating:\n",
            "Lambda fuctions will be no more assumed to be used in the statement where they are used, or at least in the same block. https://github.com/tensorflow/tensorflow/issues/56089\n"
          ]
        }
      ]
    },
    {
      "cell_type": "code",
      "source": [
        "train_set_one_step = windowed_dataset_one_step(series_norm[:-G.SPLIT_TIME], window_size=G.WINDOW_SIZE, batch_size=G.BATCH_SIZE)"
      ],
      "metadata": {
        "id": "q3cizHtfmNpq"
      },
      "execution_count": 23,
      "outputs": []
    },
    {
      "cell_type": "code",
      "execution_count": 24,
      "metadata": {
        "id": "1Y12KaJYEnki"
      },
      "outputs": [],
      "source": [
        "def compute_metrics(true_series, forecast):\n",
        "    \n",
        "    mse = tf.keras.metrics.mean_squared_error(true_series, forecast).numpy()   \n",
        "    rmse = tf.math.sqrt(mse).numpy()\n",
        "    mae = tf.keras.metrics.mean_absolute_error(true_series, forecast).numpy()\n",
        "    mape = tf.keras.metrics.mean_absolute_percentage_error(true_series, forecast).numpy()\n",
        "    return rmse, mae, mape"
      ]
    },
    {
      "cell_type": "code",
      "execution_count": 25,
      "metadata": {
        "id": "4XwGrf-A_wF0"
      },
      "outputs": [],
      "source": [
        "def model_forecast(model, series, window_size):\n",
        "  ds = tf.data.Dataset.from_tensor_slices(series)\n",
        "  ds = ds.window(window_size, shift=1, drop_remainder=True)\n",
        "  ds = ds.flat_map(lambda w: w.batch(window_size))\n",
        "  ds = ds.batch(32).prefetch(1)\n",
        "  forecast = model.predict(ds)\n",
        "  return forecast"
      ]
    },
    {
      "cell_type": "code",
      "source": [
        "def reverse_normalization(series, series_train):\n",
        "  series = series * (max(series_train) - min(series_train)) + min(series_train)\n",
        "  return series"
      ],
      "metadata": {
        "id": "xG8kJO3blWny"
      },
      "execution_count": 26,
      "outputs": []
    },
    {
      "cell_type": "code",
      "source": [
        "# Prepare callback\n",
        "\n",
        "reduce_lr = tf.keras.callbacks.ReduceLROnPlateau(monitor='mae', factor=0.95,patience=5)"
      ],
      "metadata": {
        "id": "LxTHiYBFhIhF"
      },
      "execution_count": 27,
      "outputs": []
    },
    {
      "cell_type": "code",
      "source": [
        "input_shape = (G.WINDOW_SIZE, 1)"
      ],
      "metadata": {
        "id": "uh3dZo2eVk0K"
      },
      "execution_count": 28,
      "outputs": []
    },
    {
      "cell_type": "code",
      "source": [
        "K.clear_session()"
      ],
      "metadata": {
        "id": "-dD6KzvejX_o"
      },
      "execution_count": 29,
      "outputs": []
    },
    {
      "cell_type": "markdown",
      "metadata": {
        "id": "E6stIQIqEnkh"
      },
      "source": [
        "# Compiling the model\n"
      ]
    },
    {
      "cell_type": "markdown",
      "metadata": {
        "id": "GaMon77MEnkf"
      },
      "source": [
        "## Defining the model architecture (CapsNet-LSTM)\n"
      ]
    },
    {
      "cell_type": "code",
      "source": [
        "# Squash function\n",
        "\n",
        "def squash(vectors, axis=-1):\n",
        "    \"\"\"\n",
        "    The non-linear activation used in Capsule. It drives the length of a large vector to near 1 and small vector to 0\n",
        "    :param vectors: some vectors to be squashed, N-dim tensor\n",
        "    :param axis: the axis to squash\n",
        "    :return: a Tensor with same shape as input vectors\n",
        "    \"\"\"\n",
        "    s_squared_norm = K.sum(K.square(vectors), axis, keepdims=True) \n",
        "    scale = s_squared_norm / (1 + s_squared_norm) / K.sqrt(s_squared_norm + K.epsilon())\n",
        "    return scale * vectors\n"
      ],
      "metadata": {
        "id": "NAPDHkls8FGx"
      },
      "execution_count": 30,
      "outputs": []
    },
    {
      "cell_type": "code",
      "source": [
        "# Dynamic routing (layer)\n",
        "#    The capsule layer. It is similar to Dense layer. Dense layer has `in_num` inputs, each is a scalar, the output of the \n",
        "#    neuron from the former layer, and it has `out_num` output neurons. CapsuleLayer just expand the output of the neuron\n",
        "#    from scalar to vector. So its input shape = [None, input_num_capsule, input_dim_capsule] and output shape = \\\n",
        "#    [None, num_capsule, dim_capsule]. For Dense Layer, input_dim_capsule = dim_capsule = 1.\n",
        "\n",
        "#    :param dim_capsule: dimension of the output vectors of the capsules in this layer\n",
        "#    :param routings: number of iterations for the routing algorithm \n",
        "\n",
        "#@tf.keras.utils.register_keras_serializable() should use this line next time when need to save the model with a custom layer.\n",
        "class Routing(keras.layers.Layer):\n",
        "\n",
        "    def __init__(self, dim_capsule = 32 , routings=3, kernel_initializer='glorot_uniform'):\n",
        "        super(Routing, self).__init__()\n",
        "        self.dim_capsule = dim_capsule\n",
        "        self.routings = routings\n",
        "        self.kernel_initializer = initializers.get(kernel_initializer)\n",
        "\n",
        "    def build(self, input_shape):\n",
        "        # build tansform matrix which can convert one primary cap to a vector with the same order as the digit cap.\n",
        "        # assert len(input_shape) >= 3  # The input Tensor should have shape=[None, input_num_capsule, input_dim_capsule]\n",
        "        self.input_num_capsule = input_shape[1]\n",
        "        self.input_dim_capsule = input_shape[2]\n",
        "        \n",
        "        # Transform matrix\n",
        "       \n",
        "        self.W = self.add_weight(shape=[self.input_num_capsule,self.dim_capsule, self.input_dim_capsule],initializer=self.kernel_initializer,name='W')\n",
        "\n",
        "    def call(self, inputs): #training=None\n",
        "        # inputs.shape=[input_num_capsule, input_dim_capsule]\n",
        "        # inputs_expand.shape=[input_num_capsule, input_dim_capsule, 1]\n",
        "        inputs_expand = K.expand_dims(inputs, -1)    \n",
        "\n",
        "        # Compute `inputs * W` by scanning inputs_tiled on dimension 0.\n",
        "        # x.shape=[None, input_num_capsule, input_dim_capsule, 1]\n",
        "        # W.shape=[input_num_capsule, dim_capsule, input_dim_capsule]\n",
        "        # Regard the first dimension as `batch` dimension,\n",
        "        # then matmul: [dim_capsule, input_dim_capsule] x [input_dim_capsule, 1] -> [dim_capsule].\n",
        "        # inputs_hat.shape = [None, input_num_capsule, dim_capsule, 1]     \n",
        "          \n",
        "        inputs_hat = K.map_fn(lambda x: K.batch_dot(self.W, x, [2, 1]), elems=inputs_expand) \n",
        "\n",
        "        inputs_hat = K.squeeze(inputs_hat, axis = -1)\n",
        "        # inputs_hat.shape = [None, input_num_capsule, dim_capsule]\n",
        "       \n",
        "        # Begin: Routing algorithm ---------------------------------------------------------------------#\n",
        "        # The prior for coupling coefficient, initialized as zeros.\n",
        "        # b.shape = [None, self.input_num_capsule].\n",
        "        b = tf.zeros(shape=[K.shape(inputs_hat)[0], self.input_num_capsule])\n",
        "        \n",
        "        assert self.routings > 0\n",
        "        for i in range(self.routings):\n",
        "            # c.shape=[batch_size, input_num_capsule]\n",
        "            c = tf.nn.softmax(b, axis=-1)\n",
        "\n",
        "            # c.shape =  [batch_size, input_num_capsule]\n",
        "            # inputs_hat.shape=[batch_size, input_num_capsule, dim_capsule]\n",
        "            # The first dimensions as `batch` dimension,\n",
        "            # then matmal: [input_num_capsule] x [input_num_capsule, dim_capsule] -> [dim_capsule].\n",
        "            # outputs.shape=[None, dim_capsule]\n",
        "            \n",
        "            #outputs = squash(K.batch_dot(c, inputs_hat, [1, 1])) \n",
        "            outputs = K.batch_dot(c, inputs_hat, [1, 1])\n",
        "\n",
        "            if i < self.routings - 1:\n",
        "                # outputs.shape =  [None, dim_capsule]\n",
        "                # inputs_hat.shape=[None, input_num_capsule, dim_capsule]\n",
        "                # The first dimension as `batch` dimension,\n",
        "                # then matmal: [dim_capsule] x [input_num_capsule, dim_capsule]^T -> [input_num_capsule].\n",
        "                # b.shape=[batch_size, input_num_capsule]\n",
        "                b += K.batch_dot(outputs, inputs_hat, [1, 2])\n",
        "       \n",
        "        # End: Routing algorithm -----------------------------------------------------------------------#\n",
        "\n",
        "        return outputs\n",
        "\n",
        "    def compute_output_shape(self, input_shape):\n",
        "        return tuple([None, self.dim_capsule])\n",
        "\n",
        "    def get_config(self):\n",
        "        config = super().get_config()\n",
        "        config.update({\n",
        "            \"dim_capsule\": self.dim_capsule,\n",
        "            \"routings\": self.routings,\n",
        "            \"kernel_initializer\": self.kernel_initializer,\n",
        "        })\n",
        "        return config"
      ],
      "metadata": {
        "id": "n2SUkh9LAFqP"
      },
      "execution_count": 31,
      "outputs": []
    },
    {
      "cell_type": "markdown",
      "source": [
        "### Model training"
      ],
      "metadata": {
        "id": "HAgEm3Ue4PNF"
      }
    },
    {
      "cell_type": "code",
      "source": [
        "# Build the model with the default setting. LSTM units = 200, Convolution filters = 256, kernel size = 2, stride = 1, learning rate = 0.0005\n",
        "def CapsNet_LSTM():\n",
        "   \n",
        "    input = tf.keras.layers.Input(shape=input_shape)\n",
        "      \n",
        "    # First layer\n",
        "    conv1d_1 = tf.keras.layers.Conv1D(filters=256, kernel_size=2, strides=1, padding='causal', activation='relu', name = 'conv1d_1')(input)\n",
        "          \n",
        "    # Primary caps\n",
        "  \n",
        "    unsquashed_caps = tf.keras.layers.Reshape((G.WINDOW_SIZE, 32, 8))(conv1d_1)\n",
        "    squashed_caps = tf.keras.layers.Lambda(squash)(unsquashed_caps)\n",
        "\n",
        "    # Digit caps\n",
        "     \n",
        "    digit_caps = tf.keras.layers.TimeDistributed(Routing(dim_capsule = 256, routings = 3))(squashed_caps)\n",
        "\n",
        "    # LSTM layer\n",
        "    lstm = tf.keras.layers.LSTM(200)(digit_caps)\n",
        "\n",
        "    # Dense layer\n",
        "\n",
        "    output = tf.keras.layers.Dense(10)(lstm)\n",
        "\n",
        "    model = keras.Model(inputs=input, outputs=output, name=\"capsnet_lstm\")\n",
        "\n",
        "    learning_rate = 0.0005\n",
        "    model.compile(\n",
        "        optimizer=tf.keras.optimizers.Adam(learning_rate = learning_rate),\n",
        "        loss=tf.keras.losses.MeanSquaredError(),\n",
        "        metrics=[\"mae\"])\n",
        "\n",
        "    return model"
      ],
      "metadata": {
        "id": "fqOfqDbaUhsm"
      },
      "execution_count": 32,
      "outputs": []
    },
    {
      "cell_type": "markdown",
      "source": [
        "epoch number for CapsNet-LSTM is 500."
      ],
      "metadata": {
        "id": "hMTX52gu5Jmg"
      }
    },
    {
      "cell_type": "code",
      "source": [
        "\n",
        "with strategy.scope():\n",
        "  capsnet_lstm = CapsNet_LSTM()\n",
        "    # Fit with the entire dataset.\n",
        "capsnet_lstm.fit(train_set_ten_step, epochs=200,callbacks = [reduce_lr])  \n"
      ],
      "metadata": {
        "id": "Bz4kTlU3C_r_",
        "colab": {
          "base_uri": "https://localhost:8080/"
        },
        "outputId": "b9f86521-23f2-4f2d-f0e0-17a4380a022e"
      },
      "execution_count": 33,
      "outputs": [
        {
          "output_type": "stream",
          "name": "stderr",
          "text": [
            "WARNING:tensorflow:From /usr/local/lib/python3.9/dist-packages/keras/backend.py:7104: calling map_fn (from tensorflow.python.ops.map_fn) with dtype is deprecated and will be removed in a future version.\n",
            "Instructions for updating:\n",
            "Use fn_output_signature instead\n"
          ]
        },
        {
          "output_type": "stream",
          "name": "stdout",
          "text": [
            "Epoch 1/200\n",
            "94/94 [==============================] - 12s 50ms/step - loss: 0.0102 - mae: 0.0826 - lr: 5.0000e-04\n",
            "Epoch 2/200\n",
            "94/94 [==============================] - 3s 29ms/step - loss: 0.0587 - mae: 0.1729 - lr: 5.0000e-04\n",
            "Epoch 3/200\n",
            "94/94 [==============================] - 3s 30ms/step - loss: 0.0643 - mae: 0.2008 - lr: 5.0000e-04\n",
            "Epoch 4/200\n",
            "94/94 [==============================] - 3s 33ms/step - loss: 0.0506 - mae: 0.1866 - lr: 5.0000e-04\n",
            "Epoch 5/200\n",
            "94/94 [==============================] - 3s 29ms/step - loss: 0.0358 - mae: 0.1562 - lr: 5.0000e-04\n",
            "Epoch 6/200\n",
            "94/94 [==============================] - 3s 30ms/step - loss: 0.0235 - mae: 0.1257 - lr: 5.0000e-04\n",
            "Epoch 7/200\n",
            "94/94 [==============================] - 3s 30ms/step - loss: 0.0139 - mae: 0.0952 - lr: 4.7500e-04\n",
            "Epoch 8/200\n",
            "94/94 [==============================] - 3s 29ms/step - loss: 0.0074 - mae: 0.0670 - lr: 4.7500e-04\n",
            "Epoch 9/200\n",
            "94/94 [==============================] - 3s 29ms/step - loss: 0.0041 - mae: 0.0485 - lr: 4.7500e-04\n",
            "Epoch 10/200\n",
            "94/94 [==============================] - 3s 29ms/step - loss: 0.0026 - mae: 0.0378 - lr: 4.7500e-04\n",
            "Epoch 11/200\n",
            "94/94 [==============================] - 3s 29ms/step - loss: 0.0019 - mae: 0.0321 - lr: 4.7500e-04\n",
            "Epoch 12/200\n",
            "94/94 [==============================] - 3s 30ms/step - loss: 0.0016 - mae: 0.0294 - lr: 4.7500e-04\n",
            "Epoch 13/200\n",
            "94/94 [==============================] - 3s 31ms/step - loss: 0.0015 - mae: 0.0283 - lr: 4.7500e-04\n",
            "Epoch 14/200\n",
            "94/94 [==============================] - 3s 29ms/step - loss: 0.0015 - mae: 0.0283 - lr: 4.7500e-04\n",
            "Epoch 15/200\n",
            "94/94 [==============================] - 3s 29ms/step - loss: 0.0016 - mae: 0.0287 - lr: 4.7500e-04\n",
            "Epoch 16/200\n",
            "94/94 [==============================] - 3s 28ms/step - loss: 0.0017 - mae: 0.0295 - lr: 4.7500e-04\n",
            "Epoch 17/200\n",
            "94/94 [==============================] - 3s 30ms/step - loss: 0.0018 - mae: 0.0305 - lr: 4.7500e-04\n",
            "Epoch 18/200\n",
            "94/94 [==============================] - 3s 29ms/step - loss: 0.0019 - mae: 0.0314 - lr: 4.7500e-04\n",
            "Epoch 19/200\n",
            "94/94 [==============================] - 3s 29ms/step - loss: 0.0020 - mae: 0.0323 - lr: 4.5125e-04\n",
            "Epoch 20/200\n",
            "94/94 [==============================] - 3s 29ms/step - loss: 0.0020 - mae: 0.0324 - lr: 4.5125e-04\n",
            "Epoch 21/200\n",
            "94/94 [==============================] - 3s 30ms/step - loss: 0.0020 - mae: 0.0327 - lr: 4.5125e-04\n",
            "Epoch 22/200\n",
            "94/94 [==============================] - 3s 29ms/step - loss: 0.0021 - mae: 0.0332 - lr: 4.5125e-04\n",
            "Epoch 23/200\n",
            "94/94 [==============================] - 3s 30ms/step - loss: 0.0021 - mae: 0.0337 - lr: 4.5125e-04\n",
            "Epoch 24/200\n",
            "94/94 [==============================] - 3s 29ms/step - loss: 0.0023 - mae: 0.0346 - lr: 4.2869e-04\n",
            "Epoch 25/200\n",
            "94/94 [==============================] - 3s 30ms/step - loss: 0.0022 - mae: 0.0345 - lr: 4.2869e-04\n",
            "Epoch 26/200\n",
            "94/94 [==============================] - 3s 29ms/step - loss: 0.0023 - mae: 0.0348 - lr: 4.2869e-04\n",
            "Epoch 27/200\n",
            "94/94 [==============================] - 3s 29ms/step - loss: 0.0023 - mae: 0.0353 - lr: 4.2869e-04\n",
            "Epoch 28/200\n",
            "94/94 [==============================] - 3s 30ms/step - loss: 0.0024 - mae: 0.0360 - lr: 4.2869e-04\n",
            "Epoch 29/200\n",
            "94/94 [==============================] - 3s 30ms/step - loss: 0.0026 - mae: 0.0370 - lr: 4.0725e-04\n",
            "Epoch 30/200\n",
            "94/94 [==============================] - 3s 29ms/step - loss: 0.0025 - mae: 0.0368 - lr: 4.0725e-04\n",
            "Epoch 31/200\n",
            "94/94 [==============================] - 3s 29ms/step - loss: 0.0025 - mae: 0.0365 - lr: 4.0725e-04\n",
            "Epoch 32/200\n",
            "94/94 [==============================] - 3s 29ms/step - loss: 0.0025 - mae: 0.0363 - lr: 4.0725e-04\n",
            "Epoch 33/200\n",
            "94/94 [==============================] - 3s 29ms/step - loss: 0.0025 - mae: 0.0359 - lr: 4.0725e-04\n",
            "Epoch 34/200\n",
            "94/94 [==============================] - 3s 31ms/step - loss: 0.0025 - mae: 0.0359 - lr: 3.8689e-04\n",
            "Epoch 35/200\n",
            "94/94 [==============================] - 3s 30ms/step - loss: 0.0023 - mae: 0.0349 - lr: 3.8689e-04\n",
            "Epoch 36/200\n",
            "94/94 [==============================] - 3s 29ms/step - loss: 0.0023 - mae: 0.0344 - lr: 3.8689e-04\n",
            "Epoch 37/200\n",
            "94/94 [==============================] - 3s 29ms/step - loss: 0.0022 - mae: 0.0339 - lr: 3.8689e-04\n",
            "Epoch 38/200\n",
            "94/94 [==============================] - 4s 37ms/step - loss: 0.0022 - mae: 0.0334 - lr: 3.8689e-04\n",
            "Epoch 39/200\n",
            "94/94 [==============================] - 3s 29ms/step - loss: 0.0022 - mae: 0.0331 - lr: 3.6755e-04\n",
            "Epoch 40/200\n",
            "94/94 [==============================] - 3s 29ms/step - loss: 0.0020 - mae: 0.0320 - lr: 3.6755e-04\n",
            "Epoch 41/200\n",
            "94/94 [==============================] - 3s 29ms/step - loss: 0.0019 - mae: 0.0315 - lr: 3.6755e-04\n",
            "Epoch 42/200\n",
            "94/94 [==============================] - 3s 30ms/step - loss: 0.0019 - mae: 0.0315 - lr: 3.6755e-04\n",
            "Epoch 43/200\n",
            "94/94 [==============================] - 3s 29ms/step - loss: 0.0019 - mae: 0.0317 - lr: 3.6755e-04\n",
            "Epoch 44/200\n",
            "94/94 [==============================] - 3s 29ms/step - loss: 0.0020 - mae: 0.0323 - lr: 3.4917e-04\n",
            "Epoch 45/200\n",
            "94/94 [==============================] - 3s 29ms/step - loss: 0.0019 - mae: 0.0319 - lr: 3.4917e-04\n",
            "Epoch 46/200\n",
            "94/94 [==============================] - 3s 29ms/step - loss: 0.0019 - mae: 0.0316 - lr: 3.4917e-04\n",
            "Epoch 47/200\n",
            "94/94 [==============================] - 3s 31ms/step - loss: 0.0019 - mae: 0.0312 - lr: 3.4917e-04\n",
            "Epoch 48/200\n",
            "94/94 [==============================] - 3s 29ms/step - loss: 0.0018 - mae: 0.0309 - lr: 3.4917e-04\n",
            "Epoch 49/200\n",
            "94/94 [==============================] - 3s 29ms/step - loss: 0.0019 - mae: 0.0309 - lr: 3.3171e-04\n",
            "Epoch 50/200\n",
            "94/94 [==============================] - 3s 29ms/step - loss: 0.0018 - mae: 0.0302 - lr: 3.3171e-04\n",
            "Epoch 51/200\n",
            "94/94 [==============================] - 3s 30ms/step - loss: 0.0017 - mae: 0.0298 - lr: 3.3171e-04\n",
            "Epoch 52/200\n",
            "94/94 [==============================] - 3s 29ms/step - loss: 0.0017 - mae: 0.0297 - lr: 3.3171e-04\n",
            "Epoch 53/200\n",
            "94/94 [==============================] - 3s 29ms/step - loss: 0.0017 - mae: 0.0296 - lr: 3.3171e-04\n",
            "Epoch 54/200\n",
            "94/94 [==============================] - 3s 29ms/step - loss: 0.0017 - mae: 0.0298 - lr: 3.1512e-04\n",
            "Epoch 55/200\n",
            "94/94 [==============================] - 3s 30ms/step - loss: 0.0016 - mae: 0.0292 - lr: 3.1512e-04\n",
            "Epoch 56/200\n",
            "94/94 [==============================] - 3s 29ms/step - loss: 0.0016 - mae: 0.0289 - lr: 3.1512e-04\n",
            "Epoch 57/200\n",
            "94/94 [==============================] - 3s 29ms/step - loss: 0.0016 - mae: 0.0289 - lr: 3.1512e-04\n",
            "Epoch 58/200\n",
            "94/94 [==============================] - 3s 30ms/step - loss: 0.0016 - mae: 0.0291 - lr: 3.1512e-04\n",
            "Epoch 59/200\n",
            "94/94 [==============================] - 3s 29ms/step - loss: 0.0017 - mae: 0.0296 - lr: 2.9937e-04\n",
            "Epoch 60/200\n",
            "94/94 [==============================] - 3s 29ms/step - loss: 0.0016 - mae: 0.0293 - lr: 2.9937e-04\n",
            "Epoch 61/200\n",
            "94/94 [==============================] - 3s 29ms/step - loss: 0.0016 - mae: 0.0291 - lr: 2.9937e-04\n",
            "Epoch 62/200\n",
            "94/94 [==============================] - 3s 29ms/step - loss: 0.0016 - mae: 0.0289 - lr: 2.9937e-04\n",
            "Epoch 63/200\n",
            "94/94 [==============================] - 3s 29ms/step - loss: 0.0016 - mae: 0.0286 - lr: 2.9937e-04\n",
            "Epoch 64/200\n",
            "94/94 [==============================] - 3s 30ms/step - loss: 0.0016 - mae: 0.0286 - lr: 2.8440e-04\n",
            "Epoch 65/200\n",
            "94/94 [==============================] - 3s 29ms/step - loss: 0.0015 - mae: 0.0280 - lr: 2.8440e-04\n",
            "Epoch 66/200\n",
            "94/94 [==============================] - 3s 30ms/step - loss: 0.0015 - mae: 0.0277 - lr: 2.8440e-04\n",
            "Epoch 67/200\n",
            "94/94 [==============================] - 3s 29ms/step - loss: 0.0014 - mae: 0.0276 - lr: 2.8440e-04\n",
            "Epoch 68/200\n",
            "94/94 [==============================] - 3s 30ms/step - loss: 0.0014 - mae: 0.0275 - lr: 2.8440e-04\n",
            "Epoch 69/200\n",
            "94/94 [==============================] - 3s 30ms/step - loss: 0.0014 - mae: 0.0274 - lr: 2.8440e-04\n",
            "Epoch 70/200\n",
            "94/94 [==============================] - 3s 31ms/step - loss: 0.0014 - mae: 0.0272 - lr: 2.8440e-04\n",
            "Epoch 71/200\n",
            "94/94 [==============================] - 3s 29ms/step - loss: 0.0014 - mae: 0.0270 - lr: 2.8440e-04\n",
            "Epoch 72/200\n",
            "94/94 [==============================] - 3s 29ms/step - loss: 0.0014 - mae: 0.0269 - lr: 2.8440e-04\n",
            "Epoch 73/200\n",
            "94/94 [==============================] - 3s 30ms/step - loss: 0.0014 - mae: 0.0270 - lr: 2.8440e-04\n",
            "Epoch 74/200\n",
            "94/94 [==============================] - 3s 30ms/step - loss: 0.0014 - mae: 0.0273 - lr: 2.8440e-04\n",
            "Epoch 75/200\n",
            "94/94 [==============================] - 3s 30ms/step - loss: 0.0015 - mae: 0.0278 - lr: 2.8440e-04\n",
            "Epoch 76/200\n",
            "94/94 [==============================] - 3s 30ms/step - loss: 0.0015 - mae: 0.0283 - lr: 2.8440e-04\n",
            "Epoch 77/200\n",
            "94/94 [==============================] - 3s 30ms/step - loss: 0.0016 - mae: 0.0287 - lr: 2.8440e-04\n",
            "Epoch 78/200\n",
            "94/94 [==============================] - 3s 29ms/step - loss: 0.0016 - mae: 0.0289 - lr: 2.7018e-04\n",
            "Epoch 79/200\n",
            "94/94 [==============================] - 3s 29ms/step - loss: 0.0015 - mae: 0.0280 - lr: 2.7018e-04\n",
            "Epoch 80/200\n",
            "94/94 [==============================] - 3s 30ms/step - loss: 0.0014 - mae: 0.0272 - lr: 2.7018e-04\n",
            "Epoch 81/200\n",
            "94/94 [==============================] - 3s 30ms/step - loss: 0.0014 - mae: 0.0267 - lr: 2.7018e-04\n",
            "Epoch 82/200\n",
            "94/94 [==============================] - 3s 30ms/step - loss: 0.0013 - mae: 0.0265 - lr: 2.7018e-04\n",
            "Epoch 83/200\n",
            "94/94 [==============================] - 3s 29ms/step - loss: 0.0013 - mae: 0.0265 - lr: 2.7018e-04\n",
            "Epoch 84/200\n",
            "94/94 [==============================] - 3s 29ms/step - loss: 0.0013 - mae: 0.0266 - lr: 2.7018e-04\n",
            "Epoch 85/200\n",
            "94/94 [==============================] - 3s 30ms/step - loss: 0.0014 - mae: 0.0269 - lr: 2.7018e-04\n",
            "Epoch 86/200\n",
            "94/94 [==============================] - 3s 30ms/step - loss: 0.0014 - mae: 0.0271 - lr: 2.7018e-04\n",
            "Epoch 87/200\n",
            "94/94 [==============================] - 3s 29ms/step - loss: 0.0014 - mae: 0.0271 - lr: 2.7018e-04\n",
            "Epoch 88/200\n",
            "94/94 [==============================] - 3s 29ms/step - loss: 0.0014 - mae: 0.0272 - lr: 2.5667e-04\n",
            "Epoch 89/200\n",
            "94/94 [==============================] - 3s 29ms/step - loss: 0.0013 - mae: 0.0265 - lr: 2.5667e-04\n",
            "Epoch 90/200\n",
            "94/94 [==============================] - 3s 32ms/step - loss: 0.0013 - mae: 0.0260 - lr: 2.5667e-04\n",
            "Epoch 91/200\n",
            "94/94 [==============================] - 3s 29ms/step - loss: 0.0013 - mae: 0.0257 - lr: 2.5667e-04\n",
            "Epoch 92/200\n",
            "94/94 [==============================] - 3s 30ms/step - loss: 0.0012 - mae: 0.0255 - lr: 2.5667e-04\n",
            "Epoch 93/200\n",
            "94/94 [==============================] - 3s 31ms/step - loss: 0.0012 - mae: 0.0254 - lr: 2.5667e-04\n",
            "Epoch 94/200\n",
            "94/94 [==============================] - 3s 31ms/step - loss: 0.0012 - mae: 0.0255 - lr: 2.5667e-04\n",
            "Epoch 95/200\n",
            "94/94 [==============================] - 3s 30ms/step - loss: 0.0012 - mae: 0.0257 - lr: 2.5667e-04\n",
            "Epoch 96/200\n",
            "94/94 [==============================] - 3s 30ms/step - loss: 0.0013 - mae: 0.0259 - lr: 2.5667e-04\n",
            "Epoch 97/200\n",
            "94/94 [==============================] - 3s 30ms/step - loss: 0.0013 - mae: 0.0260 - lr: 2.5667e-04\n",
            "Epoch 98/200\n",
            "94/94 [==============================] - 3s 29ms/step - loss: 0.0013 - mae: 0.0260 - lr: 2.4384e-04\n",
            "Epoch 99/200\n",
            "94/94 [==============================] - 3s 30ms/step - loss: 0.0012 - mae: 0.0253 - lr: 2.4384e-04\n",
            "Epoch 100/200\n",
            "94/94 [==============================] - 3s 30ms/step - loss: 0.0012 - mae: 0.0249 - lr: 2.4384e-04\n",
            "Epoch 101/200\n",
            "94/94 [==============================] - 3s 29ms/step - loss: 0.0012 - mae: 0.0248 - lr: 2.4384e-04\n",
            "Epoch 102/200\n",
            "94/94 [==============================] - 3s 30ms/step - loss: 0.0012 - mae: 0.0249 - lr: 2.4384e-04\n",
            "Epoch 103/200\n",
            "94/94 [==============================] - 3s 30ms/step - loss: 0.0012 - mae: 0.0250 - lr: 2.4384e-04\n",
            "Epoch 104/200\n",
            "94/94 [==============================] - 3s 29ms/step - loss: 0.0012 - mae: 0.0251 - lr: 2.4384e-04\n",
            "Epoch 105/200\n",
            "94/94 [==============================] - 3s 30ms/step - loss: 0.0012 - mae: 0.0252 - lr: 2.4384e-04\n",
            "Epoch 106/200\n",
            "94/94 [==============================] - 3s 30ms/step - loss: 0.0012 - mae: 0.0252 - lr: 2.4384e-04\n",
            "Epoch 107/200\n",
            "94/94 [==============================] - 3s 31ms/step - loss: 0.0012 - mae: 0.0254 - lr: 2.3165e-04\n",
            "Epoch 108/200\n",
            "94/94 [==============================] - 3s 30ms/step - loss: 0.0012 - mae: 0.0248 - lr: 2.3165e-04\n",
            "Epoch 109/200\n",
            "94/94 [==============================] - 3s 29ms/step - loss: 0.0011 - mae: 0.0245 - lr: 2.3165e-04\n",
            "Epoch 110/200\n",
            "94/94 [==============================] - 3s 28ms/step - loss: 0.0011 - mae: 0.0243 - lr: 2.3165e-04\n",
            "Epoch 111/200\n",
            "94/94 [==============================] - 3s 30ms/step - loss: 0.0011 - mae: 0.0243 - lr: 2.3165e-04\n",
            "Epoch 112/200\n",
            "94/94 [==============================] - 3s 30ms/step - loss: 0.0011 - mae: 0.0243 - lr: 2.3165e-04\n",
            "Epoch 113/200\n",
            "94/94 [==============================] - 3s 29ms/step - loss: 0.0011 - mae: 0.0244 - lr: 2.3165e-04\n",
            "Epoch 114/200\n",
            "94/94 [==============================] - 3s 30ms/step - loss: 0.0011 - mae: 0.0244 - lr: 2.3165e-04\n",
            "Epoch 115/200\n",
            "94/94 [==============================] - 3s 30ms/step - loss: 0.0011 - mae: 0.0244 - lr: 2.3165e-04\n",
            "Epoch 116/200\n",
            "94/94 [==============================] - 3s 30ms/step - loss: 0.0011 - mae: 0.0246 - lr: 2.2006e-04\n",
            "Epoch 117/200\n",
            "94/94 [==============================] - 3s 29ms/step - loss: 0.0011 - mae: 0.0242 - lr: 2.2006e-04\n",
            "Epoch 118/200\n",
            "94/94 [==============================] - 3s 29ms/step - loss: 0.0011 - mae: 0.0240 - lr: 2.2006e-04\n",
            "Epoch 119/200\n",
            "94/94 [==============================] - 3s 29ms/step - loss: 0.0011 - mae: 0.0239 - lr: 2.2006e-04\n",
            "Epoch 120/200\n",
            "94/94 [==============================] - 3s 30ms/step - loss: 0.0011 - mae: 0.0238 - lr: 2.2006e-04\n",
            "Epoch 121/200\n",
            "94/94 [==============================] - 3s 30ms/step - loss: 0.0011 - mae: 0.0238 - lr: 2.2006e-04\n",
            "Epoch 122/200\n",
            "94/94 [==============================] - 3s 29ms/step - loss: 0.0011 - mae: 0.0238 - lr: 2.2006e-04\n",
            "Epoch 123/200\n",
            "94/94 [==============================] - 3s 30ms/step - loss: 0.0011 - mae: 0.0238 - lr: 2.2006e-04\n",
            "Epoch 124/200\n",
            "94/94 [==============================] - 3s 30ms/step - loss: 0.0011 - mae: 0.0238 - lr: 2.2006e-04\n",
            "Epoch 125/200\n",
            "94/94 [==============================] - 3s 30ms/step - loss: 0.0011 - mae: 0.0239 - lr: 2.2006e-04\n",
            "Epoch 126/200\n",
            "94/94 [==============================] - 3s 29ms/step - loss: 0.0011 - mae: 0.0241 - lr: 2.0906e-04\n",
            "Epoch 127/200\n",
            "94/94 [==============================] - 3s 30ms/step - loss: 0.0011 - mae: 0.0238 - lr: 2.0906e-04\n",
            "Epoch 128/200\n",
            "94/94 [==============================] - 3s 31ms/step - loss: 0.0010 - mae: 0.0236 - lr: 2.0906e-04\n",
            "Epoch 129/200\n",
            "94/94 [==============================] - 3s 30ms/step - loss: 0.0010 - mae: 0.0235 - lr: 2.0906e-04\n",
            "Epoch 130/200\n",
            "94/94 [==============================] - 3s 29ms/step - loss: 0.0010 - mae: 0.0234 - lr: 2.0906e-04\n",
            "Epoch 131/200\n",
            "94/94 [==============================] - 3s 31ms/step - loss: 0.0010 - mae: 0.0234 - lr: 2.0906e-04\n",
            "Epoch 132/200\n",
            "94/94 [==============================] - 3s 32ms/step - loss: 0.0010 - mae: 0.0234 - lr: 2.0906e-04\n",
            "Epoch 133/200\n",
            "94/94 [==============================] - 3s 30ms/step - loss: 0.0010 - mae: 0.0234 - lr: 2.0906e-04\n",
            "Epoch 134/200\n",
            "94/94 [==============================] - 3s 30ms/step - loss: 0.0010 - mae: 0.0234 - lr: 2.0906e-04\n",
            "Epoch 135/200\n",
            "94/94 [==============================] - 3s 30ms/step - loss: 0.0010 - mae: 0.0235 - lr: 2.0906e-04\n",
            "Epoch 136/200\n",
            "94/94 [==============================] - 3s 29ms/step - loss: 0.0010 - mae: 0.0235 - lr: 1.9861e-04\n",
            "Epoch 137/200\n",
            "94/94 [==============================] - 3s 30ms/step - loss: 0.0010 - mae: 0.0232 - lr: 1.9861e-04\n",
            "Epoch 138/200\n",
            "94/94 [==============================] - 3s 30ms/step - loss: 9.8934e-04 - mae: 0.0229 - lr: 1.9861e-04\n",
            "Epoch 139/200\n",
            "94/94 [==============================] - 3s 29ms/step - loss: 9.9042e-04 - mae: 0.0229 - lr: 1.9861e-04\n",
            "Epoch 140/200\n",
            "94/94 [==============================] - 3s 29ms/step - loss: 9.7476e-04 - mae: 0.0227 - lr: 1.9861e-04\n",
            "Epoch 141/200\n",
            "94/94 [==============================] - 3s 31ms/step - loss: 9.8715e-04 - mae: 0.0229 - lr: 1.9861e-04\n",
            "Epoch 142/200\n",
            "94/94 [==============================] - 3s 30ms/step - loss: 9.8043e-04 - mae: 0.0228 - lr: 1.9861e-04\n",
            "Epoch 143/200\n",
            "94/94 [==============================] - 3s 29ms/step - loss: 9.8693e-04 - mae: 0.0229 - lr: 1.9861e-04\n",
            "Epoch 144/200\n",
            "94/94 [==============================] - 3s 30ms/step - loss: 9.8240e-04 - mae: 0.0228 - lr: 1.9861e-04\n",
            "Epoch 145/200\n",
            "94/94 [==============================] - 3s 30ms/step - loss: 0.0010 - mae: 0.0232 - lr: 1.9861e-04\n",
            "Epoch 146/200\n",
            "94/94 [==============================] - 3s 30ms/step - loss: 0.0010 - mae: 0.0232 - lr: 1.8868e-04\n",
            "Epoch 147/200\n",
            "94/94 [==============================] - 3s 29ms/step - loss: 9.8529e-04 - mae: 0.0229 - lr: 1.8868e-04\n",
            "Epoch 148/200\n",
            "94/94 [==============================] - 3s 29ms/step - loss: 9.6133e-04 - mae: 0.0226 - lr: 1.8868e-04\n",
            "Epoch 149/200\n",
            "94/94 [==============================] - 3s 30ms/step - loss: 9.6704e-04 - mae: 0.0227 - lr: 1.8868e-04\n",
            "Epoch 150/200\n",
            "94/94 [==============================] - 3s 30ms/step - loss: 9.5432e-04 - mae: 0.0224 - lr: 1.8868e-04\n",
            "Epoch 151/200\n",
            "94/94 [==============================] - 3s 30ms/step - loss: 9.6045e-04 - mae: 0.0225 - lr: 1.8868e-04\n",
            "Epoch 152/200\n",
            "94/94 [==============================] - 3s 30ms/step - loss: 9.4773e-04 - mae: 0.0223 - lr: 1.8868e-04\n",
            "Epoch 153/200\n",
            "94/94 [==============================] - 3s 30ms/step - loss: 9.6780e-04 - mae: 0.0227 - lr: 1.8868e-04\n",
            "Epoch 154/200\n",
            "94/94 [==============================] - 3s 31ms/step - loss: 9.6823e-04 - mae: 0.0227 - lr: 1.8868e-04\n",
            "Epoch 155/200\n",
            "94/94 [==============================] - 3s 30ms/step - loss: 9.6427e-04 - mae: 0.0226 - lr: 1.8868e-04\n",
            "Epoch 156/200\n",
            "94/94 [==============================] - 3s 29ms/step - loss: 9.6259e-04 - mae: 0.0226 - lr: 1.8868e-04\n",
            "Epoch 157/200\n",
            "94/94 [==============================] - 3s 30ms/step - loss: 9.6445e-04 - mae: 0.0226 - lr: 1.8868e-04\n",
            "Epoch 158/200\n",
            "94/94 [==============================] - 3s 30ms/step - loss: 9.6937e-04 - mae: 0.0227 - lr: 1.7924e-04\n",
            "Epoch 159/200\n",
            "94/94 [==============================] - 3s 31ms/step - loss: 9.5536e-04 - mae: 0.0225 - lr: 1.7924e-04\n",
            "Epoch 160/200\n",
            "94/94 [==============================] - 3s 30ms/step - loss: 9.2449e-04 - mae: 0.0221 - lr: 1.7924e-04\n",
            "Epoch 161/200\n",
            "94/94 [==============================] - 3s 30ms/step - loss: 9.4019e-04 - mae: 0.0223 - lr: 1.7924e-04\n",
            "Epoch 162/200\n",
            "94/94 [==============================] - 3s 30ms/step - loss: 9.3896e-04 - mae: 0.0223 - lr: 1.7924e-04\n",
            "Epoch 163/200\n",
            "94/94 [==============================] - 3s 30ms/step - loss: 9.3546e-04 - mae: 0.0223 - lr: 1.7924e-04\n",
            "Epoch 164/200\n",
            "94/94 [==============================] - 3s 30ms/step - loss: 9.3212e-04 - mae: 0.0222 - lr: 1.7924e-04\n",
            "Epoch 165/200\n",
            "94/94 [==============================] - 3s 29ms/step - loss: 9.2987e-04 - mae: 0.0222 - lr: 1.7924e-04\n",
            "Epoch 166/200\n",
            "94/94 [==============================] - 3s 29ms/step - loss: 9.3229e-04 - mae: 0.0222 - lr: 1.7028e-04\n",
            "Epoch 167/200\n",
            "94/94 [==============================] - 3s 31ms/step - loss: 9.1284e-04 - mae: 0.0219 - lr: 1.7028e-04\n",
            "Epoch 168/200\n",
            "94/94 [==============================] - 3s 29ms/step - loss: 9.0215e-04 - mae: 0.0218 - lr: 1.7028e-04\n",
            "Epoch 169/200\n",
            "94/94 [==============================] - 3s 30ms/step - loss: 9.0176e-04 - mae: 0.0218 - lr: 1.7028e-04\n",
            "Epoch 170/200\n",
            "94/94 [==============================] - 3s 29ms/step - loss: 8.9317e-04 - mae: 0.0217 - lr: 1.7028e-04\n",
            "Epoch 171/200\n",
            "94/94 [==============================] - 3s 31ms/step - loss: 9.1520e-04 - mae: 0.0220 - lr: 1.7028e-04\n",
            "Epoch 172/200\n",
            "94/94 [==============================] - 3s 30ms/step - loss: 9.0916e-04 - mae: 0.0219 - lr: 1.7028e-04\n",
            "Epoch 173/200\n",
            "94/94 [==============================] - 3s 29ms/step - loss: 9.0548e-04 - mae: 0.0218 - lr: 1.7028e-04\n",
            "Epoch 174/200\n",
            "94/94 [==============================] - 3s 30ms/step - loss: 9.0194e-04 - mae: 0.0218 - lr: 1.7028e-04\n",
            "Epoch 175/200\n",
            "94/94 [==============================] - 3s 29ms/step - loss: 9.1678e-04 - mae: 0.0220 - lr: 1.7028e-04\n",
            "Epoch 176/200\n",
            "94/94 [==============================] - 3s 30ms/step - loss: 9.0026e-04 - mae: 0.0218 - lr: 1.6177e-04\n",
            "Epoch 177/200\n",
            "94/94 [==============================] - 3s 29ms/step - loss: 9.0556e-04 - mae: 0.0218 - lr: 1.6177e-04\n",
            "Epoch 178/200\n",
            "94/94 [==============================] - 3s 29ms/step - loss: 8.9794e-04 - mae: 0.0218 - lr: 1.6177e-04\n",
            "Epoch 179/200\n",
            "94/94 [==============================] - 3s 29ms/step - loss: 8.9697e-04 - mae: 0.0217 - lr: 1.6177e-04\n",
            "Epoch 180/200\n",
            "94/94 [==============================] - 3s 31ms/step - loss: 8.9602e-04 - mae: 0.0217 - lr: 1.6177e-04\n",
            "Epoch 181/200\n",
            "94/94 [==============================] - 3s 29ms/step - loss: 8.9786e-04 - mae: 0.0218 - lr: 1.5368e-04\n",
            "Epoch 182/200\n",
            "94/94 [==============================] - 3s 29ms/step - loss: 8.8148e-04 - mae: 0.0215 - lr: 1.5368e-04\n",
            "Epoch 183/200\n",
            "94/94 [==============================] - 3s 31ms/step - loss: 8.7412e-04 - mae: 0.0214 - lr: 1.5368e-04\n",
            "Epoch 184/200\n",
            "94/94 [==============================] - 3s 30ms/step - loss: 8.7110e-04 - mae: 0.0214 - lr: 1.5368e-04\n",
            "Epoch 185/200\n",
            "94/94 [==============================] - 3s 31ms/step - loss: 8.7118e-04 - mae: 0.0214 - lr: 1.5368e-04\n",
            "Epoch 186/200\n",
            "94/94 [==============================] - 3s 31ms/step - loss: 8.7047e-04 - mae: 0.0214 - lr: 1.5368e-04\n",
            "Epoch 187/200\n",
            "94/94 [==============================] - 3s 30ms/step - loss: 8.7101e-04 - mae: 0.0214 - lr: 1.5368e-04\n",
            "Epoch 188/200\n",
            "94/94 [==============================] - 3s 29ms/step - loss: 8.7224e-04 - mae: 0.0214 - lr: 1.5368e-04\n",
            "Epoch 189/200\n",
            "94/94 [==============================] - 3s 30ms/step - loss: 8.7687e-04 - mae: 0.0215 - lr: 1.4599e-04\n",
            "Epoch 190/200\n",
            "94/94 [==============================] - 3s 30ms/step - loss: 8.6314e-04 - mae: 0.0213 - lr: 1.4599e-04\n",
            "Epoch 191/200\n",
            "94/94 [==============================] - 3s 30ms/step - loss: 8.5756e-04 - mae: 0.0212 - lr: 1.4599e-04\n",
            "Epoch 192/200\n",
            "94/94 [==============================] - 3s 29ms/step - loss: 8.5551e-04 - mae: 0.0212 - lr: 1.4599e-04\n",
            "Epoch 193/200\n",
            "94/94 [==============================] - 3s 30ms/step - loss: 8.5496e-04 - mae: 0.0212 - lr: 1.4599e-04\n",
            "Epoch 194/200\n",
            "94/94 [==============================] - 3s 29ms/step - loss: 8.5394e-04 - mae: 0.0212 - lr: 1.4599e-04\n",
            "Epoch 195/200\n",
            "94/94 [==============================] - 3s 29ms/step - loss: 8.5372e-04 - mae: 0.0212 - lr: 1.4599e-04\n",
            "Epoch 196/200\n",
            "94/94 [==============================] - 3s 30ms/step - loss: 8.5418e-04 - mae: 0.0212 - lr: 1.4599e-04\n",
            "Epoch 197/200\n",
            "94/94 [==============================] - 3s 30ms/step - loss: 8.5423e-04 - mae: 0.0212 - lr: 1.4599e-04\n",
            "Epoch 198/200\n",
            "94/94 [==============================] - 3s 29ms/step - loss: 8.5877e-04 - mae: 0.0212 - lr: 1.3869e-04\n",
            "Epoch 199/200\n",
            "94/94 [==============================] - 3s 30ms/step - loss: 8.4309e-04 - mae: 0.0210 - lr: 1.3869e-04\n",
            "Epoch 200/200\n",
            "94/94 [==============================] - 3s 30ms/step - loss: 8.3925e-04 - mae: 0.0210 - lr: 1.3869e-04\n"
          ]
        },
        {
          "output_type": "execute_result",
          "data": {
            "text/plain": [
              "<keras.callbacks.History at 0x7fe2f614bf40>"
            ]
          },
          "metadata": {},
          "execution_count": 33
        }
      ]
    },
    {
      "cell_type": "code",
      "source": [
        "print(capsnet_lstm.summary())"
      ],
      "metadata": {
        "id": "bRU73bByvkyi",
        "colab": {
          "base_uri": "https://localhost:8080/"
        },
        "outputId": "67419982-2b4d-4cea-dbb7-3bd9a3357673"
      },
      "execution_count": 34,
      "outputs": [
        {
          "output_type": "stream",
          "name": "stdout",
          "text": [
            "Model: \"capsnet_lstm\"\n",
            "_________________________________________________________________\n",
            " Layer (type)                Output Shape              Param #   \n",
            "=================================================================\n",
            " input_1 (InputLayer)        [(None, 50, 1)]           0         \n",
            "                                                                 \n",
            " conv1d_1 (Conv1D)           (None, 50, 256)           768       \n",
            "                                                                 \n",
            " reshape (Reshape)           (None, 50, 32, 8)         0         \n",
            "                                                                 \n",
            " lambda (Lambda)             (None, 50, 32, 8)         0         \n",
            "                                                                 \n",
            " time_distributed (TimeDistr  (None, 50, 256)          65536     \n",
            " ibuted)                                                         \n",
            "                                                                 \n",
            " lstm (LSTM)                 (None, 200)               365600    \n",
            "                                                                 \n",
            " dense (Dense)               (None, 10)                2010      \n",
            "                                                                 \n",
            "=================================================================\n",
            "Total params: 433,914\n",
            "Trainable params: 433,914\n",
            "Non-trainable params: 0\n",
            "_________________________________________________________________\n",
            "None\n"
          ]
        }
      ]
    },
    {
      "cell_type": "markdown",
      "metadata": {
        "id": "69lcH5cAEnki"
      },
      "source": [
        "### Evaluating the forecast\n",
        "\n",
        "Now it is time to evaluate the performance of the forecast. For this we use the `compute_metrics` function:"
      ]
    },
    {
      "cell_type": "markdown",
      "metadata": {
        "id": "r7V0kTKHEnki"
      },
      "source": [
        "At this point only the model that will perform the forecast is ready but we still need to compute the actual forecast.\n",
        "\n"
      ]
    },
    {
      "cell_type": "markdown",
      "metadata": {
        "id": "rJtDyAD9Enkj"
      },
      "source": [
        "Faster model forecasts\n",
        "\n",
        "\n",
        "- The dataset is windowed using `window_size` rather than `window_size + 1`\n",
        "- No shuffle should be used\n",
        "- No need to split the data into features and labels\n",
        "- A model is used to predict batches of the dataset"
      ]
    },
    {
      "cell_type": "markdown",
      "metadata": {
        "id": "kIyFlTEwEnkj"
      },
      "source": [
        "Now compute the actual forecast:"
      ]
    },
    {
      "cell_type": "code",
      "source": [
        "# Evaluate each model and the ensemble on the test set\n",
        "# remember the last predicted value is not in the test set. It should be removed when producing y_hat series.\n",
        "\n",
        "capsnet_lstm_pred =  model_forecast(capsnet_lstm, series_norm, G.WINDOW_SIZE).squeeze()\n",
        "\n"
      ],
      "metadata": {
        "id": "bbCkPA_2TXrg",
        "colab": {
          "base_uri": "https://localhost:8080/"
        },
        "outputId": "a3cf1a4f-796f-4dd1-9c42-9566409f2700"
      },
      "execution_count": 35,
      "outputs": [
        {
          "output_type": "stream",
          "name": "stdout",
          "text": [
            "105/105 [==============================] - 5s 22ms/step\n"
          ]
        }
      ]
    },
    {
      "cell_type": "code",
      "source": [
        "capsnet_lstm_pred = reverse_normalization(capsnet_lstm_pred, series_train)\n"
      ],
      "metadata": {
        "id": "4ddBY-GT5hDG"
      },
      "execution_count": 36,
      "outputs": []
    },
    {
      "cell_type": "code",
      "source": [
        "series_hat_capsnet_lstm = capsnet_lstm_pred"
      ],
      "metadata": {
        "id": "OclxuFiMbng5"
      },
      "execution_count": 37,
      "outputs": []
    },
    {
      "cell_type": "code",
      "source": [
        "series_y_hat_capsnet_lstm = np.array(list(series_hat_capsnet_lstm[:-1]))"
      ],
      "metadata": {
        "id": "qvB7cHQ-eMTI"
      },
      "execution_count": 38,
      "outputs": []
    },
    {
      "cell_type": "code",
      "source": [
        "series_test = series_y[-G.SPLIT_TIME:]\n",
        "series_test_hat_capsnet_lstm_1 = series_y_hat_capsnet_lstm[-G.SPLIT_TIME:,0]\n",
        "series_test_hat_capsnet_lstm_2 = series_y_hat_capsnet_lstm[-G.SPLIT_TIME:-1,1]\n",
        "series_test_hat_capsnet_lstm_3 = series_y_hat_capsnet_lstm[-G.SPLIT_TIME:-2,2]\n",
        "series_test_hat_capsnet_lstm_4 = series_y_hat_capsnet_lstm[-G.SPLIT_TIME:-3,3]\n",
        "series_test_hat_capsnet_lstm_5 = series_y_hat_capsnet_lstm[-G.SPLIT_TIME:-4,4]\n",
        "series_test_hat_capsnet_lstm_6 = series_y_hat_capsnet_lstm[-G.SPLIT_TIME:-5,5]\n",
        "series_test_hat_capsnet_lstm_7 = series_y_hat_capsnet_lstm[-G.SPLIT_TIME:-6,6]\n",
        "series_test_hat_capsnet_lstm_8 = series_y_hat_capsnet_lstm[-G.SPLIT_TIME:-7,7]\n",
        "series_test_hat_capsnet_lstm_9 = series_y_hat_capsnet_lstm[-G.SPLIT_TIME:-8,8]\n",
        "series_test_hat_capsnet_lstm_10 = series_y_hat_capsnet_lstm[-G.SPLIT_TIME:-9,9]\n"
      ],
      "metadata": {
        "id": "YPt1EDMbTdwj"
      },
      "execution_count": 39,
      "outputs": []
    },
    {
      "cell_type": "code",
      "source": [
        "# Plot the forecast\n",
        "\n",
        "plt.figure(figsize=(10, 6))\n",
        "\n",
        "plt.plot(np.arange( 1, len(time_test)+1 ), series_test, linestyle='-', color='blue', label='Original Value')\n",
        "\n",
        "plt.plot(np.arange( 1, len(time_test)+1 ), series_test_hat_capsnet_lstm_1, linestyle='-', color='Red', label='1-step forecasting')\n",
        "\n",
        "plt.plot(np.arange( 5, len(time_test)+1 ), series_test_hat_capsnet_lstm_5, linestyle='--', color='Orange', label='5-step forecasting')\n",
        "\n",
        "plt.plot(np.arange( 10, len(time_test)+1 ), series_test_hat_capsnet_lstm_10, linestyle=':', color='Green', label='10-step forecasting')\n",
        "\n",
        "plt.ylabel(\"Index Value\")\n",
        "plt.xlabel(\"Time Step\")\n",
        "plt.title(\"GOLD test set prediction with CapsNet-LSTM\")\n",
        "legend_drawn_flag = True\n",
        "plt.legend([\"Original Value (GOLD)\", \"1 step forecasting\",\"5-step forecasting\",\"10-step forecasting\"], loc='upper left', frameon=legend_drawn_flag)\n",
        "plt.savefig(\"/content/gdrive/MyDrive/Multistage/GOLD/figures/capsnet_lstm_forecasts_GOLD.tif\")"
      ],
      "metadata": {
        "id": "XJiTXz1zgVZh",
        "colab": {
          "base_uri": "https://localhost:8080/",
          "height": 419
        },
        "outputId": "0953c5b5-cfba-4b25-8780-1f31d4fe871d"
      },
      "execution_count": 40,
      "outputs": [
        {
          "output_type": "display_data",
          "data": {
            "text/plain": [
              "<Figure size 720x432 with 1 Axes>"
            ],
            "image/png": "[encoded data removed]"
          },
          "metadata": {
            "needs_background": "light"
          }
        }
      ]
    },
    {
      "cell_type": "code",
      "execution_count": 41,
      "metadata": {
        "id": "OmelEr6a3I70",
        "colab": {
          "base_uri": "https://localhost:8080/"
        },
        "outputId": "4a61b772-8ce7-4367-b179-2c5d5bd52602"
      },
      "outputs": [
        {
          "output_type": "stream",
          "name": "stdout",
          "text": [
            "rmse: 32.72, mae: 27.43 , mape: 1.66 for 1 step forecast\n"
          ]
        }
      ],
      "source": [
        "rmse_capsnet_lstm_1, mae_capsnet_lstm_1, mape_capsnet_lstm_1= compute_metrics(series_test, series_test_hat_capsnet_lstm_1)\n",
        "\n",
        "print(f\"rmse: {rmse_capsnet_lstm_1:.2f}, mae: {mae_capsnet_lstm_1:.2f} , mape: {mape_capsnet_lstm_1:.2f} for 1 step forecast\")"
      ]
    },
    {
      "cell_type": "code",
      "source": [
        "rmse_capsnet_lstm_2, mae_capsnet_lstm_2, mape_capsnet_lstm_2= compute_metrics(series_test[1:], series_test_hat_capsnet_lstm_2)\n",
        "\n",
        "print(f\"rmse: {rmse_capsnet_lstm_2:.2f}, mae: {mae_capsnet_lstm_2:.2f} , mape: {mape_capsnet_lstm_2:.2f} for 2 steps forecast\")"
      ],
      "metadata": {
        "id": "2BV-Gn94ihNz",
        "colab": {
          "base_uri": "https://localhost:8080/"
        },
        "outputId": "bf3a9ba3-563e-460c-d6ca-fa7bac1f8d24"
      },
      "execution_count": 42,
      "outputs": [
        {
          "output_type": "stream",
          "name": "stdout",
          "text": [
            "rmse: 39.49, mae: 31.48 , mape: 1.89 for 2 steps forecast\n"
          ]
        }
      ]
    },
    {
      "cell_type": "code",
      "source": [
        "rmse_capsnet_lstm_3, mae_capsnet_lstm_3, mape_capsnet_lstm_3= compute_metrics(series_test[2:], series_test_hat_capsnet_lstm_3)\n",
        "\n",
        "print(f\"rmse: {rmse_capsnet_lstm_3:.2f}, mae: {mae_capsnet_lstm_3:.2f} , mape: {mape_capsnet_lstm_3:.2f} for 3 steps forecast\")"
      ],
      "metadata": {
        "id": "XgoulQ0oihpv",
        "colab": {
          "base_uri": "https://localhost:8080/"
        },
        "outputId": "5444e028-bcbb-4d9b-877b-20cd12692667"
      },
      "execution_count": 43,
      "outputs": [
        {
          "output_type": "stream",
          "name": "stdout",
          "text": [
            "rmse: 46.41, mae: 36.35 , mape: 2.18 for 3 steps forecast\n"
          ]
        }
      ]
    },
    {
      "cell_type": "code",
      "source": [
        "rmse_capsnet_lstm_4, mae_capsnet_lstm_4, mape_capsnet_lstm_4= compute_metrics(series_test[3:], series_test_hat_capsnet_lstm_4)\n",
        "\n",
        "print(f\"rmse: {rmse_capsnet_lstm_4:.2f}, mae: {mae_capsnet_lstm_4:.2f} , mape: {mape_capsnet_lstm_4:.2f} for 4 steps forecast\")"
      ],
      "metadata": {
        "id": "sDQzvSUDih_Z",
        "colab": {
          "base_uri": "https://localhost:8080/"
        },
        "outputId": "f35ad458-8341-47b7-e416-9f50e7a2eff0"
      },
      "execution_count": 44,
      "outputs": [
        {
          "output_type": "stream",
          "name": "stdout",
          "text": [
            "rmse: 51.61, mae: 40.60 , mape: 2.43 for 4 steps forecast\n"
          ]
        }
      ]
    },
    {
      "cell_type": "code",
      "source": [
        "rmse_capsnet_lstm_5, mae_capsnet_lstm_5, mape_capsnet_lstm_5= compute_metrics(series_test[4:], series_test_hat_capsnet_lstm_5)\n",
        "\n",
        "print(f\"rmse: {rmse_capsnet_lstm_5:.2f}, mae: {mae_capsnet_lstm_5:.2f} , mape: {mape_capsnet_lstm_5:.2f} for 5 steps forecast\")"
      ],
      "metadata": {
        "id": "b-8F5YP7iiaH",
        "colab": {
          "base_uri": "https://localhost:8080/"
        },
        "outputId": "9597b5e5-a47e-4e89-ab91-1e1f89022626"
      },
      "execution_count": 45,
      "outputs": [
        {
          "output_type": "stream",
          "name": "stdout",
          "text": [
            "rmse: 54.63, mae: 42.64 , mape: 2.56 for 5 steps forecast\n"
          ]
        }
      ]
    },
    {
      "cell_type": "code",
      "source": [
        "rmse_capsnet_lstm_6, mae_capsnet_lstm_6, mape_capsnet_lstm_6= compute_metrics(series_test[5:], series_test_hat_capsnet_lstm_6)\n",
        "\n",
        "print(f\"rmse: {rmse_capsnet_lstm_6:.2f}, mae: {mae_capsnet_lstm_6:.2f} , mape: {mape_capsnet_lstm_6:.2f} for 6 steps forecast\")"
      ],
      "metadata": {
        "id": "9DGgLkXfii93",
        "colab": {
          "base_uri": "https://localhost:8080/"
        },
        "outputId": "068faa0f-2703-4e1c-a259-87edff920f95"
      },
      "execution_count": 46,
      "outputs": [
        {
          "output_type": "stream",
          "name": "stdout",
          "text": [
            "rmse: 60.61, mae: 47.64 , mape: 2.86 for 6 steps forecast\n"
          ]
        }
      ]
    },
    {
      "cell_type": "code",
      "source": [
        "rmse_capsnet_lstm_7, mae_capsnet_lstm_7, mape_capsnet_lstm_7= compute_metrics(series_test[6:], series_test_hat_capsnet_lstm_7)\n",
        "\n",
        "print(f\"rmse: {rmse_capsnet_lstm_7:.2f}, mae: {mae_capsnet_lstm_7:.2f} , mape: {mape_capsnet_lstm_7:.2f} for 7 steps forecast\")"
      ],
      "metadata": {
        "id": "_T134Zh9ijQK",
        "colab": {
          "base_uri": "https://localhost:8080/"
        },
        "outputId": "f898367c-9c58-4736-b7c0-40d8f3e6cd6e"
      },
      "execution_count": 47,
      "outputs": [
        {
          "output_type": "stream",
          "name": "stdout",
          "text": [
            "rmse: 62.98, mae: 49.17 , mape: 2.95 for 7 steps forecast\n"
          ]
        }
      ]
    },
    {
      "cell_type": "code",
      "source": [
        "rmse_capsnet_lstm_8, mae_capsnet_lstm_8, mape_capsnet_lstm_8= compute_metrics(series_test[7:], series_test_hat_capsnet_lstm_8)\n",
        "\n",
        "print(f\"rmse: {rmse_capsnet_lstm_8:.2f}, mae: {mae_capsnet_lstm_8:.2f} , mape: {mape_capsnet_lstm_8:.2f} for 8 steps forecast\")"
      ],
      "metadata": {
        "id": "TYcl4fgpijpD",
        "colab": {
          "base_uri": "https://localhost:8080/"
        },
        "outputId": "d6dd48ff-5419-40a1-aed1-77f95d66adc1"
      },
      "execution_count": 48,
      "outputs": [
        {
          "output_type": "stream",
          "name": "stdout",
          "text": [
            "rmse: 68.25, mae: 54.03 , mape: 3.24 for 8 steps forecast\n"
          ]
        }
      ]
    },
    {
      "cell_type": "code",
      "source": [
        "rmse_capsnet_lstm_9, mae_capsnet_lstm_9, mape_capsnet_lstm_9= compute_metrics(series_test[8:], series_test_hat_capsnet_lstm_9)\n",
        "\n",
        "print(f\"rmse: {rmse_capsnet_lstm_9:.2f}, mae: {mae_capsnet_lstm_9:.2f} , mape: {mape_capsnet_lstm_9:.2f} for 9 steps forecast\")"
      ],
      "metadata": {
        "id": "J0sGYSTvikBV",
        "colab": {
          "base_uri": "https://localhost:8080/"
        },
        "outputId": "ae8083cd-7df3-4c98-c614-7c6c7dd8989f"
      },
      "execution_count": 49,
      "outputs": [
        {
          "output_type": "stream",
          "name": "stdout",
          "text": [
            "rmse: 70.02, mae: 55.41 , mape: 3.32 for 9 steps forecast\n"
          ]
        }
      ]
    },
    {
      "cell_type": "code",
      "source": [
        "rmse_capsnet_lstm_10, mae_capsnet_lstm_10, mape_capsnet_lstm_10= compute_metrics(series_test[9:], series_test_hat_capsnet_lstm_10)\n",
        "\n",
        "print(f\"rmse: {rmse_capsnet_lstm_10:.2f}, mae: {mae_capsnet_lstm_10:.2f} , mape: {mape_capsnet_lstm_10:.2f} for 10 steps forecast\")"
      ],
      "metadata": {
        "id": "vQ0n32kzikV-",
        "colab": {
          "base_uri": "https://localhost:8080/"
        },
        "outputId": "9f72c1df-ac2d-4011-8cd5-e8c30b804198"
      },
      "execution_count": 50,
      "outputs": [
        {
          "output_type": "stream",
          "name": "stdout",
          "text": [
            "rmse: 76.51, mae: 60.21 , mape: 3.57 for 10 steps forecast\n"
          ]
        }
      ]
    },
    {
      "cell_type": "code",
      "source": [
        "# Save_weights model\n",
        "\n",
        "capsnet_lstm.save_weights(\"/content/gdrive/MyDrive/Multistage/GOLD/models/capsnet_lstm_GOLD_MIMO.h5\", overwrite=True, save_format=None, options=None)\n"
      ],
      "metadata": {
        "id": "DYpMI0EbhYRT"
      },
      "execution_count": 51,
      "outputs": []
    },
    {
      "cell_type": "code",
      "source": [
        "# Save predicted values\n",
        "\n",
        "np.savetxt(\"/content/gdrive/MyDrive/Multistage/GOLD/files/capsnet_lstm_predicted_test_GOLD_1.csv\", \n",
        "           series_test_hat_capsnet_lstm_1.T, delimiter=\",\")\n",
        "np.savetxt(\"/content/gdrive/MyDrive/Multistage/GOLD/files/capsnet_lstm_predicted_test_GOLD_2.csv\", \n",
        "           series_test_hat_capsnet_lstm_2.T, delimiter=\",\")\n",
        "np.savetxt(\"/content/gdrive/MyDrive/Multistage/GOLD/files/capsnet_lstm_predicted_test_GOLD_3.csv\", \n",
        "           series_test_hat_capsnet_lstm_3.T, delimiter=\",\")\n",
        "np.savetxt(\"/content/gdrive/MyDrive/Multistage/GOLD/files/capsnet_lstm_predicted_test_GOLD_4.csv\", \n",
        "           series_test_hat_capsnet_lstm_4.T, delimiter=\",\")\n",
        "np.savetxt(\"/content/gdrive/MyDrive/Multistage/GOLD/files/capsnet_lstm_predicted_test_GOLD_5.csv\", \n",
        "           series_test_hat_capsnet_lstm_5.T, delimiter=\",\")\n",
        "np.savetxt(\"/content/gdrive/MyDrive/Multistage/GOLD/files/capsnet_lstm_predicted_test_GOLD_6.csv\", \n",
        "           series_test_hat_capsnet_lstm_6.T, delimiter=\",\")\n",
        "np.savetxt(\"/content/gdrive/MyDrive/Multistage/GOLD/files/capsnet_lstm_predicted_test_GOLD_7.csv\", \n",
        "           series_test_hat_capsnet_lstm_7.T, delimiter=\",\")\n",
        "np.savetxt(\"/content/gdrive/MyDrive/Multistage/GOLD/files/capsnet_lstm_predicted_test_GOLD_8.csv\", \n",
        "           series_test_hat_capsnet_lstm_8.T, delimiter=\",\")\n",
        "np.savetxt(\"/content/gdrive/MyDrive/Multistage/GOLD/files/capsnet_lstm_predicted_test_GOLD_9.csv\", \n",
        "           series_test_hat_capsnet_lstm_9.T, delimiter=\",\")\n",
        "np.savetxt(\"/content/gdrive/MyDrive/Multistage/GOLD/files/capsnet_lstm_predicted_test_GOLD_10.csv\", \n",
        "           series_test_hat_capsnet_lstm_10.T, delimiter=\",\")\n",
        "\n",
        "\n",
        "np.savetxt(\"/content/gdrive/MyDrive/Multistage/GOLD/files/capsnet_lstm_predicted_whole_GOLD.csv\", \n",
        "           series_y_hat_capsnet_lstm.T, delimiter=\",\")"
      ],
      "metadata": {
        "id": "i9X1XFbyH9Gz"
      },
      "execution_count": 52,
      "outputs": []
    },
    {
      "cell_type": "markdown",
      "source": [
        "# Baseline (LSTM, GRU, RNN, CNN-LSTM)"
      ],
      "metadata": {
        "id": "og2vNXLVgOeC"
      }
    },
    {
      "cell_type": "markdown",
      "source": [
        "## LSTM"
      ],
      "metadata": {
        "id": "DTXrC28w_ZGT"
      }
    },
    {
      "cell_type": "code",
      "source": [
        "# Build the model with the best hp.\n",
        "def LSTM():\n",
        "   \n",
        "    model = tf.keras.models.Sequential([\n",
        "          tf.keras.layers.LSTM(200, input_shape=[G.WINDOW_SIZE, 1]),\n",
        "          tf.keras.layers.Dense(10)\n",
        "    ])\n",
        "    learning_rate = 0.0005\n",
        "    model.compile(\n",
        "        optimizer=tf.keras.optimizers.Adam(learning_rate=learning_rate),\n",
        "        loss=tf.keras.losses.MeanSquaredError(),\n",
        "        metrics=[\"mae\"])\n",
        "\n",
        "    return model"
      ],
      "metadata": {
        "id": "ay7_NsM8fmKT"
      },
      "execution_count": 53,
      "outputs": []
    },
    {
      "cell_type": "markdown",
      "source": [
        "### Model training"
      ],
      "metadata": {
        "id": "2FOcrFwk2k2B"
      }
    },
    {
      "cell_type": "code",
      "source": [
        "\n",
        "with strategy.scope():\n",
        "  lstm = LSTM()\n",
        "    # Fit with the entire dataset.\n",
        "lstm.fit(train_set_ten_step, epochs=200,callbacks = [reduce_lr])  \n"
      ],
      "metadata": {
        "id": "E8ag8FfF2k2C",
        "colab": {
          "base_uri": "https://localhost:8080/"
        },
        "outputId": "7638fe1b-f35b-41c5-d7c1-00955edb581b"
      },
      "execution_count": 54,
      "outputs": [
        {
          "output_type": "stream",
          "name": "stdout",
          "text": [
            "Epoch 1/200\n",
            "94/94 [==============================] - 7s 30ms/step - loss: 0.0045 - mae: 0.0525 - lr: 5.0000e-04\n",
            "Epoch 2/200\n",
            "94/94 [==============================] - 2s 19ms/step - loss: 0.0061 - mae: 0.0623 - lr: 5.0000e-04\n",
            "Epoch 3/200\n",
            "94/94 [==============================] - 2s 21ms/step - loss: 0.0086 - mae: 0.0718 - lr: 5.0000e-04\n",
            "Epoch 4/200\n",
            "94/94 [==============================] - 2s 19ms/step - loss: 0.0103 - mae: 0.0739 - lr: 5.0000e-04\n",
            "Epoch 5/200\n",
            "94/94 [==============================] - 2s 19ms/step - loss: 0.0130 - mae: 0.0873 - lr: 5.0000e-04\n",
            "Epoch 6/200\n",
            "94/94 [==============================] - 2s 19ms/step - loss: 0.0150 - mae: 0.0930 - lr: 5.0000e-04\n",
            "Epoch 7/200\n",
            "94/94 [==============================] - 2s 19ms/step - loss: 0.0166 - mae: 0.0970 - lr: 4.7500e-04\n",
            "Epoch 8/200\n",
            "94/94 [==============================] - 2s 19ms/step - loss: 0.0167 - mae: 0.1008 - lr: 4.7500e-04\n",
            "Epoch 9/200\n",
            "94/94 [==============================] - 2s 20ms/step - loss: 0.0140 - mae: 0.0927 - lr: 4.7500e-04\n",
            "Epoch 10/200\n",
            "94/94 [==============================] - 2s 19ms/step - loss: 0.0110 - mae: 0.0830 - lr: 4.7500e-04\n",
            "Epoch 11/200\n",
            "94/94 [==============================] - 2s 20ms/step - loss: 0.0086 - mae: 0.0725 - lr: 4.7500e-04\n",
            "Epoch 12/200\n",
            "94/94 [==============================] - 2s 20ms/step - loss: 0.0068 - mae: 0.0635 - lr: 4.5125e-04\n",
            "Epoch 13/200\n",
            "94/94 [==============================] - 2s 20ms/step - loss: 0.0051 - mae: 0.0538 - lr: 4.5125e-04\n",
            "Epoch 14/200\n",
            "94/94 [==============================] - 2s 20ms/step - loss: 0.0042 - mae: 0.0478 - lr: 4.5125e-04\n",
            "Epoch 15/200\n",
            "94/94 [==============================] - 2s 21ms/step - loss: 0.0037 - mae: 0.0443 - lr: 4.5125e-04\n",
            "Epoch 16/200\n",
            "94/94 [==============================] - 2s 20ms/step - loss: 0.0034 - mae: 0.0422 - lr: 4.5125e-04\n",
            "Epoch 17/200\n",
            "94/94 [==============================] - 2s 19ms/step - loss: 0.0032 - mae: 0.0408 - lr: 4.5125e-04\n",
            "Epoch 18/200\n",
            "94/94 [==============================] - 2s 19ms/step - loss: 0.0030 - mae: 0.0396 - lr: 4.5125e-04\n",
            "Epoch 19/200\n",
            "94/94 [==============================] - 2s 19ms/step - loss: 0.0029 - mae: 0.0387 - lr: 4.5125e-04\n",
            "Epoch 20/200\n",
            "94/94 [==============================] - 2s 20ms/step - loss: 0.0027 - mae: 0.0379 - lr: 4.5125e-04\n",
            "Epoch 21/200\n",
            "94/94 [==============================] - 2s 21ms/step - loss: 0.0027 - mae: 0.0373 - lr: 4.5125e-04\n",
            "Epoch 22/200\n",
            "94/94 [==============================] - 2s 20ms/step - loss: 0.0026 - mae: 0.0367 - lr: 4.5125e-04\n",
            "Epoch 23/200\n",
            "94/94 [==============================] - 2s 20ms/step - loss: 0.0025 - mae: 0.0363 - lr: 4.5125e-04\n",
            "Epoch 24/200\n",
            "94/94 [==============================] - 2s 19ms/step - loss: 0.0024 - mae: 0.0358 - lr: 4.5125e-04\n",
            "Epoch 25/200\n",
            "94/94 [==============================] - 2s 19ms/step - loss: 0.0024 - mae: 0.0356 - lr: 4.5125e-04\n",
            "Epoch 26/200\n",
            "94/94 [==============================] - 2s 19ms/step - loss: 0.0024 - mae: 0.0352 - lr: 4.5125e-04\n",
            "Epoch 27/200\n",
            "94/94 [==============================] - 2s 20ms/step - loss: 0.0024 - mae: 0.0353 - lr: 4.5125e-04\n",
            "Epoch 28/200\n",
            "94/94 [==============================] - 2s 19ms/step - loss: 0.0023 - mae: 0.0351 - lr: 4.5125e-04\n",
            "Epoch 29/200\n",
            "94/94 [==============================] - 2s 19ms/step - loss: 0.0024 - mae: 0.0353 - lr: 4.5125e-04\n",
            "Epoch 30/200\n",
            "94/94 [==============================] - 2s 19ms/step - loss: 0.0023 - mae: 0.0351 - lr: 4.5125e-04\n",
            "Epoch 31/200\n",
            "94/94 [==============================] - 2s 18ms/step - loss: 0.0023 - mae: 0.0349 - lr: 4.5125e-04\n",
            "Epoch 32/200\n",
            "94/94 [==============================] - 2s 19ms/step - loss: 0.0023 - mae: 0.0347 - lr: 4.5125e-04\n",
            "Epoch 33/200\n",
            "94/94 [==============================] - 2s 21ms/step - loss: 0.0022 - mae: 0.0343 - lr: 4.5125e-04\n",
            "Epoch 34/200\n",
            "94/94 [==============================] - 2s 20ms/step - loss: 0.0023 - mae: 0.0345 - lr: 4.5125e-04\n",
            "Epoch 35/200\n",
            "94/94 [==============================] - 2s 19ms/step - loss: 0.0022 - mae: 0.0344 - lr: 4.5125e-04\n",
            "Epoch 36/200\n",
            "94/94 [==============================] - 2s 19ms/step - loss: 0.0023 - mae: 0.0345 - lr: 4.5125e-04\n",
            "Epoch 37/200\n",
            "94/94 [==============================] - 2s 19ms/step - loss: 0.0022 - mae: 0.0343 - lr: 4.5125e-04\n",
            "Epoch 38/200\n",
            "94/94 [==============================] - 2s 19ms/step - loss: 0.0022 - mae: 0.0341 - lr: 4.5125e-04\n",
            "Epoch 39/200\n",
            "94/94 [==============================] - 2s 21ms/step - loss: 0.0022 - mae: 0.0341 - lr: 4.5125e-04\n",
            "Epoch 40/200\n",
            "94/94 [==============================] - 2s 19ms/step - loss: 0.0022 - mae: 0.0340 - lr: 4.5125e-04\n",
            "Epoch 41/200\n",
            "94/94 [==============================] - 2s 19ms/step - loss: 0.0022 - mae: 0.0339 - lr: 4.5125e-04\n",
            "Epoch 42/200\n",
            "94/94 [==============================] - 2s 19ms/step - loss: 0.0022 - mae: 0.0339 - lr: 4.5125e-04\n",
            "Epoch 43/200\n",
            "94/94 [==============================] - 2s 19ms/step - loss: 0.0022 - mae: 0.0337 - lr: 4.5125e-04\n",
            "Epoch 44/200\n",
            "94/94 [==============================] - 2s 19ms/step - loss: 0.0022 - mae: 0.0336 - lr: 4.5125e-04\n",
            "Epoch 45/200\n",
            "94/94 [==============================] - 2s 20ms/step - loss: 0.0021 - mae: 0.0333 - lr: 4.5125e-04\n",
            "Epoch 46/200\n",
            "94/94 [==============================] - 2s 20ms/step - loss: 0.0021 - mae: 0.0335 - lr: 4.5125e-04\n",
            "Epoch 47/200\n",
            "94/94 [==============================] - 2s 19ms/step - loss: 0.0021 - mae: 0.0333 - lr: 4.5125e-04\n",
            "Epoch 48/200\n",
            "94/94 [==============================] - 2s 19ms/step - loss: 0.0021 - mae: 0.0333 - lr: 4.5125e-04\n",
            "Epoch 49/200\n",
            "94/94 [==============================] - 2s 19ms/step - loss: 0.0021 - mae: 0.0328 - lr: 4.5125e-04\n",
            "Epoch 50/200\n",
            "94/94 [==============================] - 2s 19ms/step - loss: 0.0020 - mae: 0.0326 - lr: 4.5125e-04\n",
            "Epoch 51/200\n",
            "94/94 [==============================] - 2s 20ms/step - loss: 0.0020 - mae: 0.0323 - lr: 4.5125e-04\n",
            "Epoch 52/200\n",
            "94/94 [==============================] - 2s 19ms/step - loss: 0.0020 - mae: 0.0324 - lr: 4.5125e-04\n",
            "Epoch 53/200\n",
            "94/94 [==============================] - 2s 19ms/step - loss: 0.0020 - mae: 0.0327 - lr: 4.5125e-04\n",
            "Epoch 54/200\n",
            "94/94 [==============================] - 2s 19ms/step - loss: 0.0020 - mae: 0.0323 - lr: 4.5125e-04\n",
            "Epoch 55/200\n",
            "94/94 [==============================] - 2s 19ms/step - loss: 0.0020 - mae: 0.0320 - lr: 4.5125e-04\n",
            "Epoch 56/200\n",
            "94/94 [==============================] - 2s 19ms/step - loss: 0.0019 - mae: 0.0316 - lr: 4.5125e-04\n",
            "Epoch 57/200\n",
            "94/94 [==============================] - 2s 20ms/step - loss: 0.0019 - mae: 0.0313 - lr: 4.5125e-04\n",
            "Epoch 58/200\n",
            "94/94 [==============================] - 2s 20ms/step - loss: 0.0019 - mae: 0.0312 - lr: 4.5125e-04\n",
            "Epoch 59/200\n",
            "94/94 [==============================] - 2s 19ms/step - loss: 0.0019 - mae: 0.0312 - lr: 4.5125e-04\n",
            "Epoch 60/200\n",
            "94/94 [==============================] - 2s 20ms/step - loss: 0.0018 - mae: 0.0309 - lr: 4.5125e-04\n",
            "Epoch 61/200\n",
            "94/94 [==============================] - 2s 19ms/step - loss: 0.0018 - mae: 0.0308 - lr: 4.5125e-04\n",
            "Epoch 62/200\n",
            "94/94 [==============================] - 2s 20ms/step - loss: 0.0018 - mae: 0.0307 - lr: 4.5125e-04\n",
            "Epoch 63/200\n",
            "94/94 [==============================] - 2s 20ms/step - loss: 0.0018 - mae: 0.0306 - lr: 4.5125e-04\n",
            "Epoch 64/200\n",
            "94/94 [==============================] - 2s 20ms/step - loss: 0.0018 - mae: 0.0303 - lr: 4.5125e-04\n",
            "Epoch 65/200\n",
            "94/94 [==============================] - 2s 19ms/step - loss: 0.0018 - mae: 0.0302 - lr: 4.5125e-04\n",
            "Epoch 66/200\n",
            "94/94 [==============================] - 2s 19ms/step - loss: 0.0017 - mae: 0.0298 - lr: 4.5125e-04\n",
            "Epoch 67/200\n",
            "94/94 [==============================] - 2s 19ms/step - loss: 0.0017 - mae: 0.0300 - lr: 4.5125e-04\n",
            "Epoch 68/200\n",
            "94/94 [==============================] - 2s 19ms/step - loss: 0.0017 - mae: 0.0297 - lr: 4.5125e-04\n",
            "Epoch 69/200\n",
            "94/94 [==============================] - 2s 21ms/step - loss: 0.0017 - mae: 0.0296 - lr: 4.5125e-04\n",
            "Epoch 70/200\n",
            "94/94 [==============================] - 2s 20ms/step - loss: 0.0017 - mae: 0.0297 - lr: 4.5125e-04\n",
            "Epoch 71/200\n",
            "94/94 [==============================] - 2s 19ms/step - loss: 0.0017 - mae: 0.0297 - lr: 4.5125e-04\n",
            "Epoch 72/200\n",
            "94/94 [==============================] - 2s 19ms/step - loss: 0.0017 - mae: 0.0298 - lr: 4.5125e-04\n",
            "Epoch 73/200\n",
            "94/94 [==============================] - 2s 19ms/step - loss: 0.0016 - mae: 0.0293 - lr: 4.5125e-04\n",
            "Epoch 74/200\n",
            "94/94 [==============================] - 2s 19ms/step - loss: 0.0017 - mae: 0.0297 - lr: 4.5125e-04\n",
            "Epoch 75/200\n",
            "94/94 [==============================] - 2s 20ms/step - loss: 0.0017 - mae: 0.0294 - lr: 4.5125e-04\n",
            "Epoch 76/200\n",
            "94/94 [==============================] - 2s 20ms/step - loss: 0.0017 - mae: 0.0293 - lr: 4.5125e-04\n",
            "Epoch 77/200\n",
            "94/94 [==============================] - 2s 19ms/step - loss: 0.0016 - mae: 0.0290 - lr: 4.5125e-04\n",
            "Epoch 78/200\n",
            "94/94 [==============================] - 2s 19ms/step - loss: 0.0016 - mae: 0.0290 - lr: 4.5125e-04\n",
            "Epoch 79/200\n",
            "94/94 [==============================] - 2s 19ms/step - loss: 0.0016 - mae: 0.0289 - lr: 4.5125e-04\n",
            "Epoch 80/200\n",
            "94/94 [==============================] - 2s 20ms/step - loss: 0.0016 - mae: 0.0288 - lr: 4.5125e-04\n",
            "Epoch 81/200\n",
            "94/94 [==============================] - 2s 21ms/step - loss: 0.0015 - mae: 0.0283 - lr: 4.5125e-04\n",
            "Epoch 82/200\n",
            "94/94 [==============================] - 2s 20ms/step - loss: 0.0015 - mae: 0.0283 - lr: 4.5125e-04\n",
            "Epoch 83/200\n",
            "94/94 [==============================] - 2s 19ms/step - loss: 0.0015 - mae: 0.0281 - lr: 4.5125e-04\n",
            "Epoch 84/200\n",
            "94/94 [==============================] - 2s 19ms/step - loss: 0.0015 - mae: 0.0282 - lr: 4.5125e-04\n",
            "Epoch 85/200\n",
            "94/94 [==============================] - 2s 19ms/step - loss: 0.0015 - mae: 0.0280 - lr: 4.5125e-04\n",
            "Epoch 86/200\n",
            "94/94 [==============================] - 2s 19ms/step - loss: 0.0015 - mae: 0.0279 - lr: 4.5125e-04\n",
            "Epoch 87/200\n",
            "94/94 [==============================] - 2s 20ms/step - loss: 0.0015 - mae: 0.0279 - lr: 4.5125e-04\n",
            "Epoch 88/200\n",
            "94/94 [==============================] - 2s 20ms/step - loss: 0.0015 - mae: 0.0277 - lr: 4.5125e-04\n",
            "Epoch 89/200\n",
            "94/94 [==============================] - 2s 19ms/step - loss: 0.0015 - mae: 0.0280 - lr: 4.5125e-04\n",
            "Epoch 90/200\n",
            "94/94 [==============================] - 2s 19ms/step - loss: 0.0015 - mae: 0.0279 - lr: 4.5125e-04\n",
            "Epoch 91/200\n",
            "94/94 [==============================] - 2s 18ms/step - loss: 0.0015 - mae: 0.0275 - lr: 4.5125e-04\n",
            "Epoch 92/200\n",
            "94/94 [==============================] - 2s 19ms/step - loss: 0.0014 - mae: 0.0273 - lr: 4.5125e-04\n",
            "Epoch 93/200\n",
            "94/94 [==============================] - 2s 20ms/step - loss: 0.0014 - mae: 0.0271 - lr: 4.5125e-04\n",
            "Epoch 94/200\n",
            "94/94 [==============================] - 2s 20ms/step - loss: 0.0014 - mae: 0.0271 - lr: 4.5125e-04\n",
            "Epoch 95/200\n",
            "94/94 [==============================] - 2s 20ms/step - loss: 0.0014 - mae: 0.0272 - lr: 4.5125e-04\n",
            "Epoch 96/200\n",
            "94/94 [==============================] - 2s 21ms/step - loss: 0.0014 - mae: 0.0271 - lr: 4.5125e-04\n",
            "Epoch 97/200\n",
            "94/94 [==============================] - 2s 20ms/step - loss: 0.0014 - mae: 0.0273 - lr: 4.5125e-04\n",
            "Epoch 98/200\n",
            "94/94 [==============================] - 2s 21ms/step - loss: 0.0014 - mae: 0.0272 - lr: 4.5125e-04\n",
            "Epoch 99/200\n",
            "94/94 [==============================] - 2s 21ms/step - loss: 0.0014 - mae: 0.0272 - lr: 4.2869e-04\n",
            "Epoch 100/200\n",
            "94/94 [==============================] - 2s 20ms/step - loss: 0.0014 - mae: 0.0266 - lr: 4.2869e-04\n",
            "Epoch 101/200\n",
            "94/94 [==============================] - 2s 19ms/step - loss: 0.0013 - mae: 0.0262 - lr: 4.2869e-04\n",
            "Epoch 102/200\n",
            "94/94 [==============================] - 2s 19ms/step - loss: 0.0013 - mae: 0.0260 - lr: 4.2869e-04\n",
            "Epoch 103/200\n",
            "94/94 [==============================] - 2s 19ms/step - loss: 0.0013 - mae: 0.0259 - lr: 4.2869e-04\n",
            "Epoch 104/200\n",
            "94/94 [==============================] - 2s 19ms/step - loss: 0.0013 - mae: 0.0257 - lr: 4.2869e-04\n",
            "Epoch 105/200\n",
            "94/94 [==============================] - 2s 21ms/step - loss: 0.0013 - mae: 0.0262 - lr: 4.2869e-04\n",
            "Epoch 106/200\n",
            "94/94 [==============================] - 2s 19ms/step - loss: 0.0013 - mae: 0.0261 - lr: 4.2869e-04\n",
            "Epoch 107/200\n",
            "94/94 [==============================] - 2s 19ms/step - loss: 0.0013 - mae: 0.0255 - lr: 4.2869e-04\n",
            "Epoch 108/200\n",
            "94/94 [==============================] - 2s 20ms/step - loss: 0.0013 - mae: 0.0258 - lr: 4.2869e-04\n",
            "Epoch 109/200\n",
            "94/94 [==============================] - 2s 20ms/step - loss: 0.0012 - mae: 0.0253 - lr: 4.2869e-04\n",
            "Epoch 110/200\n",
            "94/94 [==============================] - 2s 19ms/step - loss: 0.0013 - mae: 0.0255 - lr: 4.2869e-04\n",
            "Epoch 111/200\n",
            "94/94 [==============================] - 2s 20ms/step - loss: 0.0012 - mae: 0.0252 - lr: 4.2869e-04\n",
            "Epoch 112/200\n",
            "94/94 [==============================] - 2s 21ms/step - loss: 0.0013 - mae: 0.0254 - lr: 4.2869e-04\n",
            "Epoch 113/200\n",
            "94/94 [==============================] - 2s 19ms/step - loss: 0.0012 - mae: 0.0253 - lr: 4.2869e-04\n",
            "Epoch 114/200\n",
            "94/94 [==============================] - 2s 19ms/step - loss: 0.0013 - mae: 0.0255 - lr: 4.2869e-04\n",
            "Epoch 115/200\n",
            "94/94 [==============================] - 2s 19ms/step - loss: 0.0012 - mae: 0.0253 - lr: 4.2869e-04\n",
            "Epoch 116/200\n",
            "94/94 [==============================] - 2s 20ms/step - loss: 0.0013 - mae: 0.0257 - lr: 4.2869e-04\n",
            "Epoch 117/200\n",
            "94/94 [==============================] - 2s 21ms/step - loss: 0.0012 - mae: 0.0253 - lr: 4.0725e-04\n",
            "Epoch 118/200\n",
            "94/94 [==============================] - 2s 20ms/step - loss: 0.0013 - mae: 0.0255 - lr: 4.0725e-04\n",
            "Epoch 119/200\n",
            "94/94 [==============================] - 2s 19ms/step - loss: 0.0012 - mae: 0.0249 - lr: 4.0725e-04\n",
            "Epoch 120/200\n",
            "94/94 [==============================] - 2s 19ms/step - loss: 0.0012 - mae: 0.0249 - lr: 4.0725e-04\n",
            "Epoch 121/200\n",
            "94/94 [==============================] - 2s 19ms/step - loss: 0.0012 - mae: 0.0244 - lr: 4.0725e-04\n",
            "Epoch 122/200\n",
            "94/94 [==============================] - 2s 19ms/step - loss: 0.0012 - mae: 0.0244 - lr: 4.0725e-04\n",
            "Epoch 123/200\n",
            "94/94 [==============================] - 2s 21ms/step - loss: 0.0012 - mae: 0.0244 - lr: 4.0725e-04\n",
            "Epoch 124/200\n",
            "94/94 [==============================] - 2s 20ms/step - loss: 0.0011 - mae: 0.0242 - lr: 4.0725e-04\n",
            "Epoch 125/200\n",
            "94/94 [==============================] - 2s 19ms/step - loss: 0.0012 - mae: 0.0249 - lr: 4.0725e-04\n",
            "Epoch 126/200\n",
            "94/94 [==============================] - 2s 19ms/step - loss: 0.0012 - mae: 0.0245 - lr: 4.0725e-04\n",
            "Epoch 127/200\n",
            "94/94 [==============================] - 2s 19ms/step - loss: 0.0011 - mae: 0.0243 - lr: 4.0725e-04\n",
            "Epoch 128/200\n",
            "94/94 [==============================] - 2s 18ms/step - loss: 0.0011 - mae: 0.0239 - lr: 4.0725e-04\n",
            "Epoch 129/200\n",
            "94/94 [==============================] - 2s 20ms/step - loss: 0.0011 - mae: 0.0242 - lr: 4.0725e-04\n",
            "Epoch 130/200\n",
            "94/94 [==============================] - 2s 20ms/step - loss: 0.0011 - mae: 0.0238 - lr: 4.0725e-04\n",
            "Epoch 131/200\n",
            "94/94 [==============================] - 2s 19ms/step - loss: 0.0011 - mae: 0.0241 - lr: 4.0725e-04\n",
            "Epoch 132/200\n",
            "94/94 [==============================] - 2s 19ms/step - loss: 0.0011 - mae: 0.0239 - lr: 4.0725e-04\n",
            "Epoch 133/200\n",
            "94/94 [==============================] - 2s 19ms/step - loss: 0.0011 - mae: 0.0241 - lr: 4.0725e-04\n",
            "Epoch 134/200\n",
            "94/94 [==============================] - 2s 19ms/step - loss: 0.0011 - mae: 0.0240 - lr: 4.0725e-04\n",
            "Epoch 135/200\n",
            "94/94 [==============================] - 2s 19ms/step - loss: 0.0011 - mae: 0.0239 - lr: 4.0725e-04\n",
            "Epoch 136/200\n",
            "94/94 [==============================] - 2s 20ms/step - loss: 0.0011 - mae: 0.0242 - lr: 3.8689e-04\n",
            "Epoch 137/200\n",
            "94/94 [==============================] - 2s 19ms/step - loss: 0.0011 - mae: 0.0242 - lr: 3.8689e-04\n",
            "Epoch 138/200\n",
            "94/94 [==============================] - 2s 19ms/step - loss: 0.0011 - mae: 0.0240 - lr: 3.8689e-04\n",
            "Epoch 139/200\n",
            "94/94 [==============================] - 2s 19ms/step - loss: 0.0011 - mae: 0.0238 - lr: 3.8689e-04\n",
            "Epoch 140/200\n",
            "94/94 [==============================] - 2s 19ms/step - loss: 0.0011 - mae: 0.0234 - lr: 3.8689e-04\n",
            "Epoch 141/200\n",
            "94/94 [==============================] - 2s 20ms/step - loss: 0.0011 - mae: 0.0234 - lr: 3.8689e-04\n",
            "Epoch 142/200\n",
            "94/94 [==============================] - 2s 21ms/step - loss: 0.0011 - mae: 0.0234 - lr: 3.8689e-04\n",
            "Epoch 143/200\n",
            "94/94 [==============================] - 2s 19ms/step - loss: 0.0011 - mae: 0.0234 - lr: 3.8689e-04\n",
            "Epoch 144/200\n",
            "94/94 [==============================] - 2s 20ms/step - loss: 0.0011 - mae: 0.0233 - lr: 3.8689e-04\n",
            "Epoch 145/200\n",
            "94/94 [==============================] - 2s 19ms/step - loss: 0.0011 - mae: 0.0233 - lr: 3.8689e-04\n",
            "Epoch 146/200\n",
            "94/94 [==============================] - 2s 20ms/step - loss: 0.0011 - mae: 0.0234 - lr: 3.8689e-04\n",
            "Epoch 147/200\n",
            "94/94 [==============================] - 2s 20ms/step - loss: 0.0010 - mae: 0.0232 - lr: 3.8689e-04\n",
            "Epoch 148/200\n",
            "94/94 [==============================] - 2s 21ms/step - loss: 0.0011 - mae: 0.0235 - lr: 3.8689e-04\n",
            "Epoch 149/200\n",
            "94/94 [==============================] - 2s 20ms/step - loss: 0.0011 - mae: 0.0234 - lr: 3.8689e-04\n",
            "Epoch 150/200\n",
            "94/94 [==============================] - 2s 20ms/step - loss: 0.0011 - mae: 0.0235 - lr: 3.8689e-04\n",
            "Epoch 151/200\n",
            "94/94 [==============================] - 2s 20ms/step - loss: 0.0011 - mae: 0.0237 - lr: 3.8689e-04\n",
            "Epoch 152/200\n",
            "94/94 [==============================] - 2s 20ms/step - loss: 0.0011 - mae: 0.0233 - lr: 3.8689e-04\n",
            "Epoch 153/200\n",
            "94/94 [==============================] - 2s 21ms/step - loss: 0.0010 - mae: 0.0232 - lr: 3.6755e-04\n",
            "Epoch 154/200\n",
            "94/94 [==============================] - 2s 21ms/step - loss: 0.0011 - mae: 0.0236 - lr: 3.6755e-04\n",
            "Epoch 155/200\n",
            "94/94 [==============================] - 2s 20ms/step - loss: 0.0011 - mae: 0.0233 - lr: 3.6755e-04\n",
            "Epoch 156/200\n",
            "94/94 [==============================] - 2s 20ms/step - loss: 0.0011 - mae: 0.0233 - lr: 3.6755e-04\n",
            "Epoch 157/200\n",
            "94/94 [==============================] - 2s 19ms/step - loss: 0.0010 - mae: 0.0229 - lr: 3.6755e-04\n",
            "Epoch 158/200\n",
            "94/94 [==============================] - 2s 19ms/step - loss: 0.0010 - mae: 0.0227 - lr: 3.6755e-04\n",
            "Epoch 159/200\n",
            "94/94 [==============================] - 2s 20ms/step - loss: 9.8515e-04 - mae: 0.0225 - lr: 3.6755e-04\n",
            "Epoch 160/200\n",
            "94/94 [==============================] - 2s 20ms/step - loss: 9.8102e-04 - mae: 0.0225 - lr: 3.6755e-04\n",
            "Epoch 161/200\n",
            "94/94 [==============================] - 2s 19ms/step - loss: 9.7648e-04 - mae: 0.0224 - lr: 3.6755e-04\n",
            "Epoch 162/200\n",
            "94/94 [==============================] - 2s 19ms/step - loss: 9.7817e-04 - mae: 0.0224 - lr: 3.6755e-04\n",
            "Epoch 163/200\n",
            "94/94 [==============================] - 2s 19ms/step - loss: 9.8161e-04 - mae: 0.0225 - lr: 3.6755e-04\n",
            "Epoch 164/200\n",
            "94/94 [==============================] - 2s 20ms/step - loss: 9.6272e-04 - mae: 0.0222 - lr: 3.6755e-04\n",
            "Epoch 165/200\n",
            "94/94 [==============================] - 2s 20ms/step - loss: 0.0010 - mae: 0.0228 - lr: 3.6755e-04\n",
            "Epoch 166/200\n",
            "94/94 [==============================] - 2s 21ms/step - loss: 9.8405e-04 - mae: 0.0225 - lr: 3.6755e-04\n",
            "Epoch 167/200\n",
            "94/94 [==============================] - 2s 19ms/step - loss: 0.0010 - mae: 0.0229 - lr: 3.6755e-04\n",
            "Epoch 168/200\n",
            "94/94 [==============================] - 2s 19ms/step - loss: 9.9790e-04 - mae: 0.0226 - lr: 3.6755e-04\n",
            "Epoch 169/200\n",
            "94/94 [==============================] - 2s 19ms/step - loss: 9.7446e-04 - mae: 0.0224 - lr: 3.6755e-04\n",
            "Epoch 170/200\n",
            "94/94 [==============================] - 2s 19ms/step - loss: 0.0010 - mae: 0.0229 - lr: 3.4917e-04\n",
            "Epoch 171/200\n",
            "94/94 [==============================] - 2s 20ms/step - loss: 9.8375e-04 - mae: 0.0225 - lr: 3.4917e-04\n",
            "Epoch 172/200\n",
            "94/94 [==============================] - 2s 20ms/step - loss: 9.7026e-04 - mae: 0.0223 - lr: 3.4917e-04\n",
            "Epoch 173/200\n",
            "94/94 [==============================] - 2s 19ms/step - loss: 9.8556e-04 - mae: 0.0225 - lr: 3.4917e-04\n",
            "Epoch 174/200\n",
            "94/94 [==============================] - 2s 20ms/step - loss: 9.5276e-04 - mae: 0.0221 - lr: 3.4917e-04\n",
            "Epoch 175/200\n",
            "94/94 [==============================] - 2s 19ms/step - loss: 9.6813e-04 - mae: 0.0223 - lr: 3.4917e-04\n",
            "Epoch 176/200\n",
            "94/94 [==============================] - 2s 19ms/step - loss: 9.6325e-04 - mae: 0.0223 - lr: 3.4917e-04\n",
            "Epoch 177/200\n",
            "94/94 [==============================] - 2s 21ms/step - loss: 9.3302e-04 - mae: 0.0219 - lr: 3.4917e-04\n",
            "Epoch 178/200\n",
            "94/94 [==============================] - 2s 20ms/step - loss: 9.6562e-04 - mae: 0.0223 - lr: 3.4917e-04\n",
            "Epoch 179/200\n",
            "94/94 [==============================] - 2s 19ms/step - loss: 9.3995e-04 - mae: 0.0220 - lr: 3.4917e-04\n",
            "Epoch 180/200\n",
            "94/94 [==============================] - 2s 19ms/step - loss: 9.4439e-04 - mae: 0.0220 - lr: 3.4917e-04\n",
            "Epoch 181/200\n",
            "94/94 [==============================] - 2s 20ms/step - loss: 9.5048e-04 - mae: 0.0221 - lr: 3.4917e-04\n",
            "Epoch 182/200\n",
            "94/94 [==============================] - 2s 20ms/step - loss: 9.3458e-04 - mae: 0.0219 - lr: 3.4917e-04\n",
            "Epoch 183/200\n",
            "94/94 [==============================] - 2s 21ms/step - loss: 9.5768e-04 - mae: 0.0222 - lr: 3.3171e-04\n",
            "Epoch 184/200\n",
            "94/94 [==============================] - 2s 21ms/step - loss: 9.4027e-04 - mae: 0.0220 - lr: 3.3171e-04\n",
            "Epoch 185/200\n",
            "94/94 [==============================] - 2s 20ms/step - loss: 9.1647e-04 - mae: 0.0217 - lr: 3.3171e-04\n",
            "Epoch 186/200\n",
            "94/94 [==============================] - 2s 19ms/step - loss: 9.3504e-04 - mae: 0.0220 - lr: 3.3171e-04\n",
            "Epoch 187/200\n",
            "94/94 [==============================] - 2s 19ms/step - loss: 9.0609e-04 - mae: 0.0216 - lr: 3.3171e-04\n",
            "Epoch 188/200\n",
            "94/94 [==============================] - 2s 20ms/step - loss: 9.2138e-04 - mae: 0.0218 - lr: 3.3171e-04\n",
            "Epoch 189/200\n",
            "94/94 [==============================] - 2s 21ms/step - loss: 9.0993e-04 - mae: 0.0216 - lr: 3.3171e-04\n",
            "Epoch 190/200\n",
            "94/94 [==============================] - 2s 20ms/step - loss: 9.0409e-04 - mae: 0.0216 - lr: 3.3171e-04\n",
            "Epoch 191/200\n",
            "94/94 [==============================] - 2s 19ms/step - loss: 9.1094e-04 - mae: 0.0217 - lr: 3.3171e-04\n",
            "Epoch 192/200\n",
            "94/94 [==============================] - 2s 20ms/step - loss: 8.9828e-04 - mae: 0.0215 - lr: 3.3171e-04\n",
            "Epoch 193/200\n",
            "94/94 [==============================] - 2s 19ms/step - loss: 9.0875e-04 - mae: 0.0217 - lr: 3.3171e-04\n",
            "Epoch 194/200\n",
            "94/94 [==============================] - 2s 19ms/step - loss: 9.1312e-04 - mae: 0.0217 - lr: 3.3171e-04\n",
            "Epoch 195/200\n",
            "94/94 [==============================] - 2s 21ms/step - loss: 8.9923e-04 - mae: 0.0215 - lr: 3.3171e-04\n",
            "Epoch 196/200\n",
            "94/94 [==============================] - 2s 20ms/step - loss: 9.2322e-04 - mae: 0.0218 - lr: 3.3171e-04\n",
            "Epoch 197/200\n",
            "94/94 [==============================] - 2s 20ms/step - loss: 8.9490e-04 - mae: 0.0215 - lr: 3.3171e-04\n",
            "Epoch 198/200\n",
            "94/94 [==============================] - 2s 20ms/step - loss: 9.2879e-04 - mae: 0.0219 - lr: 3.1512e-04\n",
            "Epoch 199/200\n",
            "94/94 [==============================] - 2s 20ms/step - loss: 8.9336e-04 - mae: 0.0214 - lr: 3.1512e-04\n",
            "Epoch 200/200\n",
            "94/94 [==============================] - 2s 20ms/step - loss: 9.0044e-04 - mae: 0.0215 - lr: 3.1512e-04\n"
          ]
        },
        {
          "output_type": "execute_result",
          "data": {
            "text/plain": [
              "<keras.callbacks.History at 0x7fe2f4ba4520>"
            ]
          },
          "metadata": {},
          "execution_count": 54
        }
      ]
    },
    {
      "cell_type": "code",
      "source": [
        "print(lstm.summary())"
      ],
      "metadata": {
        "id": "dGwWaEfp2k2C",
        "colab": {
          "base_uri": "https://localhost:8080/"
        },
        "outputId": "b08863f3-3272-4fd5-a2bb-67106f04c683"
      },
      "execution_count": 55,
      "outputs": [
        {
          "output_type": "stream",
          "name": "stdout",
          "text": [
            "Model: \"sequential\"\n",
            "_________________________________________________________________\n",
            " Layer (type)                Output Shape              Param #   \n",
            "=================================================================\n",
            " lstm_1 (LSTM)               (None, 200)               161600    \n",
            "                                                                 \n",
            " dense_1 (Dense)             (None, 10)                2010      \n",
            "                                                                 \n",
            "=================================================================\n",
            "Total params: 163,610\n",
            "Trainable params: 163,610\n",
            "Non-trainable params: 0\n",
            "_________________________________________________________________\n",
            "None\n"
          ]
        }
      ]
    },
    {
      "cell_type": "markdown",
      "metadata": {
        "id": "qmqv36T22q14"
      },
      "source": [
        "### Evaluating the forecast\n",
        "\n",
        "Now it is time to evaluate the performance of the forecast. For this we use the `compute_metrics` function:"
      ]
    },
    {
      "cell_type": "markdown",
      "metadata": {
        "id": "pNXZsSWj2q14"
      },
      "source": [
        "At this point only the model that will perform the forecast is ready but we still need to compute the actual forecast.\n",
        "\n"
      ]
    },
    {
      "cell_type": "markdown",
      "metadata": {
        "id": "69hXQLIt2q14"
      },
      "source": [
        "Faster model forecasts\n",
        "\n",
        "\n",
        "- The dataset is windowed using `window_size` rather than `window_size + 1`\n",
        "- No shuffle should be used\n",
        "- No need to split the data into features and labels\n",
        "- A model is used to predict batches of the dataset"
      ]
    },
    {
      "cell_type": "markdown",
      "metadata": {
        "id": "IkBPXdOF2q15"
      },
      "source": [
        "Now compute the actual forecast:"
      ]
    },
    {
      "cell_type": "code",
      "source": [
        "# Evaluate each model and the ensemble on the test set\n",
        "# remember the last predicted value is not in the test set. It should be removed when producing y_hat series.\n",
        "\n",
        "lstm_pred =  model_forecast(lstm, series_norm, G.WINDOW_SIZE).squeeze()\n",
        "\n"
      ],
      "metadata": {
        "id": "TSXEvwkY2q15",
        "colab": {
          "base_uri": "https://localhost:8080/"
        },
        "outputId": "d6d86f83-f49f-4646-de1e-fa0b66c8ca82"
      },
      "execution_count": 56,
      "outputs": [
        {
          "output_type": "stream",
          "name": "stdout",
          "text": [
            "105/105 [==============================] - 4s 17ms/step\n"
          ]
        }
      ]
    },
    {
      "cell_type": "code",
      "source": [
        "lstm_pred = reverse_normalization(lstm_pred, series_train)\n"
      ],
      "metadata": {
        "id": "2sIYjSJ02q15"
      },
      "execution_count": 57,
      "outputs": []
    },
    {
      "cell_type": "code",
      "source": [
        "series_hat_lstm = lstm_pred"
      ],
      "metadata": {
        "id": "nndXb5dY2q15"
      },
      "execution_count": 58,
      "outputs": []
    },
    {
      "cell_type": "code",
      "source": [
        "series_y_hat_lstm = np.array(list(series_hat_lstm[:-1]))"
      ],
      "metadata": {
        "id": "cW835geK2q15"
      },
      "execution_count": 59,
      "outputs": []
    },
    {
      "cell_type": "code",
      "source": [
        "series_test = series_y[-G.SPLIT_TIME:]\n",
        "series_test_hat_lstm_1 = series_y_hat_lstm[-G.SPLIT_TIME:,0]\n",
        "series_test_hat_lstm_2 = series_y_hat_lstm[-G.SPLIT_TIME:-1,1]\n",
        "series_test_hat_lstm_3 = series_y_hat_lstm[-G.SPLIT_TIME:-2,2]\n",
        "series_test_hat_lstm_4 = series_y_hat_lstm[-G.SPLIT_TIME:-3,3]\n",
        "series_test_hat_lstm_5 = series_y_hat_lstm[-G.SPLIT_TIME:-4,4]\n",
        "series_test_hat_lstm_6 = series_y_hat_lstm[-G.SPLIT_TIME:-5,5]\n",
        "series_test_hat_lstm_7 = series_y_hat_lstm[-G.SPLIT_TIME:-6,6]\n",
        "series_test_hat_lstm_8 = series_y_hat_lstm[-G.SPLIT_TIME:-7,7]\n",
        "series_test_hat_lstm_9 = series_y_hat_lstm[-G.SPLIT_TIME:-8,8]\n",
        "series_test_hat_lstm_10 = series_y_hat_lstm[-G.SPLIT_TIME:-9,9]\n"
      ],
      "metadata": {
        "id": "t_APcIYZ2q15"
      },
      "execution_count": 60,
      "outputs": []
    },
    {
      "cell_type": "code",
      "source": [
        "# Plot the forecast\n",
        "\n",
        "plt.figure(figsize=(10, 6))\n",
        "\n",
        "plt.plot(np.arange( 1, len(time_test)+1 ), series_test, linestyle='-', color='blue', label='Original Value')\n",
        "\n",
        "plt.plot(np.arange( 1, len(time_test)+1 ), series_test_hat_lstm_1, linestyle='-', color='Red', label='1-step forecasting')\n",
        "\n",
        "plt.plot(np.arange( 5, len(time_test)+1 ), series_test_hat_lstm_5, linestyle='--', color='Orange', label='5-step forecasting')\n",
        "\n",
        "plt.plot(np.arange( 10, len(time_test)+1 ), series_test_hat_lstm_10, linestyle=':', color='Green', label='10-step forecasting')\n",
        "\n",
        "plt.ylabel(\"Index Value\")\n",
        "plt.xlabel(\"Time Step\")\n",
        "plt.title(\"GOLD test set prediction with LSTM\")\n",
        "legend_drawn_flag = True\n",
        "plt.legend([\"Original Value (GOLD)\", \"1-step forecasting\",\"5-step forecasting\",\"10-step forecasting\"], loc='upper left', frameon=legend_drawn_flag)\n",
        "plt.savefig(\"/content/gdrive/MyDrive/Multistage/GOLD/figures/lstm_forecasts_GOLD.tif\")"
      ],
      "metadata": {
        "id": "bEKY3i882q15",
        "colab": {
          "base_uri": "https://localhost:8080/",
          "height": 419
        },
        "outputId": "5ed8afb6-77a9-4f98-e14b-2eee7af89335"
      },
      "execution_count": 61,
      "outputs": [
        {
          "output_type": "display_data",
          "data": {
            "text/plain": [
              "<Figure size 720x432 with 1 Axes>"
            ],
            "image/png": "[encoded data removed]"
          },
          "metadata": {
            "needs_background": "light"
          }
        }
      ]
    },
    {
      "cell_type": "code",
      "execution_count": 62,
      "metadata": {
        "id": "Ez6lBpPy2q15",
        "colab": {
          "base_uri": "https://localhost:8080/"
        },
        "outputId": "00319632-78a9-4233-f9a3-5919f4aa81a3"
      },
      "outputs": [
        {
          "output_type": "stream",
          "name": "stdout",
          "text": [
            "rmse: 44.83, mae: 35.13 , mape: 2.05 for 1 step forecast\n"
          ]
        }
      ],
      "source": [
        "rmse_lstm_1, mae_lstm_1, mape_lstm_1= compute_metrics(series_test, series_test_hat_lstm_1)\n",
        "\n",
        "print(f\"rmse: {rmse_lstm_1:.2f}, mae: {mae_lstm_1:.2f} , mape: {mape_lstm_1:.2f} for 1 step forecast\")"
      ]
    },
    {
      "cell_type": "code",
      "source": [
        "rmse_lstm_2, mae_lstm_2, mape_lstm_2= compute_metrics(series_test[1:], series_test_hat_lstm_2)\n",
        "\n",
        "print(f\"rmse: {rmse_lstm_2:.2f}, mae: {mae_lstm_2:.2f} , mape: {mape_lstm_2:.2f} for 2 steps forecast\")"
      ],
      "metadata": {
        "id": "iU_HiFXm2q16",
        "colab": {
          "base_uri": "https://localhost:8080/"
        },
        "outputId": "80c41f65-a05b-4f2e-8020-145767288851"
      },
      "execution_count": 63,
      "outputs": [
        {
          "output_type": "stream",
          "name": "stdout",
          "text": [
            "rmse: 50.44, mae: 39.30 , mape: 2.30 for 2 steps forecast\n"
          ]
        }
      ]
    },
    {
      "cell_type": "code",
      "source": [
        "rmse_lstm_3, mae_lstm_3, mape_lstm_3= compute_metrics(series_test[2:], series_test_hat_lstm_3)\n",
        "\n",
        "print(f\"rmse: {rmse_lstm_3:.2f}, mae: {mae_lstm_3:.2f} , mape: {mape_lstm_3:.2f} for 3 steps forecast\")"
      ],
      "metadata": {
        "id": "zI2kIDOh2q16",
        "colab": {
          "base_uri": "https://localhost:8080/"
        },
        "outputId": "e97649c5-3fa3-472e-86fc-03f74a868149"
      },
      "execution_count": 64,
      "outputs": [
        {
          "output_type": "stream",
          "name": "stdout",
          "text": [
            "rmse: 56.49, mae: 43.47 , mape: 2.56 for 3 steps forecast\n"
          ]
        }
      ]
    },
    {
      "cell_type": "code",
      "source": [
        "rmse_lstm_4, mae_lstm_4, mape_lstm_4= compute_metrics(series_test[3:], series_test_hat_lstm_4)\n",
        "\n",
        "print(f\"rmse: {rmse_lstm_4:.2f}, mae: {mae_lstm_4:.2f} , mape: {mape_lstm_4:.2f} for 4 steps forecast\")"
      ],
      "metadata": {
        "id": "HLb3bAJV2q16",
        "colab": {
          "base_uri": "https://localhost:8080/"
        },
        "outputId": "9a692e6a-4c33-4ffe-d536-5c390b24af11"
      },
      "execution_count": 65,
      "outputs": [
        {
          "output_type": "stream",
          "name": "stdout",
          "text": [
            "rmse: 61.44, mae: 47.84 , mape: 2.82 for 4 steps forecast\n"
          ]
        }
      ]
    },
    {
      "cell_type": "code",
      "source": [
        "rmse_lstm_5, mae_lstm_5, mape_lstm_5= compute_metrics(series_test[4:], series_test_hat_lstm_5)\n",
        "\n",
        "print(f\"rmse: {rmse_lstm_5:.2f}, mae: {mae_lstm_5:.2f} , mape: {mape_lstm_5:.2f} for 5 steps forecast\")"
      ],
      "metadata": {
        "id": "hqh5YYO52q16",
        "colab": {
          "base_uri": "https://localhost:8080/"
        },
        "outputId": "8322ad9a-9fd9-4237-ac42-db2686fe580c"
      },
      "execution_count": 66,
      "outputs": [
        {
          "output_type": "stream",
          "name": "stdout",
          "text": [
            "rmse: 64.44, mae: 49.62 , mape: 2.93 for 5 steps forecast\n"
          ]
        }
      ]
    },
    {
      "cell_type": "code",
      "source": [
        "rmse_lstm_6, mae_lstm_6, mape_lstm_6= compute_metrics(series_test[5:], series_test_hat_lstm_6)\n",
        "\n",
        "print(f\"rmse: {rmse_lstm_6:.2f}, mae: {mae_lstm_6:.2f} , mape: {mape_lstm_6:.2f} for 6 steps forecast\")"
      ],
      "metadata": {
        "id": "ZivDw6ps2q16",
        "colab": {
          "base_uri": "https://localhost:8080/"
        },
        "outputId": "7a68715a-594b-4d40-b070-35ae083da744"
      },
      "execution_count": 67,
      "outputs": [
        {
          "output_type": "stream",
          "name": "stdout",
          "text": [
            "rmse: 67.55, mae: 52.80 , mape: 3.13 for 6 steps forecast\n"
          ]
        }
      ]
    },
    {
      "cell_type": "code",
      "source": [
        "rmse_lstm_7, mae_lstm_7, mape_lstm_7= compute_metrics(series_test[6:], series_test_hat_lstm_7)\n",
        "\n",
        "print(f\"rmse: {rmse_lstm_7:.2f}, mae: {mae_lstm_7:.2f} , mape: {mape_lstm_7:.2f} for 7 steps forecast\")"
      ],
      "metadata": {
        "id": "ifCmUr3o2q16",
        "colab": {
          "base_uri": "https://localhost:8080/"
        },
        "outputId": "7609be55-d59c-4779-d26f-108336bb9d01"
      },
      "execution_count": 68,
      "outputs": [
        {
          "output_type": "stream",
          "name": "stdout",
          "text": [
            "rmse: 72.92, mae: 57.41 , mape: 3.39 for 7 steps forecast\n"
          ]
        }
      ]
    },
    {
      "cell_type": "code",
      "source": [
        "rmse_lstm_8, mae_lstm_8, mape_lstm_8= compute_metrics(series_test[7:], series_test_hat_lstm_8)\n",
        "\n",
        "print(f\"rmse: {rmse_lstm_8:.2f}, mae: {mae_lstm_8:.2f} , mape: {mape_lstm_8:.2f} for 8 steps forecast\")"
      ],
      "metadata": {
        "id": "L1i7I5jW2q16",
        "colab": {
          "base_uri": "https://localhost:8080/"
        },
        "outputId": "1efce489-100b-406a-94cb-23ba143e1246"
      },
      "execution_count": 69,
      "outputs": [
        {
          "output_type": "stream",
          "name": "stdout",
          "text": [
            "rmse: 74.10, mae: 58.34 , mape: 3.45 for 8 steps forecast\n"
          ]
        }
      ]
    },
    {
      "cell_type": "code",
      "source": [
        "rmse_lstm_9, mae_lstm_9, mape_lstm_9= compute_metrics(series_test[8:], series_test_hat_lstm_9)\n",
        "\n",
        "print(f\"rmse: {rmse_lstm_9:.2f}, mae: {mae_lstm_9:.2f} , mape: {mape_lstm_9:.2f} for 9 steps forecast\")"
      ],
      "metadata": {
        "id": "6U_p1huZ2q16",
        "colab": {
          "base_uri": "https://localhost:8080/"
        },
        "outputId": "fea8ee13-786c-4955-83a0-93619e57d66f"
      },
      "execution_count": 70,
      "outputs": [
        {
          "output_type": "stream",
          "name": "stdout",
          "text": [
            "rmse: 77.81, mae: 61.85 , mape: 3.67 for 9 steps forecast\n"
          ]
        }
      ]
    },
    {
      "cell_type": "code",
      "source": [
        "rmse_lstm_10, mae_lstm_10, mape_lstm_10= compute_metrics(series_test[9:], series_test_hat_lstm_10)\n",
        "\n",
        "print(f\"rmse: {rmse_lstm_10:.2f}, mae: {mae_lstm_10:.2f} , mape: {mape_lstm_10:.2f} for 10 steps forecast\")"
      ],
      "metadata": {
        "id": "37DXez7U2q17",
        "colab": {
          "base_uri": "https://localhost:8080/"
        },
        "outputId": "8d23bc34-67b7-40c1-a16f-25b485121db8"
      },
      "execution_count": 71,
      "outputs": [
        {
          "output_type": "stream",
          "name": "stdout",
          "text": [
            "rmse: 81.11, mae: 64.10 , mape: 3.79 for 10 steps forecast\n"
          ]
        }
      ]
    },
    {
      "cell_type": "code",
      "source": [
        "# Save_weights model\n",
        "\n",
        "lstm.save_weights(\"/content/gdrive/MyDrive/Multistage/GOLD/models/lstm_GOLD_MIMO.h5\", overwrite=True, save_format=None, options=None)\n"
      ],
      "metadata": {
        "id": "5gvJDjhj2q17"
      },
      "execution_count": 72,
      "outputs": []
    },
    {
      "cell_type": "code",
      "source": [
        "# Save predicted values\n",
        "\n",
        "np.savetxt(\"/content/gdrive/MyDrive/Multistage/GOLD/files/lstm_predicted_test_GOLD_1.csv\", \n",
        "           series_test_hat_lstm_1.T, delimiter=\",\")\n",
        "np.savetxt(\"/content/gdrive/MyDrive/Multistage/GOLD/files/lstm_predicted_test_GOLD_2.csv\", \n",
        "           series_test_hat_lstm_2.T, delimiter=\",\")\n",
        "np.savetxt(\"/content/gdrive/MyDrive/Multistage/GOLD/files/lstm_predicted_test_GOLD_3.csv\", \n",
        "           series_test_hat_lstm_3.T, delimiter=\",\")\n",
        "np.savetxt(\"/content/gdrive/MyDrive/Multistage/GOLD/files/lstm_predicted_test_GOLD_4.csv\", \n",
        "           series_test_hat_lstm_4.T, delimiter=\",\")\n",
        "np.savetxt(\"/content/gdrive/MyDrive/Multistage/GOLD/files/lstm_predicted_test_GOLD_5.csv\", \n",
        "           series_test_hat_lstm_5.T, delimiter=\",\")\n",
        "np.savetxt(\"/content/gdrive/MyDrive/Multistage/GOLD/files/lstm_predicted_test_GOLD_6.csv\", \n",
        "           series_test_hat_lstm_6.T, delimiter=\",\")\n",
        "np.savetxt(\"/content/gdrive/MyDrive/Multistage/GOLD/files/lstm_predicted_test_GOLD_7.csv\", \n",
        "           series_test_hat_lstm_7.T, delimiter=\",\")\n",
        "np.savetxt(\"/content/gdrive/MyDrive/Multistage/GOLD/files/lstm_predicted_test_GOLD_8.csv\", \n",
        "           series_test_hat_lstm_8.T, delimiter=\",\")\n",
        "np.savetxt(\"/content/gdrive/MyDrive/Multistage/GOLD/files/lstm_predicted_test_GOLD_9.csv\", \n",
        "           series_test_hat_lstm_9.T, delimiter=\",\")\n",
        "np.savetxt(\"/content/gdrive/MyDrive/Multistage/GOLD/files/lstm_predicted_test_GOLD_10.csv\", \n",
        "           series_test_hat_lstm_10.T, delimiter=\",\")\n",
        "\n",
        "\n",
        "np.savetxt(\"/content/gdrive/MyDrive/Multistage/GOLD/files/lstm_predicted_whole_GOLD.csv\", \n",
        "           series_y_hat_lstm.T, delimiter=\",\")"
      ],
      "metadata": {
        "id": "qc-XTcOg2q17"
      },
      "execution_count": 73,
      "outputs": []
    },
    {
      "cell_type": "markdown",
      "source": [
        "## RNN"
      ],
      "metadata": {
        "id": "LjhoDxNj_QaX"
      }
    },
    {
      "cell_type": "code",
      "source": [
        "# Build the model with the best hp.\n",
        "def RNN():\n",
        "   \n",
        "    model = tf.keras.models.Sequential([\n",
        "          tf.keras.layers.SimpleRNN(200, input_shape=[G.WINDOW_SIZE, 1]),\n",
        "          tf.keras.layers.Dense(10)\n",
        "    ])\n",
        "    learning_rate = 0.0005\n",
        "    model.compile(\n",
        "        optimizer=tf.keras.optimizers.Adam(learning_rate=learning_rate),\n",
        "        loss=tf.keras.losses.MeanSquaredError(),\n",
        "        metrics=[\"mae\"])\n",
        "\n",
        "    return model"
      ],
      "metadata": {
        "id": "XqEWSw5S_QaX"
      },
      "execution_count": 74,
      "outputs": []
    },
    {
      "cell_type": "markdown",
      "source": [
        "### Model training"
      ],
      "metadata": {
        "id": "H9ugnFG-_QaY"
      }
    },
    {
      "cell_type": "code",
      "source": [
        "\n",
        "with strategy.scope():\n",
        "  rnn = RNN()\n",
        "    # Fit with the entire dataset.\n",
        "rnn.fit(train_set_ten_step, epochs=200,callbacks = [reduce_lr])  \n"
      ],
      "metadata": {
        "id": "Iu7Ys3Y3_QaY",
        "colab": {
          "base_uri": "https://localhost:8080/"
        },
        "outputId": "d6fad0af-4566-4006-ff77-a3d22a9a000a"
      },
      "execution_count": 75,
      "outputs": [
        {
          "output_type": "stream",
          "name": "stdout",
          "text": [
            "Epoch 1/200\n",
            "94/94 [==============================] - 6s 24ms/step - loss: 0.0087 - mae: 0.0706 - lr: 5.0000e-04\n",
            "Epoch 2/200\n",
            "94/94 [==============================] - 2s 17ms/step - loss: 0.0067 - mae: 0.0650 - lr: 5.0000e-04\n",
            "Epoch 3/200\n",
            "94/94 [==============================] - 2s 20ms/step - loss: 0.0072 - mae: 0.0674 - lr: 5.0000e-04\n",
            "Epoch 4/200\n",
            "94/94 [==============================] - 2s 18ms/step - loss: 0.0054 - mae: 0.0574 - lr: 5.0000e-04\n",
            "Epoch 5/200\n",
            "94/94 [==============================] - 1s 16ms/step - loss: 0.0046 - mae: 0.0529 - lr: 5.0000e-04\n",
            "Epoch 6/200\n",
            "94/94 [==============================] - 2s 16ms/step - loss: 0.0040 - mae: 0.0482 - lr: 5.0000e-04\n",
            "Epoch 7/200\n",
            "94/94 [==============================] - 2s 16ms/step - loss: 0.0035 - mae: 0.0449 - lr: 5.0000e-04\n",
            "Epoch 8/200\n",
            "94/94 [==============================] - 2s 17ms/step - loss: 0.0033 - mae: 0.0434 - lr: 5.0000e-04\n",
            "Epoch 9/200\n",
            "94/94 [==============================] - 2s 18ms/step - loss: 0.0030 - mae: 0.0406 - lr: 5.0000e-04\n",
            "Epoch 10/200\n",
            "94/94 [==============================] - 2s 19ms/step - loss: 0.0027 - mae: 0.0385 - lr: 5.0000e-04\n",
            "Epoch 11/200\n",
            "94/94 [==============================] - 2s 16ms/step - loss: 0.0025 - mae: 0.0366 - lr: 5.0000e-04\n",
            "Epoch 12/200\n",
            "94/94 [==============================] - 2s 17ms/step - loss: 0.0022 - mae: 0.0346 - lr: 5.0000e-04\n",
            "Epoch 13/200\n",
            "94/94 [==============================] - 2s 16ms/step - loss: 0.0021 - mae: 0.0337 - lr: 5.0000e-04\n",
            "Epoch 14/200\n",
            "94/94 [==============================] - 1s 16ms/step - loss: 0.0020 - mae: 0.0324 - lr: 5.0000e-04\n",
            "Epoch 15/200\n",
            "94/94 [==============================] - 2s 17ms/step - loss: 0.0019 - mae: 0.0316 - lr: 5.0000e-04\n",
            "Epoch 16/200\n",
            "94/94 [==============================] - 2s 19ms/step - loss: 0.0018 - mae: 0.0309 - lr: 5.0000e-04\n",
            "Epoch 17/200\n",
            "94/94 [==============================] - 2s 19ms/step - loss: 0.0017 - mae: 0.0301 - lr: 5.0000e-04\n",
            "Epoch 18/200\n",
            "94/94 [==============================] - 2s 18ms/step - loss: 0.0017 - mae: 0.0306 - lr: 5.0000e-04\n",
            "Epoch 19/200\n",
            "94/94 [==============================] - 2s 18ms/step - loss: 0.0017 - mae: 0.0300 - lr: 5.0000e-04\n",
            "Epoch 20/200\n",
            "94/94 [==============================] - 2s 17ms/step - loss: 0.0017 - mae: 0.0300 - lr: 5.0000e-04\n",
            "Epoch 21/200\n",
            "94/94 [==============================] - 2s 18ms/step - loss: 0.0017 - mae: 0.0296 - lr: 5.0000e-04\n",
            "Epoch 22/200\n",
            "94/94 [==============================] - 2s 18ms/step - loss: 0.0016 - mae: 0.0295 - lr: 5.0000e-04\n",
            "Epoch 23/200\n",
            "94/94 [==============================] - 2s 19ms/step - loss: 0.0016 - mae: 0.0295 - lr: 5.0000e-04\n",
            "Epoch 24/200\n",
            "94/94 [==============================] - 2s 17ms/step - loss: 0.0016 - mae: 0.0294 - lr: 5.0000e-04\n",
            "Epoch 25/200\n",
            "94/94 [==============================] - 2s 17ms/step - loss: 0.0016 - mae: 0.0290 - lr: 5.0000e-04\n",
            "Epoch 26/200\n",
            "94/94 [==============================] - 2s 16ms/step - loss: 0.0016 - mae: 0.0287 - lr: 5.0000e-04\n",
            "Epoch 27/200\n",
            "94/94 [==============================] - 2s 16ms/step - loss: 0.0015 - mae: 0.0286 - lr: 5.0000e-04\n",
            "Epoch 28/200\n",
            "94/94 [==============================] - 2s 16ms/step - loss: 0.0016 - mae: 0.0288 - lr: 5.0000e-04\n",
            "Epoch 29/200\n",
            "94/94 [==============================] - 2s 19ms/step - loss: 0.0015 - mae: 0.0283 - lr: 5.0000e-04\n",
            "Epoch 30/200\n",
            "94/94 [==============================] - 2s 17ms/step - loss: 0.0015 - mae: 0.0278 - lr: 5.0000e-04\n",
            "Epoch 31/200\n",
            "94/94 [==============================] - 2s 16ms/step - loss: 0.0014 - mae: 0.0276 - lr: 5.0000e-04\n",
            "Epoch 32/200\n",
            "94/94 [==============================] - 2s 17ms/step - loss: 0.0014 - mae: 0.0277 - lr: 5.0000e-04\n",
            "Epoch 33/200\n",
            "94/94 [==============================] - 2s 17ms/step - loss: 0.0014 - mae: 0.0278 - lr: 5.0000e-04\n",
            "Epoch 34/200\n",
            "94/94 [==============================] - 2s 18ms/step - loss: 0.0014 - mae: 0.0277 - lr: 5.0000e-04\n",
            "Epoch 35/200\n",
            "94/94 [==============================] - 2s 17ms/step - loss: 0.0014 - mae: 0.0275 - lr: 5.0000e-04\n",
            "Epoch 36/200\n",
            "94/94 [==============================] - 2s 18ms/step - loss: 0.0014 - mae: 0.0272 - lr: 5.0000e-04\n",
            "Epoch 37/200\n",
            "94/94 [==============================] - 2s 18ms/step - loss: 0.0014 - mae: 0.0275 - lr: 5.0000e-04\n",
            "Epoch 38/200\n",
            "94/94 [==============================] - 2s 17ms/step - loss: 0.0014 - mae: 0.0278 - lr: 5.0000e-04\n",
            "Epoch 39/200\n",
            "94/94 [==============================] - 2s 16ms/step - loss: 0.0015 - mae: 0.0281 - lr: 5.0000e-04\n",
            "Epoch 40/200\n",
            "94/94 [==============================] - 2s 16ms/step - loss: 0.0015 - mae: 0.0282 - lr: 5.0000e-04\n",
            "Epoch 41/200\n",
            "94/94 [==============================] - 2s 17ms/step - loss: 0.0015 - mae: 0.0283 - lr: 5.0000e-04\n",
            "Epoch 42/200\n",
            "94/94 [==============================] - 2s 18ms/step - loss: 0.0015 - mae: 0.0283 - lr: 4.7500e-04\n",
            "Epoch 43/200\n",
            "94/94 [==============================] - 2s 19ms/step - loss: 0.0015 - mae: 0.0288 - lr: 4.7500e-04\n",
            "Epoch 44/200\n",
            "94/94 [==============================] - 2s 17ms/step - loss: 0.0015 - mae: 0.0284 - lr: 4.7500e-04\n",
            "Epoch 45/200\n",
            "94/94 [==============================] - 2s 17ms/step - loss: 0.0015 - mae: 0.0284 - lr: 4.7500e-04\n",
            "Epoch 46/200\n",
            "94/94 [==============================] - 2s 17ms/step - loss: 0.0015 - mae: 0.0286 - lr: 4.7500e-04\n",
            "Epoch 47/200\n",
            "94/94 [==============================] - 2s 17ms/step - loss: 0.0015 - mae: 0.0283 - lr: 4.5125e-04\n",
            "Epoch 48/200\n",
            "94/94 [==============================] - 2s 17ms/step - loss: 0.0015 - mae: 0.0279 - lr: 4.5125e-04\n",
            "Epoch 49/200\n",
            "94/94 [==============================] - 2s 18ms/step - loss: 0.0015 - mae: 0.0279 - lr: 4.5125e-04\n",
            "Epoch 50/200\n",
            "94/94 [==============================] - 2s 17ms/step - loss: 0.0015 - mae: 0.0282 - lr: 4.5125e-04\n",
            "Epoch 51/200\n",
            "94/94 [==============================] - 2s 16ms/step - loss: 0.0015 - mae: 0.0287 - lr: 4.5125e-04\n",
            "Epoch 52/200\n",
            "94/94 [==============================] - 2s 16ms/step - loss: 0.0016 - mae: 0.0290 - lr: 4.2869e-04\n",
            "Epoch 53/200\n",
            "94/94 [==============================] - 2s 16ms/step - loss: 0.0017 - mae: 0.0299 - lr: 4.2869e-04\n",
            "Epoch 54/200\n",
            "94/94 [==============================] - 2s 17ms/step - loss: 0.0016 - mae: 0.0298 - lr: 4.2869e-04\n",
            "Epoch 55/200\n",
            "94/94 [==============================] - 2s 17ms/step - loss: 0.0018 - mae: 0.0307 - lr: 4.2869e-04\n",
            "Epoch 56/200\n",
            "94/94 [==============================] - 2s 19ms/step - loss: 0.0018 - mae: 0.0309 - lr: 4.2869e-04\n",
            "Epoch 57/200\n",
            "94/94 [==============================] - 2s 17ms/step - loss: 0.0018 - mae: 0.0309 - lr: 4.0725e-04\n",
            "Epoch 58/200\n",
            "94/94 [==============================] - 1s 16ms/step - loss: 0.0018 - mae: 0.0311 - lr: 4.0725e-04\n",
            "Epoch 59/200\n",
            "94/94 [==============================] - 2s 15ms/step - loss: 0.0018 - mae: 0.0306 - lr: 4.0725e-04\n",
            "Epoch 60/200\n",
            "94/94 [==============================] - 2s 16ms/step - loss: 0.0018 - mae: 0.0310 - lr: 4.0725e-04\n",
            "Epoch 61/200\n",
            "94/94 [==============================] - 2s 17ms/step - loss: 0.0018 - mae: 0.0309 - lr: 4.0725e-04\n",
            "Epoch 62/200\n",
            "94/94 [==============================] - 2s 19ms/step - loss: 0.0019 - mae: 0.0318 - lr: 3.8689e-04\n",
            "Epoch 63/200\n",
            "94/94 [==============================] - 2s 18ms/step - loss: 0.0020 - mae: 0.0334 - lr: 3.8689e-04\n",
            "Epoch 64/200\n",
            "94/94 [==============================] - 2s 17ms/step - loss: 0.0017 - mae: 0.0303 - lr: 3.8689e-04\n",
            "Epoch 65/200\n",
            "94/94 [==============================] - 2s 17ms/step - loss: 0.0024 - mae: 0.0347 - lr: 3.8689e-04\n",
            "Epoch 66/200\n",
            "94/94 [==============================] - 2s 17ms/step - loss: 0.0017 - mae: 0.0299 - lr: 3.8689e-04\n",
            "Epoch 67/200\n",
            "94/94 [==============================] - 2s 17ms/step - loss: 0.0020 - mae: 0.0318 - lr: 3.6755e-04\n",
            "Epoch 68/200\n",
            "94/94 [==============================] - 2s 16ms/step - loss: 0.0019 - mae: 0.0305 - lr: 3.6755e-04\n",
            "Epoch 69/200\n",
            "94/94 [==============================] - 2s 19ms/step - loss: 0.0016 - mae: 0.0290 - lr: 3.6755e-04\n",
            "Epoch 70/200\n",
            "94/94 [==============================] - 2s 18ms/step - loss: 0.0018 - mae: 0.0299 - lr: 3.6755e-04\n",
            "Epoch 71/200\n",
            "94/94 [==============================] - 2s 17ms/step - loss: 0.0016 - mae: 0.0288 - lr: 3.6755e-04\n",
            "Epoch 72/200\n",
            "94/94 [==============================] - 2s 17ms/step - loss: 0.0024 - mae: 0.0351 - lr: 3.4917e-04\n",
            "Epoch 73/200\n",
            "94/94 [==============================] - 2s 17ms/step - loss: 0.0015 - mae: 0.0278 - lr: 3.4917e-04\n",
            "Epoch 74/200\n",
            "94/94 [==============================] - 2s 18ms/step - loss: 0.0018 - mae: 0.0307 - lr: 3.4917e-04\n",
            "Epoch 75/200\n",
            "94/94 [==============================] - 2s 17ms/step - loss: 0.0019 - mae: 0.0307 - lr: 3.4917e-04\n",
            "Epoch 76/200\n",
            "94/94 [==============================] - 2s 19ms/step - loss: 0.0020 - mae: 0.0316 - lr: 3.4917e-04\n",
            "Epoch 77/200\n",
            "94/94 [==============================] - 2s 17ms/step - loss: 0.0019 - mae: 0.0311 - lr: 3.3171e-04\n",
            "Epoch 78/200\n",
            "94/94 [==============================] - 2s 17ms/step - loss: 0.0017 - mae: 0.0294 - lr: 3.3171e-04\n",
            "Epoch 79/200\n",
            "94/94 [==============================] - 2s 17ms/step - loss: 0.0021 - mae: 0.0321 - lr: 3.3171e-04\n",
            "Epoch 80/200\n",
            "94/94 [==============================] - 2s 17ms/step - loss: 0.0016 - mae: 0.0283 - lr: 3.3171e-04\n",
            "Epoch 81/200\n",
            "94/94 [==============================] - 2s 17ms/step - loss: 0.0021 - mae: 0.0327 - lr: 3.3171e-04\n",
            "Epoch 82/200\n",
            "94/94 [==============================] - 2s 20ms/step - loss: 0.0016 - mae: 0.0285 - lr: 3.1512e-04\n",
            "Epoch 83/200\n",
            "94/94 [==============================] - 2s 18ms/step - loss: 0.0022 - mae: 0.0330 - lr: 3.1512e-04\n",
            "Epoch 84/200\n",
            "94/94 [==============================] - 2s 16ms/step - loss: 0.0017 - mae: 0.0295 - lr: 3.1512e-04\n",
            "Epoch 85/200\n",
            "94/94 [==============================] - 2s 17ms/step - loss: 0.0018 - mae: 0.0299 - lr: 3.1512e-04\n",
            "Epoch 86/200\n",
            "94/94 [==============================] - 2s 17ms/step - loss: 0.0016 - mae: 0.0289 - lr: 3.1512e-04\n",
            "Epoch 87/200\n",
            "94/94 [==============================] - 2s 18ms/step - loss: 0.0018 - mae: 0.0301 - lr: 2.9937e-04\n",
            "Epoch 88/200\n",
            "94/94 [==============================] - 2s 18ms/step - loss: 0.0019 - mae: 0.0311 - lr: 2.9937e-04\n",
            "Epoch 89/200\n",
            "94/94 [==============================] - 2s 19ms/step - loss: 0.0017 - mae: 0.0295 - lr: 2.9937e-04\n",
            "Epoch 90/200\n",
            "94/94 [==============================] - 2s 17ms/step - loss: 0.0018 - mae: 0.0298 - lr: 2.9937e-04\n",
            "Epoch 91/200\n",
            "94/94 [==============================] - 2s 17ms/step - loss: 0.0018 - mae: 0.0297 - lr: 2.9937e-04\n",
            "Epoch 92/200\n",
            "94/94 [==============================] - 2s 16ms/step - loss: 0.0017 - mae: 0.0294 - lr: 2.8440e-04\n",
            "Epoch 93/200\n",
            "94/94 [==============================] - 2s 16ms/step - loss: 0.0017 - mae: 0.0294 - lr: 2.8440e-04\n",
            "Epoch 94/200\n",
            "94/94 [==============================] - 2s 16ms/step - loss: 0.0015 - mae: 0.0275 - lr: 2.8440e-04\n",
            "Epoch 95/200\n",
            "94/94 [==============================] - 2s 17ms/step - loss: 0.0018 - mae: 0.0297 - lr: 2.8440e-04\n",
            "Epoch 96/200\n",
            "94/94 [==============================] - 2s 20ms/step - loss: 0.0016 - mae: 0.0280 - lr: 2.8440e-04\n",
            "Epoch 97/200\n",
            "94/94 [==============================] - 2s 17ms/step - loss: 0.0017 - mae: 0.0289 - lr: 2.7018e-04\n",
            "Epoch 98/200\n",
            "94/94 [==============================] - 2s 17ms/step - loss: 0.0016 - mae: 0.0285 - lr: 2.7018e-04\n",
            "Epoch 99/200\n",
            "94/94 [==============================] - 2s 17ms/step - loss: 0.0016 - mae: 0.0285 - lr: 2.7018e-04\n",
            "Epoch 100/200\n",
            "94/94 [==============================] - 2s 17ms/step - loss: 0.0015 - mae: 0.0277 - lr: 2.7018e-04\n",
            "Epoch 101/200\n",
            "94/94 [==============================] - 2s 17ms/step - loss: 0.0015 - mae: 0.0275 - lr: 2.7018e-04\n",
            "Epoch 102/200\n",
            "94/94 [==============================] - 2s 19ms/step - loss: 0.0014 - mae: 0.0265 - lr: 2.5667e-04\n",
            "Epoch 103/200\n",
            "94/94 [==============================] - 2s 18ms/step - loss: 0.0014 - mae: 0.0270 - lr: 2.5667e-04\n",
            "Epoch 104/200\n",
            "94/94 [==============================] - 2s 17ms/step - loss: 0.0014 - mae: 0.0265 - lr: 2.5667e-04\n",
            "Epoch 105/200\n",
            "94/94 [==============================] - 2s 16ms/step - loss: 0.0014 - mae: 0.0264 - lr: 2.5667e-04\n",
            "Epoch 106/200\n",
            "94/94 [==============================] - 2s 17ms/step - loss: 0.0013 - mae: 0.0262 - lr: 2.5667e-04\n",
            "Epoch 107/200\n",
            "94/94 [==============================] - 2s 16ms/step - loss: 0.0013 - mae: 0.0260 - lr: 2.5667e-04\n",
            "Epoch 108/200\n",
            "94/94 [==============================] - 2s 18ms/step - loss: 0.0013 - mae: 0.0259 - lr: 2.5667e-04\n",
            "Epoch 109/200\n",
            "94/94 [==============================] - 2s 19ms/step - loss: 0.0013 - mae: 0.0256 - lr: 2.5667e-04\n",
            "Epoch 110/200\n",
            "94/94 [==============================] - 2s 17ms/step - loss: 0.0013 - mae: 0.0255 - lr: 2.5667e-04\n",
            "Epoch 111/200\n",
            "94/94 [==============================] - 2s 17ms/step - loss: 0.0013 - mae: 0.0256 - lr: 2.5667e-04\n",
            "Epoch 112/200\n",
            "94/94 [==============================] - 2s 16ms/step - loss: 0.0012 - mae: 0.0251 - lr: 2.5667e-04\n",
            "Epoch 113/200\n",
            "94/94 [==============================] - 2s 17ms/step - loss: 0.0012 - mae: 0.0251 - lr: 2.5667e-04\n",
            "Epoch 114/200\n",
            "94/94 [==============================] - 2s 17ms/step - loss: 0.0012 - mae: 0.0249 - lr: 2.5667e-04\n",
            "Epoch 115/200\n",
            "94/94 [==============================] - 2s 17ms/step - loss: 0.0014 - mae: 0.0266 - lr: 2.5667e-04\n",
            "Epoch 116/200\n",
            "94/94 [==============================] - 2s 19ms/step - loss: 0.0013 - mae: 0.0260 - lr: 2.5667e-04\n",
            "Epoch 117/200\n",
            "94/94 [==============================] - 2s 17ms/step - loss: 0.0013 - mae: 0.0260 - lr: 2.5667e-04\n",
            "Epoch 118/200\n",
            "94/94 [==============================] - 2s 17ms/step - loss: 0.0013 - mae: 0.0261 - lr: 2.5667e-04\n",
            "Epoch 119/200\n",
            "94/94 [==============================] - 2s 17ms/step - loss: 0.0014 - mae: 0.0264 - lr: 2.5667e-04\n",
            "Epoch 120/200\n",
            "94/94 [==============================] - 2s 16ms/step - loss: 0.0013 - mae: 0.0259 - lr: 2.4384e-04\n",
            "Epoch 121/200\n",
            "94/94 [==============================] - 2s 17ms/step - loss: 0.0013 - mae: 0.0261 - lr: 2.4384e-04\n",
            "Epoch 122/200\n",
            "94/94 [==============================] - 2s 19ms/step - loss: 0.0014 - mae: 0.0268 - lr: 2.4384e-04\n",
            "Epoch 123/200\n",
            "94/94 [==============================] - 2s 18ms/step - loss: 0.0012 - mae: 0.0252 - lr: 2.4384e-04\n",
            "Epoch 124/200\n",
            "94/94 [==============================] - 2s 18ms/step - loss: 0.0013 - mae: 0.0261 - lr: 2.4384e-04\n",
            "Epoch 125/200\n",
            "94/94 [==============================] - 2s 17ms/step - loss: 0.0013 - mae: 0.0255 - lr: 2.3165e-04\n",
            "Epoch 126/200\n",
            "94/94 [==============================] - 2s 17ms/step - loss: 0.0013 - mae: 0.0256 - lr: 2.3165e-04\n",
            "Epoch 127/200\n",
            "94/94 [==============================] - 2s 17ms/step - loss: 0.0013 - mae: 0.0257 - lr: 2.3165e-04\n",
            "Epoch 128/200\n",
            "94/94 [==============================] - 2s 18ms/step - loss: 0.0013 - mae: 0.0258 - lr: 2.3165e-04\n",
            "Epoch 129/200\n",
            "94/94 [==============================] - 2s 19ms/step - loss: 0.0012 - mae: 0.0247 - lr: 2.3165e-04\n",
            "Epoch 130/200\n",
            "94/94 [==============================] - 2s 18ms/step - loss: 0.0012 - mae: 0.0247 - lr: 2.3165e-04\n",
            "Epoch 131/200\n",
            "94/94 [==============================] - 2s 18ms/step - loss: 0.0012 - mae: 0.0246 - lr: 2.3165e-04\n",
            "Epoch 132/200\n",
            "94/94 [==============================] - 2s 17ms/step - loss: 0.0012 - mae: 0.0246 - lr: 2.3165e-04\n",
            "Epoch 133/200\n",
            "94/94 [==============================] - 2s 18ms/step - loss: 0.0012 - mae: 0.0247 - lr: 2.3165e-04\n",
            "Epoch 134/200\n",
            "94/94 [==============================] - 2s 18ms/step - loss: 0.0012 - mae: 0.0248 - lr: 2.3165e-04\n",
            "Epoch 135/200\n",
            "94/94 [==============================] - 2s 19ms/step - loss: 0.0011 - mae: 0.0241 - lr: 2.3165e-04\n",
            "Epoch 136/200\n",
            "94/94 [==============================] - 2s 17ms/step - loss: 0.0011 - mae: 0.0238 - lr: 2.3165e-04\n",
            "Epoch 137/200\n",
            "94/94 [==============================] - 2s 17ms/step - loss: 0.0011 - mae: 0.0231 - lr: 2.3165e-04\n",
            "Epoch 138/200\n",
            "94/94 [==============================] - 2s 16ms/step - loss: 0.0012 - mae: 0.0248 - lr: 2.3165e-04\n",
            "Epoch 139/200\n",
            "94/94 [==============================] - 2s 16ms/step - loss: 0.0012 - mae: 0.0246 - lr: 2.3165e-04\n",
            "Epoch 140/200\n",
            "94/94 [==============================] - 2s 17ms/step - loss: 0.0012 - mae: 0.0246 - lr: 2.3165e-04\n",
            "Epoch 141/200\n",
            "94/94 [==============================] - 2s 18ms/step - loss: 0.0012 - mae: 0.0247 - lr: 2.3165e-04\n",
            "Epoch 142/200\n",
            "94/94 [==============================] - 2s 19ms/step - loss: 0.0012 - mae: 0.0249 - lr: 2.3165e-04\n",
            "Epoch 143/200\n",
            "94/94 [==============================] - 2s 18ms/step - loss: 0.0012 - mae: 0.0251 - lr: 2.2006e-04\n",
            "Epoch 144/200\n",
            "94/94 [==============================] - 2s 17ms/step - loss: 0.0012 - mae: 0.0249 - lr: 2.2006e-04\n",
            "Epoch 145/200\n",
            "94/94 [==============================] - 2s 16ms/step - loss: 0.0012 - mae: 0.0246 - lr: 2.2006e-04\n",
            "Epoch 146/200\n",
            "94/94 [==============================] - 2s 17ms/step - loss: 0.0011 - mae: 0.0240 - lr: 2.2006e-04\n",
            "Epoch 147/200\n",
            "94/94 [==============================] - 2s 17ms/step - loss: 0.0012 - mae: 0.0246 - lr: 2.2006e-04\n",
            "Epoch 148/200\n",
            "94/94 [==============================] - 2s 17ms/step - loss: 0.0011 - mae: 0.0241 - lr: 2.0906e-04\n",
            "Epoch 149/200\n",
            "94/94 [==============================] - 2s 18ms/step - loss: 0.0012 - mae: 0.0242 - lr: 2.0906e-04\n",
            "Epoch 150/200\n",
            "94/94 [==============================] - 2s 17ms/step - loss: 0.0012 - mae: 0.0242 - lr: 2.0906e-04\n",
            "Epoch 151/200\n",
            "94/94 [==============================] - 2s 17ms/step - loss: 0.0011 - mae: 0.0236 - lr: 2.0906e-04\n",
            "Epoch 152/200\n",
            "94/94 [==============================] - 2s 18ms/step - loss: 0.0011 - mae: 0.0237 - lr: 2.0906e-04\n",
            "Epoch 153/200\n",
            "94/94 [==============================] - 2s 18ms/step - loss: 0.0011 - mae: 0.0237 - lr: 1.9861e-04\n",
            "Epoch 154/200\n",
            "94/94 [==============================] - 2s 18ms/step - loss: 0.0011 - mae: 0.0235 - lr: 1.9861e-04\n",
            "Epoch 155/200\n",
            "94/94 [==============================] - 2s 19ms/step - loss: 0.0011 - mae: 0.0233 - lr: 1.9861e-04\n",
            "Epoch 156/200\n",
            "94/94 [==============================] - 2s 19ms/step - loss: 0.0011 - mae: 0.0234 - lr: 1.9861e-04\n",
            "Epoch 157/200\n",
            "94/94 [==============================] - 2s 18ms/step - loss: 0.0010 - mae: 0.0229 - lr: 1.9861e-04\n",
            "Epoch 158/200\n",
            "94/94 [==============================] - 2s 16ms/step - loss: 0.0010 - mae: 0.0228 - lr: 1.9861e-04\n",
            "Epoch 159/200\n",
            "94/94 [==============================] - 2s 17ms/step - loss: 0.0010 - mae: 0.0228 - lr: 1.9861e-04\n",
            "Epoch 160/200\n",
            "94/94 [==============================] - 2s 17ms/step - loss: 0.0010 - mae: 0.0227 - lr: 1.9861e-04\n",
            "Epoch 161/200\n",
            "94/94 [==============================] - 2s 18ms/step - loss: 0.0010 - mae: 0.0230 - lr: 1.9861e-04\n",
            "Epoch 162/200\n",
            "94/94 [==============================] - 2s 18ms/step - loss: 0.0010 - mae: 0.0226 - lr: 1.9861e-04\n",
            "Epoch 163/200\n",
            "94/94 [==============================] - 2s 18ms/step - loss: 0.0010 - mae: 0.0227 - lr: 1.9861e-04\n",
            "Epoch 164/200\n",
            "94/94 [==============================] - 1s 16ms/step - loss: 0.0010 - mae: 0.0228 - lr: 1.9861e-04\n",
            "Epoch 165/200\n",
            "94/94 [==============================] - 2s 16ms/step - loss: 0.0010 - mae: 0.0229 - lr: 1.9861e-04\n",
            "Epoch 166/200\n",
            "94/94 [==============================] - 2s 17ms/step - loss: 0.0010 - mae: 0.0231 - lr: 1.8868e-04\n",
            "Epoch 167/200\n",
            "94/94 [==============================] - 2s 17ms/step - loss: 0.0010 - mae: 0.0227 - lr: 1.8868e-04\n",
            "Epoch 168/200\n",
            "94/94 [==============================] - 2s 18ms/step - loss: 0.0010 - mae: 0.0229 - lr: 1.8868e-04\n",
            "Epoch 169/200\n",
            "94/94 [==============================] - 2s 18ms/step - loss: 0.0010 - mae: 0.0226 - lr: 1.8868e-04\n",
            "Epoch 170/200\n",
            "94/94 [==============================] - 2s 18ms/step - loss: 9.9729e-04 - mae: 0.0225 - lr: 1.8868e-04\n",
            "Epoch 171/200\n",
            "94/94 [==============================] - 2s 16ms/step - loss: 0.0010 - mae: 0.0226 - lr: 1.8868e-04\n",
            "Epoch 172/200\n",
            "94/94 [==============================] - 2s 17ms/step - loss: 0.0010 - mae: 0.0227 - lr: 1.8868e-04\n",
            "Epoch 173/200\n",
            "94/94 [==============================] - 2s 17ms/step - loss: 0.0010 - mae: 0.0226 - lr: 1.8868e-04\n",
            "Epoch 174/200\n",
            "94/94 [==============================] - 2s 17ms/step - loss: 0.0010 - mae: 0.0226 - lr: 1.8868e-04\n",
            "Epoch 175/200\n",
            "94/94 [==============================] - 2s 18ms/step - loss: 0.0010 - mae: 0.0226 - lr: 1.7924e-04\n",
            "Epoch 176/200\n",
            "94/94 [==============================] - 2s 17ms/step - loss: 0.0010 - mae: 0.0226 - lr: 1.7924e-04\n",
            "Epoch 177/200\n",
            "94/94 [==============================] - 2s 18ms/step - loss: 9.9768e-04 - mae: 0.0225 - lr: 1.7924e-04\n",
            "Epoch 178/200\n",
            "94/94 [==============================] - 2s 17ms/step - loss: 9.8394e-04 - mae: 0.0224 - lr: 1.7924e-04\n",
            "Epoch 179/200\n",
            "94/94 [==============================] - 2s 17ms/step - loss: 9.6139e-04 - mae: 0.0221 - lr: 1.7924e-04\n",
            "Epoch 180/200\n",
            "94/94 [==============================] - 2s 17ms/step - loss: 9.6988e-04 - mae: 0.0222 - lr: 1.7924e-04\n",
            "Epoch 181/200\n",
            "94/94 [==============================] - 2s 18ms/step - loss: 9.6782e-04 - mae: 0.0221 - lr: 1.7924e-04\n",
            "Epoch 182/200\n",
            "94/94 [==============================] - 2s 19ms/step - loss: 9.7822e-04 - mae: 0.0223 - lr: 1.7924e-04\n",
            "Epoch 183/200\n",
            "94/94 [==============================] - 2s 18ms/step - loss: 9.6558e-04 - mae: 0.0221 - lr: 1.7924e-04\n",
            "Epoch 184/200\n",
            "94/94 [==============================] - 2s 18ms/step - loss: 9.7994e-04 - mae: 0.0223 - lr: 1.7924e-04\n",
            "Epoch 185/200\n",
            "94/94 [==============================] - 2s 16ms/step - loss: 9.8617e-04 - mae: 0.0224 - lr: 1.7028e-04\n",
            "Epoch 186/200\n",
            "94/94 [==============================] - 2s 17ms/step - loss: 9.6049e-04 - mae: 0.0222 - lr: 1.7028e-04\n",
            "Epoch 187/200\n",
            "94/94 [==============================] - 2s 17ms/step - loss: 9.4182e-04 - mae: 0.0219 - lr: 1.7028e-04\n",
            "Epoch 188/200\n",
            "94/94 [==============================] - 2s 18ms/step - loss: 9.3573e-04 - mae: 0.0218 - lr: 1.7028e-04\n",
            "Epoch 189/200\n",
            "94/94 [==============================] - 2s 18ms/step - loss: 9.6097e-04 - mae: 0.0221 - lr: 1.7028e-04\n",
            "Epoch 190/200\n",
            "94/94 [==============================] - 2s 18ms/step - loss: 9.4481e-04 - mae: 0.0219 - lr: 1.7028e-04\n",
            "Epoch 191/200\n",
            "94/94 [==============================] - 2s 17ms/step - loss: 9.3306e-04 - mae: 0.0218 - lr: 1.7028e-04\n",
            "Epoch 192/200\n",
            "94/94 [==============================] - 2s 17ms/step - loss: 9.5299e-04 - mae: 0.0220 - lr: 1.7028e-04\n",
            "Epoch 193/200\n",
            "94/94 [==============================] - 2s 17ms/step - loss: 9.2399e-04 - mae: 0.0217 - lr: 1.7028e-04\n",
            "Epoch 194/200\n",
            "94/94 [==============================] - 2s 17ms/step - loss: 9.4170e-04 - mae: 0.0218 - lr: 1.7028e-04\n",
            "Epoch 195/200\n",
            "94/94 [==============================] - 2s 18ms/step - loss: 9.0248e-04 - mae: 0.0214 - lr: 1.7028e-04\n",
            "Epoch 196/200\n",
            "94/94 [==============================] - 2s 18ms/step - loss: 9.5711e-04 - mae: 0.0220 - lr: 1.7028e-04\n",
            "Epoch 197/200\n",
            "94/94 [==============================] - 2s 17ms/step - loss: 9.2768e-04 - mae: 0.0217 - lr: 1.7028e-04\n",
            "Epoch 198/200\n",
            "94/94 [==============================] - 1s 16ms/step - loss: 9.5132e-04 - mae: 0.0220 - lr: 1.7028e-04\n",
            "Epoch 199/200\n",
            "94/94 [==============================] - 2s 17ms/step - loss: 9.3926e-04 - mae: 0.0219 - lr: 1.7028e-04\n",
            "Epoch 200/200\n",
            "94/94 [==============================] - 2s 17ms/step - loss: 9.7112e-04 - mae: 0.0224 - lr: 1.7028e-04\n"
          ]
        },
        {
          "output_type": "execute_result",
          "data": {
            "text/plain": [
              "<keras.callbacks.History at 0x7fe2f439db20>"
            ]
          },
          "metadata": {},
          "execution_count": 75
        }
      ]
    },
    {
      "cell_type": "code",
      "source": [
        "print(rnn.summary())"
      ],
      "metadata": {
        "id": "jyI25Sz1_QaY",
        "colab": {
          "base_uri": "https://localhost:8080/"
        },
        "outputId": "a1bc968e-f8cd-41f3-f3fa-a8866efafbda"
      },
      "execution_count": 76,
      "outputs": [
        {
          "output_type": "stream",
          "name": "stdout",
          "text": [
            "Model: \"sequential_1\"\n",
            "_________________________________________________________________\n",
            " Layer (type)                Output Shape              Param #   \n",
            "=================================================================\n",
            " simple_rnn (SimpleRNN)      (None, 200)               40400     \n",
            "                                                                 \n",
            " dense_2 (Dense)             (None, 10)                2010      \n",
            "                                                                 \n",
            "=================================================================\n",
            "Total params: 42,410\n",
            "Trainable params: 42,410\n",
            "Non-trainable params: 0\n",
            "_________________________________________________________________\n",
            "None\n"
          ]
        }
      ]
    },
    {
      "cell_type": "markdown",
      "metadata": {
        "id": "h3a9sKQe_QaY"
      },
      "source": [
        "### Evaluating the forecast\n",
        "\n",
        "Now it is time to evaluate the performance of the forecast. For this we use the `compute_metrics` function:"
      ]
    },
    {
      "cell_type": "markdown",
      "metadata": {
        "id": "aNyKd-9c_QaY"
      },
      "source": [
        "At this point only the model that will perform the forecast is ready but we still need to compute the actual forecast.\n",
        "\n"
      ]
    },
    {
      "cell_type": "markdown",
      "metadata": {
        "id": "VncONUhm_QaY"
      },
      "source": [
        "Faster model forecasts\n",
        "\n",
        "\n",
        "- The dataset is windowed using `window_size` rather than `window_size + 1`\n",
        "- No shuffle should be used\n",
        "- No need to split the data into features and labels\n",
        "- A model is used to predict batches of the dataset"
      ]
    },
    {
      "cell_type": "markdown",
      "metadata": {
        "id": "XUzv1Fxc_QaY"
      },
      "source": [
        "Now compute the actual forecast:"
      ]
    },
    {
      "cell_type": "code",
      "source": [
        "# Evaluate each model and the ensemble on the test set\n",
        "# remember the last predicted value is not in the test set. It should be removed when producing y_hat series.\n",
        "\n",
        "rnn_pred =  model_forecast(rnn, series_norm, G.WINDOW_SIZE).squeeze()\n",
        "\n"
      ],
      "metadata": {
        "id": "z21L11_I_QaY",
        "colab": {
          "base_uri": "https://localhost:8080/"
        },
        "outputId": "ab5518f6-26ac-4afd-b927-da367bc1c22b"
      },
      "execution_count": 77,
      "outputs": [
        {
          "output_type": "stream",
          "name": "stdout",
          "text": [
            "105/105 [==============================] - 3s 16ms/step\n"
          ]
        }
      ]
    },
    {
      "cell_type": "code",
      "source": [
        "rnn_pred = reverse_normalization(rnn_pred, series_train)\n"
      ],
      "metadata": {
        "id": "oQNOoMjR_QaY"
      },
      "execution_count": 78,
      "outputs": []
    },
    {
      "cell_type": "code",
      "source": [
        "series_hat_rnn = rnn_pred"
      ],
      "metadata": {
        "id": "aHrtr99b_QaY"
      },
      "execution_count": 79,
      "outputs": []
    },
    {
      "cell_type": "code",
      "source": [
        "series_y_hat_rnn = np.array(list(series_hat_rnn[:-1]))"
      ],
      "metadata": {
        "id": "eYx8Kt5T_QaZ"
      },
      "execution_count": 80,
      "outputs": []
    },
    {
      "cell_type": "code",
      "source": [
        "series_test = series_y[-G.SPLIT_TIME:]\n",
        "series_test_hat_rnn_1 = series_y_hat_rnn[-G.SPLIT_TIME:,0]\n",
        "series_test_hat_rnn_2 = series_y_hat_rnn[-G.SPLIT_TIME:-1,1]\n",
        "series_test_hat_rnn_3 = series_y_hat_rnn[-G.SPLIT_TIME:-2,2]\n",
        "series_test_hat_rnn_4 = series_y_hat_rnn[-G.SPLIT_TIME:-3,3]\n",
        "series_test_hat_rnn_5 = series_y_hat_rnn[-G.SPLIT_TIME:-4,4]\n",
        "series_test_hat_rnn_6 = series_y_hat_rnn[-G.SPLIT_TIME:-5,5]\n",
        "series_test_hat_rnn_7 = series_y_hat_rnn[-G.SPLIT_TIME:-6,6]\n",
        "series_test_hat_rnn_8 = series_y_hat_rnn[-G.SPLIT_TIME:-7,7]\n",
        "series_test_hat_rnn_9 = series_y_hat_rnn[-G.SPLIT_TIME:-8,8]\n",
        "series_test_hat_rnn_10 = series_y_hat_rnn[-G.SPLIT_TIME:-9,9]\n"
      ],
      "metadata": {
        "id": "XfnxyBye_QaZ"
      },
      "execution_count": 81,
      "outputs": []
    },
    {
      "cell_type": "code",
      "source": [
        "# Plot the forecast\n",
        "\n",
        "plt.figure(figsize=(10, 6))\n",
        "\n",
        "plt.plot(np.arange( 1, len(time_test)+1 ), series_test, linestyle='-', color='blue', label='Original Value')\n",
        "\n",
        "plt.plot(np.arange( 1, len(time_test)+1 ), series_test_hat_rnn_1, linestyle='-', color='Red', label='1-step forecasting')\n",
        "\n",
        "plt.plot(np.arange( 5, len(time_test)+1 ), series_test_hat_rnn_5, linestyle='--', color='Orange', label='5-step forecasting')\n",
        "\n",
        "plt.plot(np.arange( 10, len(time_test)+1 ), series_test_hat_rnn_10, linestyle=':', color='Green', label='10-step forecasting')\n",
        "\n",
        "plt.ylabel(\"Index Value\")\n",
        "plt.xlabel(\"Time Step\")\n",
        "plt.title(\"GOLD test set prediction with RNN\")\n",
        "legend_drawn_flag = True\n",
        "plt.legend([\"Original Value (GOLD)\", \"1-step forecasting\",\"5-step forecasting\",\"10-step forecasting\"], loc='upper left', frameon=legend_drawn_flag)\n",
        "plt.savefig(\"/content/gdrive/MyDrive/Multistage/GOLD/figures/rnn_forecasts_GOLD.tif\")"
      ],
      "metadata": {
        "id": "dQEP9LpK_QaZ",
        "colab": {
          "base_uri": "https://localhost:8080/",
          "height": 419
        },
        "outputId": "d59631b5-86b8-4c96-d3a3-41c80b392c59"
      },
      "execution_count": 82,
      "outputs": [
        {
          "data": {
            "image/png": "[encoded data removed]",
            "text/plain": [
              "<Figure size 720x432 with 1 Axes>"
            ]
          },
          "metadata": {},
          "output_type": "display_data"
        }
      ]
    },
    {
      "cell_type": "code",
      "execution_count": 83,
      "metadata": {
        "id": "ZdBU0W0-_QaZ",
        "colab": {
          "base_uri": "https://localhost:8080/"
        },
        "outputId": "8aa6c3c0-7bdb-40bc-abfd-3cbe9574762b"
      },
      "outputs": [
        {
          "metadata": {
            "tags": null
          },
          "name": "stdout",
          "output_type": "stream",
          "text": [
            "rmse: 63.80, mae: 51.12 , mape: 2.98 for 1 step forecast\n"
          ]
        }
      ],
      "source": [
        "rmse_rnn_1, mae_rnn_1, mape_rnn_1= compute_metrics(series_test, series_test_hat_rnn_1)\n",
        "\n",
        "print(f\"rmse: {rmse_rnn_1:.2f}, mae: {mae_rnn_1:.2f} , mape: {mape_rnn_1:.2f} for 1 step forecast\")"
      ]
    },
    {
      "cell_type": "code",
      "source": [
        "rmse_rnn_2, mae_rnn_2, mape_rnn_2= compute_metrics(series_test[1:], series_test_hat_rnn_2)\n",
        "\n",
        "print(f\"rmse: {rmse_rnn_2:.2f}, mae: {mae_rnn_2:.2f} , mape: {mape_rnn_2:.2f} for 2 steps forecast\")"
      ],
      "metadata": {
        "id": "hUqZ3YWh_QaZ",
        "colab": {
          "base_uri": "https://localhost:8080/"
        },
        "outputId": "feb77fdc-9a80-4b82-de12-6e315fa75185"
      },
      "execution_count": 84,
      "outputs": [
        {
          "metadata": {
            "tags": null
          },
          "name": "stdout",
          "output_type": "stream",
          "text": [
            "rmse: 61.96, mae: 49.45 , mape: 2.90 for 2 steps forecast\n"
          ]
        }
      ]
    },
    {
      "cell_type": "code",
      "source": [
        "rmse_rnn_3, mae_rnn_3, mape_rnn_3= compute_metrics(series_test[2:], series_test_hat_rnn_3)\n",
        "\n",
        "print(f\"rmse: {rmse_rnn_3:.2f}, mae: {mae_rnn_3:.2f} , mape: {mape_rnn_3:.2f} for 3 steps forecast\")"
      ],
      "metadata": {
        "id": "dEGzvpC1_QaZ",
        "colab": {
          "base_uri": "https://localhost:8080/"
        },
        "outputId": "caba0bc5-06bf-4af0-a17f-72b746326978"
      },
      "execution_count": 85,
      "outputs": [
        {
          "metadata": {
            "tags": null
          },
          "name": "stdout",
          "output_type": "stream",
          "text": [
            "rmse: 54.71, mae: 41.85 , mape: 2.46 for 3 steps forecast\n"
          ]
        }
      ]
    },
    {
      "cell_type": "code",
      "source": [
        "rmse_rnn_4, mae_rnn_4, mape_rnn_4= compute_metrics(series_test[3:], series_test_hat_rnn_4)\n",
        "\n",
        "print(f\"rmse: {rmse_rnn_4:.2f}, mae: {mae_rnn_4:.2f} , mape: {mape_rnn_4:.2f} for 4 steps forecast\")"
      ],
      "metadata": {
        "id": "Z7hutdGX_QaZ",
        "colab": {
          "base_uri": "https://localhost:8080/"
        },
        "outputId": "674dd6cc-e85f-49e2-a575-5e7c9363e484"
      },
      "execution_count": 86,
      "outputs": [
        {
          "metadata": {
            "tags": null
          },
          "name": "stdout",
          "output_type": "stream",
          "text": [
            "rmse: 65.50, mae: 50.88 , mape: 2.99 for 4 steps forecast\n"
          ]
        }
      ]
    },
    {
      "cell_type": "code",
      "source": [
        "rmse_rnn_5, mae_rnn_5, mape_rnn_5= compute_metrics(series_test[4:], series_test_hat_rnn_5)\n",
        "\n",
        "print(f\"rmse: {rmse_rnn_5:.2f}, mae: {mae_rnn_5:.2f} , mape: {mape_rnn_5:.2f} for 5 steps forecast\")"
      ],
      "metadata": {
        "id": "pswiprlr_Qaa",
        "colab": {
          "base_uri": "https://localhost:8080/"
        },
        "outputId": "b61e4930-8a0d-4259-ab34-0fc3d9433e01"
      },
      "execution_count": 87,
      "outputs": [
        {
          "metadata": {
            "tags": null
          },
          "name": "stdout",
          "output_type": "stream",
          "text": [
            "rmse: 74.40, mae: 59.33 , mape: 3.50 for 5 steps forecast\n"
          ]
        }
      ]
    },
    {
      "cell_type": "code",
      "source": [
        "rmse_rnn_6, mae_rnn_6, mape_rnn_6= compute_metrics(series_test[5:], series_test_hat_rnn_6)\n",
        "\n",
        "print(f\"rmse: {rmse_rnn_6:.2f}, mae: {mae_rnn_6:.2f} , mape: {mape_rnn_6:.2f} for 6 steps forecast\")"
      ],
      "metadata": {
        "id": "mIxx2r9V_Qaa",
        "colab": {
          "base_uri": "https://localhost:8080/"
        },
        "outputId": "df811e9e-1b37-4fa1-fb72-b63150f7fd8b"
      },
      "execution_count": 88,
      "outputs": [
        {
          "metadata": {
            "tags": null
          },
          "name": "stdout",
          "output_type": "stream",
          "text": [
            "rmse: 78.88, mae: 63.10 , mape: 3.72 for 6 steps forecast\n"
          ]
        }
      ]
    },
    {
      "cell_type": "code",
      "source": [
        "rmse_rnn_7, mae_rnn_7, mape_rnn_7= compute_metrics(series_test[6:], series_test_hat_rnn_7)\n",
        "\n",
        "print(f\"rmse: {rmse_rnn_7:.2f}, mae: {mae_rnn_7:.2f} , mape: {mape_rnn_7:.2f} for 7 steps forecast\")"
      ],
      "metadata": {
        "id": "eZ4yQ9l3_Qaa",
        "colab": {
          "base_uri": "https://localhost:8080/"
        },
        "outputId": "995a60e5-3ab7-444e-93d7-d168aa8d5a50"
      },
      "execution_count": 89,
      "outputs": [
        {
          "metadata": {
            "tags": null
          },
          "name": "stdout",
          "output_type": "stream",
          "text": [
            "rmse: 86.61, mae: 70.13 , mape: 4.13 for 7 steps forecast\n"
          ]
        }
      ]
    },
    {
      "cell_type": "code",
      "source": [
        "rmse_rnn_8, mae_rnn_8, mape_rnn_8= compute_metrics(series_test[7:], series_test_hat_rnn_8)\n",
        "\n",
        "print(f\"rmse: {rmse_rnn_8:.2f}, mae: {mae_rnn_8:.2f} , mape: {mape_rnn_8:.2f} for 8 steps forecast\")"
      ],
      "metadata": {
        "id": "iqcspE31_Qaa",
        "colab": {
          "base_uri": "https://localhost:8080/"
        },
        "outputId": "43931795-e95e-41b3-c729-76a89a69ab41"
      },
      "execution_count": 90,
      "outputs": [
        {
          "metadata": {
            "tags": null
          },
          "name": "stdout",
          "output_type": "stream",
          "text": [
            "rmse: 79.93, mae: 63.87 , mape: 3.77 for 8 steps forecast\n"
          ]
        }
      ]
    },
    {
      "cell_type": "code",
      "source": [
        "rmse_rnn_9, mae_rnn_9, mape_rnn_9= compute_metrics(series_test[8:], series_test_hat_rnn_9)\n",
        "\n",
        "print(f\"rmse: {rmse_rnn_9:.2f}, mae: {mae_rnn_9:.2f} , mape: {mape_rnn_9:.2f} for 9 steps forecast\")"
      ],
      "metadata": {
        "id": "93HuHMNm_Qab",
        "colab": {
          "base_uri": "https://localhost:8080/"
        },
        "outputId": "84b27cf5-19b2-43a1-955c-77bd96c90a47"
      },
      "execution_count": 91,
      "outputs": [
        {
          "metadata": {
            "tags": null
          },
          "name": "stdout",
          "output_type": "stream",
          "text": [
            "rmse: 85.03, mae: 68.56 , mape: 4.06 for 9 steps forecast\n"
          ]
        }
      ]
    },
    {
      "cell_type": "code",
      "source": [
        "rmse_rnn_10, mae_rnn_10, mape_rnn_10= compute_metrics(series_test[9:], series_test_hat_rnn_10)\n",
        "\n",
        "print(f\"rmse: {rmse_rnn_10:.2f}, mae: {mae_rnn_10:.2f} , mape: {mape_rnn_10:.2f} for 10 steps forecast\")"
      ],
      "metadata": {
        "id": "rT2IKuf-_Qab",
        "colab": {
          "base_uri": "https://localhost:8080/"
        },
        "outputId": "ed0fdd80-d67d-441a-f04a-39851b9e861e"
      },
      "execution_count": 92,
      "outputs": [
        {
          "metadata": {
            "tags": null
          },
          "name": "stdout",
          "output_type": "stream",
          "text": [
            "rmse: 91.32, mae: 73.66 , mape: 4.34 for 10 steps forecast\n"
          ]
        }
      ]
    },
    {
      "cell_type": "code",
      "source": [
        "# Save_weights model\n",
        "\n",
        "rnn.save_weights(\"/content/gdrive/MyDrive/Multistage/GOLD/models/rnn_GOLD_MIMO.h5\", overwrite=True, save_format=None, options=None)\n"
      ],
      "metadata": {
        "id": "t1s4AbAu_Qab"
      },
      "execution_count": 93,
      "outputs": []
    },
    {
      "cell_type": "code",
      "source": [
        "# Save predicted values\n",
        "\n",
        "np.savetxt(\"/content/gdrive/MyDrive/Multistage/GOLD/files/rnn_predicted_test_GOLD_1.csv\", \n",
        "           series_test_hat_rnn_1.T, delimiter=\",\")\n",
        "np.savetxt(\"/content/gdrive/MyDrive/Multistage/GOLD/files/rnn_predicted_test_GOLD_2.csv\", \n",
        "           series_test_hat_rnn_2.T, delimiter=\",\")\n",
        "np.savetxt(\"/content/gdrive/MyDrive/Multistage/GOLD/files/rnn_predicted_test_GOLD_3.csv\", \n",
        "           series_test_hat_rnn_3.T, delimiter=\",\")\n",
        "np.savetxt(\"/content/gdrive/MyDrive/Multistage/GOLD/files/rnn_predicted_test_GOLD_4.csv\", \n",
        "           series_test_hat_rnn_4.T, delimiter=\",\")\n",
        "np.savetxt(\"/content/gdrive/MyDrive/Multistage/GOLD/files/rnn_predicted_test_GOLD_5.csv\", \n",
        "           series_test_hat_rnn_5.T, delimiter=\",\")\n",
        "np.savetxt(\"/content/gdrive/MyDrive/Multistage/GOLD/files/rnn_predicted_test_GOLD_6.csv\", \n",
        "           series_test_hat_rnn_6.T, delimiter=\",\")\n",
        "np.savetxt(\"/content/gdrive/MyDrive/Multistage/GOLD/files/rnn_predicted_test_GOLD_7.csv\", \n",
        "           series_test_hat_rnn_7.T, delimiter=\",\")\n",
        "np.savetxt(\"/content/gdrive/MyDrive/Multistage/GOLD/files/rnn_predicted_test_GOLD_8.csv\", \n",
        "           series_test_hat_rnn_8.T, delimiter=\",\")\n",
        "np.savetxt(\"/content/gdrive/MyDrive/Multistage/GOLD/files/rnn_predicted_test_GOLD_9.csv\", \n",
        "           series_test_hat_rnn_9.T, delimiter=\",\")\n",
        "np.savetxt(\"/content/gdrive/MyDrive/Multistage/GOLD/files/rnn_predicted_test_GOLD_10.csv\", \n",
        "           series_test_hat_rnn_10.T, delimiter=\",\")\n",
        "\n",
        "\n",
        "np.savetxt(\"/content/gdrive/MyDrive/Multistage/GOLD/files/rnn_predicted_whole_GOLD.csv\", \n",
        "           series_y_hat_rnn.T, delimiter=\",\")"
      ],
      "metadata": {
        "id": "D7eM-3OY_Qab"
      },
      "execution_count": 94,
      "outputs": []
    },
    {
      "cell_type": "markdown",
      "source": [
        "## CNN-LSTM"
      ],
      "metadata": {
        "id": "EgSv9-FX_UEA"
      }
    },
    {
      "cell_type": "code",
      "source": [
        "def CNN_LSTM():\n",
        "   \n",
        "    model = tf.keras.models.Sequential([\n",
        "          tf.keras.layers.Conv1D(filters=256, kernel_size=2,\n",
        "                                 strides=1,\n",
        "                                 activation=\"relu\",\n",
        "                                 padding='causal',\n",
        "                                 input_shape=[G.WINDOW_SIZE, 1]),\n",
        "          tf.keras.layers.MaxPooling1D(pool_size=2, strides=1, padding=\"same\"),\n",
        "          tf.keras.layers.LSTM(200),\n",
        "          tf.keras.layers.Dense(10)\n",
        "    ])\n",
        "    learning_rate = 0.0005\n",
        "    model.compile(\n",
        "        optimizer=tf.keras.optimizers.Adam(learning_rate=learning_rate),\n",
        "        loss=tf.keras.losses.MeanSquaredError(),\n",
        "        metrics=[\"mae\"])\n",
        "\n",
        "    return model"
      ],
      "metadata": {
        "id": "Amka1E2csj3H"
      },
      "execution_count": 95,
      "outputs": []
    },
    {
      "cell_type": "markdown",
      "source": [
        "### Model training"
      ],
      "metadata": {
        "id": "LXeNAqC53r0s"
      }
    },
    {
      "cell_type": "code",
      "source": [
        "\n",
        "with strategy.scope():\n",
        "  cnn_lstm = CNN_LSTM()\n",
        "    # Fit with the entire dataset.\n",
        "cnn_lstm.fit(train_set_ten_step, epochs=200,callbacks = [reduce_lr])  \n"
      ],
      "metadata": {
        "id": "GkSIBrY33r0s",
        "colab": {
          "base_uri": "https://localhost:8080/"
        },
        "outputId": "0ccef262-944d-4f25-dd8e-2e7f0deff6e2"
      },
      "execution_count": 96,
      "outputs": [
        {
          "output_type": "stream",
          "name": "stdout",
          "text": [
            "Epoch 1/200\n",
            "94/94 [==============================] - 8s 34ms/step - loss: 0.0039 - mae: 0.0483 - lr: 5.0000e-04\n",
            "Epoch 2/200\n",
            "94/94 [==============================] - 2s 21ms/step - loss: 0.0043 - mae: 0.0521 - lr: 5.0000e-04\n",
            "Epoch 3/200\n",
            "94/94 [==============================] - 2s 22ms/step - loss: 0.0038 - mae: 0.0479 - lr: 5.0000e-04\n",
            "Epoch 4/200\n",
            "94/94 [==============================] - 2s 22ms/step - loss: 0.0042 - mae: 0.0505 - lr: 5.0000e-04\n",
            "Epoch 5/200\n",
            "94/94 [==============================] - 2s 26ms/step - loss: 0.0043 - mae: 0.0507 - lr: 5.0000e-04\n",
            "Epoch 6/200\n",
            "94/94 [==============================] - 2s 22ms/step - loss: 0.0051 - mae: 0.0548 - lr: 5.0000e-04\n",
            "Epoch 7/200\n",
            "94/94 [==============================] - 2s 26ms/step - loss: 0.0061 - mae: 0.0591 - lr: 5.0000e-04\n",
            "Epoch 8/200\n",
            "94/94 [==============================] - 2s 21ms/step - loss: 0.0067 - mae: 0.0609 - lr: 5.0000e-04\n",
            "Epoch 9/200\n",
            "94/94 [==============================] - 2s 21ms/step - loss: 0.0070 - mae: 0.0616 - lr: 4.7500e-04\n",
            "Epoch 10/200\n",
            "94/94 [==============================] - 2s 21ms/step - loss: 0.0078 - mae: 0.0649 - lr: 4.7500e-04\n",
            "Epoch 11/200\n",
            "94/94 [==============================] - 2s 22ms/step - loss: 0.0091 - mae: 0.0693 - lr: 4.7500e-04\n",
            "Epoch 12/200\n",
            "94/94 [==============================] - 2s 21ms/step - loss: 0.0098 - mae: 0.0711 - lr: 4.7500e-04\n",
            "Epoch 13/200\n",
            "94/94 [==============================] - 2s 22ms/step - loss: 0.0090 - mae: 0.0677 - lr: 4.7500e-04\n",
            "Epoch 14/200\n",
            "94/94 [==============================] - 2s 20ms/step - loss: 0.0077 - mae: 0.0627 - lr: 4.5125e-04\n",
            "Epoch 15/200\n",
            "94/94 [==============================] - 2s 21ms/step - loss: 0.0060 - mae: 0.0553 - lr: 4.5125e-04\n",
            "Epoch 16/200\n",
            "94/94 [==============================] - 2s 21ms/step - loss: 0.0050 - mae: 0.0501 - lr: 4.5125e-04\n",
            "Epoch 17/200\n",
            "94/94 [==============================] - 2s 22ms/step - loss: 0.0043 - mae: 0.0464 - lr: 4.5125e-04\n",
            "Epoch 18/200\n",
            "94/94 [==============================] - 2s 21ms/step - loss: 0.0038 - mae: 0.0437 - lr: 4.5125e-04\n",
            "Epoch 19/200\n",
            "94/94 [==============================] - 2s 21ms/step - loss: 0.0034 - mae: 0.0413 - lr: 4.5125e-04\n",
            "Epoch 20/200\n",
            "94/94 [==============================] - 2s 21ms/step - loss: 0.0031 - mae: 0.0396 - lr: 4.5125e-04\n",
            "Epoch 21/200\n",
            "94/94 [==============================] - 2s 21ms/step - loss: 0.0029 - mae: 0.0383 - lr: 4.5125e-04\n",
            "Epoch 22/200\n",
            "94/94 [==============================] - 2s 22ms/step - loss: 0.0028 - mae: 0.0374 - lr: 4.5125e-04\n",
            "Epoch 23/200\n",
            "94/94 [==============================] - 2s 21ms/step - loss: 0.0027 - mae: 0.0367 - lr: 4.5125e-04\n",
            "Epoch 24/200\n",
            "94/94 [==============================] - 2s 22ms/step - loss: 0.0026 - mae: 0.0364 - lr: 4.5125e-04\n",
            "Epoch 25/200\n",
            "94/94 [==============================] - 2s 21ms/step - loss: 0.0026 - mae: 0.0361 - lr: 4.5125e-04\n",
            "Epoch 26/200\n",
            "94/94 [==============================] - 2s 21ms/step - loss: 0.0025 - mae: 0.0359 - lr: 4.5125e-04\n",
            "Epoch 27/200\n",
            "94/94 [==============================] - 2s 21ms/step - loss: 0.0025 - mae: 0.0358 - lr: 4.5125e-04\n",
            "Epoch 28/200\n",
            "94/94 [==============================] - 2s 22ms/step - loss: 0.0025 - mae: 0.0356 - lr: 4.5125e-04\n",
            "Epoch 29/200\n",
            "94/94 [==============================] - 2s 22ms/step - loss: 0.0025 - mae: 0.0354 - lr: 4.5125e-04\n",
            "Epoch 30/200\n",
            "94/94 [==============================] - 2s 21ms/step - loss: 0.0025 - mae: 0.0352 - lr: 4.5125e-04\n",
            "Epoch 31/200\n",
            "94/94 [==============================] - 2s 21ms/step - loss: 0.0024 - mae: 0.0350 - lr: 4.5125e-04\n",
            "Epoch 32/200\n",
            "94/94 [==============================] - 2s 22ms/step - loss: 0.0024 - mae: 0.0349 - lr: 4.5125e-04\n",
            "Epoch 33/200\n",
            "94/94 [==============================] - 2s 22ms/step - loss: 0.0024 - mae: 0.0350 - lr: 4.5125e-04\n",
            "Epoch 34/200\n",
            "94/94 [==============================] - 2s 22ms/step - loss: 0.0024 - mae: 0.0353 - lr: 4.5125e-04\n",
            "Epoch 35/200\n",
            "94/94 [==============================] - 2s 23ms/step - loss: 0.0025 - mae: 0.0357 - lr: 4.5125e-04\n",
            "Epoch 36/200\n",
            "94/94 [==============================] - 2s 21ms/step - loss: 0.0026 - mae: 0.0361 - lr: 4.5125e-04\n",
            "Epoch 37/200\n",
            "94/94 [==============================] - 2s 22ms/step - loss: 0.0026 - mae: 0.0361 - lr: 4.5125e-04\n",
            "Epoch 38/200\n",
            "94/94 [==============================] - 2s 21ms/step - loss: 0.0026 - mae: 0.0360 - lr: 4.2869e-04\n",
            "Epoch 39/200\n",
            "94/94 [==============================] - 2s 21ms/step - loss: 0.0024 - mae: 0.0348 - lr: 4.2869e-04\n",
            "Epoch 40/200\n",
            "94/94 [==============================] - 2s 22ms/step - loss: 0.0023 - mae: 0.0341 - lr: 4.2869e-04\n",
            "Epoch 41/200\n",
            "94/94 [==============================] - 2s 21ms/step - loss: 0.0022 - mae: 0.0337 - lr: 4.2869e-04\n",
            "Epoch 42/200\n",
            "94/94 [==============================] - 2s 22ms/step - loss: 0.0023 - mae: 0.0339 - lr: 4.2869e-04\n",
            "Epoch 43/200\n",
            "94/94 [==============================] - 2s 22ms/step - loss: 0.0022 - mae: 0.0339 - lr: 4.2869e-04\n",
            "Epoch 44/200\n",
            "94/94 [==============================] - 2s 21ms/step - loss: 0.0022 - mae: 0.0340 - lr: 4.2869e-04\n",
            "Epoch 45/200\n",
            "94/94 [==============================] - 2s 22ms/step - loss: 0.0022 - mae: 0.0339 - lr: 4.2869e-04\n",
            "Epoch 46/200\n",
            "94/94 [==============================] - 2s 23ms/step - loss: 0.0022 - mae: 0.0340 - lr: 4.2869e-04\n",
            "Epoch 47/200\n",
            "94/94 [==============================] - 2s 21ms/step - loss: 0.0023 - mae: 0.0343 - lr: 4.0725e-04\n",
            "Epoch 48/200\n",
            "94/94 [==============================] - 2s 22ms/step - loss: 0.0021 - mae: 0.0330 - lr: 4.0725e-04\n",
            "Epoch 49/200\n",
            "94/94 [==============================] - 2s 22ms/step - loss: 0.0020 - mae: 0.0321 - lr: 4.0725e-04\n",
            "Epoch 50/200\n",
            "94/94 [==============================] - 2s 22ms/step - loss: 0.0019 - mae: 0.0312 - lr: 4.0725e-04\n",
            "Epoch 51/200\n",
            "94/94 [==============================] - 2s 22ms/step - loss: 0.0019 - mae: 0.0309 - lr: 4.0725e-04\n",
            "Epoch 52/200\n",
            "94/94 [==============================] - 2s 21ms/step - loss: 0.0018 - mae: 0.0308 - lr: 4.0725e-04\n",
            "Epoch 53/200\n",
            "94/94 [==============================] - 2s 21ms/step - loss: 0.0019 - mae: 0.0310 - lr: 4.0725e-04\n",
            "Epoch 54/200\n",
            "94/94 [==============================] - 2s 21ms/step - loss: 0.0019 - mae: 0.0311 - lr: 4.0725e-04\n",
            "Epoch 55/200\n",
            "94/94 [==============================] - 2s 21ms/step - loss: 0.0019 - mae: 0.0310 - lr: 4.0725e-04\n",
            "Epoch 56/200\n",
            "94/94 [==============================] - 2s 22ms/step - loss: 0.0018 - mae: 0.0308 - lr: 4.0725e-04\n",
            "Epoch 57/200\n",
            "94/94 [==============================] - 2s 21ms/step - loss: 0.0019 - mae: 0.0311 - lr: 3.8689e-04\n",
            "Epoch 58/200\n",
            "94/94 [==============================] - 2s 21ms/step - loss: 0.0018 - mae: 0.0306 - lr: 3.8689e-04\n",
            "Epoch 59/200\n",
            "94/94 [==============================] - 2s 23ms/step - loss: 0.0018 - mae: 0.0303 - lr: 3.8689e-04\n",
            "Epoch 60/200\n",
            "94/94 [==============================] - 2s 21ms/step - loss: 0.0017 - mae: 0.0300 - lr: 3.8689e-04\n",
            "Epoch 61/200\n",
            "94/94 [==============================] - 2s 23ms/step - loss: 0.0017 - mae: 0.0297 - lr: 3.8689e-04\n",
            "Epoch 62/200\n",
            "94/94 [==============================] - 2s 22ms/step - loss: 0.0017 - mae: 0.0295 - lr: 3.8689e-04\n",
            "Epoch 63/200\n",
            "94/94 [==============================] - 2s 22ms/step - loss: 0.0017 - mae: 0.0295 - lr: 3.8689e-04\n",
            "Epoch 64/200\n",
            "94/94 [==============================] - 2s 21ms/step - loss: 0.0017 - mae: 0.0296 - lr: 3.8689e-04\n",
            "Epoch 65/200\n",
            "94/94 [==============================] - 2s 21ms/step - loss: 0.0017 - mae: 0.0296 - lr: 3.8689e-04\n",
            "Epoch 66/200\n",
            "94/94 [==============================] - 2s 21ms/step - loss: 0.0017 - mae: 0.0295 - lr: 3.8689e-04\n",
            "Epoch 67/200\n",
            "94/94 [==============================] - 2s 22ms/step - loss: 0.0017 - mae: 0.0296 - lr: 3.8689e-04\n",
            "Epoch 68/200\n",
            "94/94 [==============================] - 2s 22ms/step - loss: 0.0017 - mae: 0.0299 - lr: 3.6755e-04\n",
            "Epoch 69/200\n",
            "94/94 [==============================] - 2s 22ms/step - loss: 0.0016 - mae: 0.0294 - lr: 3.6755e-04\n",
            "Epoch 70/200\n",
            "94/94 [==============================] - 2s 22ms/step - loss: 0.0016 - mae: 0.0290 - lr: 3.6755e-04\n",
            "Epoch 71/200\n",
            "94/94 [==============================] - 2s 22ms/step - loss: 0.0016 - mae: 0.0287 - lr: 3.6755e-04\n",
            "Epoch 72/200\n",
            "94/94 [==============================] - 2s 23ms/step - loss: 0.0016 - mae: 0.0285 - lr: 3.6755e-04\n",
            "Epoch 73/200\n",
            "94/94 [==============================] - 2s 22ms/step - loss: 0.0015 - mae: 0.0284 - lr: 3.6755e-04\n",
            "Epoch 74/200\n",
            "94/94 [==============================] - 2s 21ms/step - loss: 0.0015 - mae: 0.0282 - lr: 3.6755e-04\n",
            "Epoch 75/200\n",
            "94/94 [==============================] - 2s 22ms/step - loss: 0.0015 - mae: 0.0282 - lr: 3.6755e-04\n",
            "Epoch 76/200\n",
            "94/94 [==============================] - 2s 22ms/step - loss: 0.0015 - mae: 0.0282 - lr: 3.6755e-04\n",
            "Epoch 77/200\n",
            "94/94 [==============================] - 2s 22ms/step - loss: 0.0015 - mae: 0.0283 - lr: 3.6755e-04\n",
            "Epoch 78/200\n",
            "94/94 [==============================] - 2s 21ms/step - loss: 0.0015 - mae: 0.0283 - lr: 3.6755e-04\n",
            "Epoch 79/200\n",
            "94/94 [==============================] - 2s 21ms/step - loss: 0.0015 - mae: 0.0285 - lr: 3.6755e-04\n",
            "Epoch 80/200\n",
            "94/94 [==============================] - 2s 21ms/step - loss: 0.0016 - mae: 0.0288 - lr: 3.4917e-04\n",
            "Epoch 81/200\n",
            "94/94 [==============================] - 2s 21ms/step - loss: 0.0015 - mae: 0.0281 - lr: 3.4917e-04\n",
            "Epoch 82/200\n",
            "94/94 [==============================] - 2s 21ms/step - loss: 0.0015 - mae: 0.0276 - lr: 3.4917e-04\n",
            "Epoch 83/200\n",
            "94/94 [==============================] - 2s 22ms/step - loss: 0.0014 - mae: 0.0271 - lr: 3.4917e-04\n",
            "Epoch 84/200\n",
            "94/94 [==============================] - 2s 21ms/step - loss: 0.0014 - mae: 0.0270 - lr: 3.4917e-04\n",
            "Epoch 85/200\n",
            "94/94 [==============================] - 2s 21ms/step - loss: 0.0014 - mae: 0.0269 - lr: 3.4917e-04\n",
            "Epoch 86/200\n",
            "94/94 [==============================] - 2s 22ms/step - loss: 0.0014 - mae: 0.0270 - lr: 3.4917e-04\n",
            "Epoch 87/200\n",
            "94/94 [==============================] - 2s 22ms/step - loss: 0.0014 - mae: 0.0271 - lr: 3.4917e-04\n",
            "Epoch 88/200\n",
            "94/94 [==============================] - 2s 23ms/step - loss: 0.0014 - mae: 0.0272 - lr: 3.4917e-04\n",
            "Epoch 89/200\n",
            "94/94 [==============================] - 2s 21ms/step - loss: 0.0014 - mae: 0.0273 - lr: 3.4917e-04\n",
            "Epoch 90/200\n",
            "94/94 [==============================] - 2s 22ms/step - loss: 0.0014 - mae: 0.0276 - lr: 3.3171e-04\n",
            "Epoch 91/200\n",
            "94/94 [==============================] - 2s 21ms/step - loss: 0.0014 - mae: 0.0268 - lr: 3.3171e-04\n",
            "Epoch 92/200\n",
            "94/94 [==============================] - 2s 22ms/step - loss: 0.0013 - mae: 0.0265 - lr: 3.3171e-04\n",
            "Epoch 93/200\n",
            "94/94 [==============================] - 2s 22ms/step - loss: 0.0013 - mae: 0.0262 - lr: 3.3171e-04\n",
            "Epoch 94/200\n",
            "94/94 [==============================] - 2s 22ms/step - loss: 0.0013 - mae: 0.0260 - lr: 3.3171e-04\n",
            "Epoch 95/200\n",
            "94/94 [==============================] - 2s 22ms/step - loss: 0.0013 - mae: 0.0259 - lr: 3.3171e-04\n",
            "Epoch 96/200\n",
            "94/94 [==============================] - 2s 23ms/step - loss: 0.0013 - mae: 0.0260 - lr: 3.3171e-04\n",
            "Epoch 97/200\n",
            "94/94 [==============================] - 2s 22ms/step - loss: 0.0013 - mae: 0.0261 - lr: 3.3171e-04\n",
            "Epoch 98/200\n",
            "94/94 [==============================] - 2s 22ms/step - loss: 0.0013 - mae: 0.0263 - lr: 3.3171e-04\n",
            "Epoch 99/200\n",
            "94/94 [==============================] - 2s 21ms/step - loss: 0.0013 - mae: 0.0264 - lr: 3.3171e-04\n",
            "Epoch 100/200\n",
            "94/94 [==============================] - 2s 22ms/step - loss: 0.0013 - mae: 0.0266 - lr: 3.1512e-04\n",
            "Epoch 101/200\n",
            "94/94 [==============================] - 2s 22ms/step - loss: 0.0013 - mae: 0.0259 - lr: 3.1512e-04\n",
            "Epoch 102/200\n",
            "94/94 [==============================] - 2s 22ms/step - loss: 0.0012 - mae: 0.0255 - lr: 3.1512e-04\n",
            "Epoch 103/200\n",
            "94/94 [==============================] - 2s 22ms/step - loss: 0.0012 - mae: 0.0254 - lr: 3.1512e-04\n",
            "Epoch 104/200\n",
            "94/94 [==============================] - 2s 23ms/step - loss: 0.0012 - mae: 0.0254 - lr: 3.1512e-04\n",
            "Epoch 105/200\n",
            "94/94 [==============================] - 2s 20ms/step - loss: 0.0012 - mae: 0.0254 - lr: 3.1512e-04\n",
            "Epoch 106/200\n",
            "94/94 [==============================] - 2s 22ms/step - loss: 0.0012 - mae: 0.0255 - lr: 3.1512e-04\n",
            "Epoch 107/200\n",
            "94/94 [==============================] - 2s 21ms/step - loss: 0.0012 - mae: 0.0256 - lr: 3.1512e-04\n",
            "Epoch 108/200\n",
            "94/94 [==============================] - 2s 22ms/step - loss: 0.0012 - mae: 0.0256 - lr: 3.1512e-04\n",
            "Epoch 109/200\n",
            "94/94 [==============================] - 2s 22ms/step - loss: 0.0012 - mae: 0.0256 - lr: 2.9937e-04\n",
            "Epoch 110/200\n",
            "94/94 [==============================] - 2s 21ms/step - loss: 0.0012 - mae: 0.0250 - lr: 2.9937e-04\n",
            "Epoch 111/200\n",
            "94/94 [==============================] - 2s 22ms/step - loss: 0.0012 - mae: 0.0249 - lr: 2.9937e-04\n",
            "Epoch 112/200\n",
            "94/94 [==============================] - 2s 22ms/step - loss: 0.0012 - mae: 0.0248 - lr: 2.9937e-04\n",
            "Epoch 113/200\n",
            "94/94 [==============================] - 2s 22ms/step - loss: 0.0012 - mae: 0.0246 - lr: 2.9937e-04\n",
            "Epoch 114/200\n",
            "94/94 [==============================] - 2s 21ms/step - loss: 0.0011 - mae: 0.0245 - lr: 2.9937e-04\n",
            "Epoch 115/200\n",
            "94/94 [==============================] - 2s 22ms/step - loss: 0.0012 - mae: 0.0247 - lr: 2.9937e-04\n",
            "Epoch 116/200\n",
            "94/94 [==============================] - 2s 21ms/step - loss: 0.0012 - mae: 0.0247 - lr: 2.9937e-04\n",
            "Epoch 117/200\n",
            "94/94 [==============================] - 2s 22ms/step - loss: 0.0012 - mae: 0.0249 - lr: 2.9937e-04\n",
            "Epoch 118/200\n",
            "94/94 [==============================] - 2s 22ms/step - loss: 0.0012 - mae: 0.0249 - lr: 2.9937e-04\n",
            "Epoch 119/200\n",
            "94/94 [==============================] - 2s 22ms/step - loss: 0.0012 - mae: 0.0249 - lr: 2.9937e-04\n",
            "Epoch 120/200\n",
            "94/94 [==============================] - 2s 22ms/step - loss: 0.0012 - mae: 0.0251 - lr: 2.8440e-04\n",
            "Epoch 121/200\n",
            "94/94 [==============================] - 2s 22ms/step - loss: 0.0011 - mae: 0.0245 - lr: 2.8440e-04\n",
            "Epoch 122/200\n",
            "94/94 [==============================] - 2s 21ms/step - loss: 0.0011 - mae: 0.0242 - lr: 2.8440e-04\n",
            "Epoch 123/200\n",
            "94/94 [==============================] - 2s 21ms/step - loss: 0.0011 - mae: 0.0241 - lr: 2.8440e-04\n",
            "Epoch 124/200\n",
            "94/94 [==============================] - 2s 21ms/step - loss: 0.0011 - mae: 0.0240 - lr: 2.8440e-04\n",
            "Epoch 125/200\n",
            "94/94 [==============================] - 2s 22ms/step - loss: 0.0011 - mae: 0.0239 - lr: 2.8440e-04\n",
            "Epoch 126/200\n",
            "94/94 [==============================] - 2s 21ms/step - loss: 0.0011 - mae: 0.0240 - lr: 2.8440e-04\n",
            "Epoch 127/200\n",
            "94/94 [==============================] - 2s 21ms/step - loss: 0.0011 - mae: 0.0240 - lr: 2.8440e-04\n",
            "Epoch 128/200\n",
            "94/94 [==============================] - 2s 22ms/step - loss: 0.0011 - mae: 0.0241 - lr: 2.8440e-04\n",
            "Epoch 129/200\n",
            "94/94 [==============================] - 2s 20ms/step - loss: 0.0011 - mae: 0.0241 - lr: 2.8440e-04\n",
            "Epoch 130/200\n",
            "94/94 [==============================] - 2s 22ms/step - loss: 0.0011 - mae: 0.0242 - lr: 2.8440e-04\n",
            "Epoch 131/200\n",
            "94/94 [==============================] - 2s 22ms/step - loss: 0.0011 - mae: 0.0245 - lr: 2.7018e-04\n",
            "Epoch 132/200\n",
            "94/94 [==============================] - 2s 21ms/step - loss: 0.0011 - mae: 0.0240 - lr: 2.7018e-04\n",
            "Epoch 133/200\n",
            "94/94 [==============================] - 2s 22ms/step - loss: 0.0011 - mae: 0.0237 - lr: 2.7018e-04\n",
            "Epoch 134/200\n",
            "94/94 [==============================] - 2s 22ms/step - loss: 0.0011 - mae: 0.0236 - lr: 2.7018e-04\n",
            "Epoch 135/200\n",
            "94/94 [==============================] - 2s 21ms/step - loss: 0.0011 - mae: 0.0235 - lr: 2.7018e-04\n",
            "Epoch 136/200\n",
            "94/94 [==============================] - 2s 23ms/step - loss: 0.0011 - mae: 0.0235 - lr: 2.7018e-04\n",
            "Epoch 137/200\n",
            "94/94 [==============================] - 2s 21ms/step - loss: 0.0011 - mae: 0.0235 - lr: 2.7018e-04\n",
            "Epoch 138/200\n",
            "94/94 [==============================] - 2s 21ms/step - loss: 0.0011 - mae: 0.0236 - lr: 2.7018e-04\n",
            "Epoch 139/200\n",
            "94/94 [==============================] - 2s 22ms/step - loss: 0.0011 - mae: 0.0235 - lr: 2.7018e-04\n",
            "Epoch 140/200\n",
            "94/94 [==============================] - 2s 21ms/step - loss: 0.0011 - mae: 0.0236 - lr: 2.5667e-04\n",
            "Epoch 141/200\n",
            "94/94 [==============================] - 2s 22ms/step - loss: 0.0010 - mae: 0.0231 - lr: 2.5667e-04\n",
            "Epoch 142/200\n",
            "94/94 [==============================] - 2s 21ms/step - loss: 0.0010 - mae: 0.0230 - lr: 2.5667e-04\n",
            "Epoch 143/200\n",
            "94/94 [==============================] - 2s 21ms/step - loss: 0.0010 - mae: 0.0229 - lr: 2.5667e-04\n",
            "Epoch 144/200\n",
            "94/94 [==============================] - 2s 21ms/step - loss: 0.0010 - mae: 0.0230 - lr: 2.5667e-04\n",
            "Epoch 145/200\n",
            "94/94 [==============================] - 2s 21ms/step - loss: 0.0010 - mae: 0.0231 - lr: 2.5667e-04\n",
            "Epoch 146/200\n",
            "94/94 [==============================] - 2s 21ms/step - loss: 0.0010 - mae: 0.0231 - lr: 2.5667e-04\n",
            "Epoch 147/200\n",
            "94/94 [==============================] - 2s 23ms/step - loss: 0.0010 - mae: 0.0231 - lr: 2.5667e-04\n",
            "Epoch 148/200\n",
            "94/94 [==============================] - 2s 22ms/step - loss: 0.0010 - mae: 0.0232 - lr: 2.4384e-04\n",
            "Epoch 149/200\n",
            "94/94 [==============================] - 2s 22ms/step - loss: 9.8963e-04 - mae: 0.0228 - lr: 2.4384e-04\n",
            "Epoch 150/200\n",
            "94/94 [==============================] - 2s 22ms/step - loss: 9.7179e-04 - mae: 0.0225 - lr: 2.4384e-04\n",
            "Epoch 151/200\n",
            "94/94 [==============================] - 2s 22ms/step - loss: 9.7104e-04 - mae: 0.0225 - lr: 2.4384e-04\n",
            "Epoch 152/200\n",
            "94/94 [==============================] - 2s 22ms/step - loss: 9.6858e-04 - mae: 0.0225 - lr: 2.4384e-04\n",
            "Epoch 153/200\n",
            "94/94 [==============================] - 2s 22ms/step - loss: 9.7250e-04 - mae: 0.0226 - lr: 2.4384e-04\n",
            "Epoch 154/200\n",
            "94/94 [==============================] - 2s 22ms/step - loss: 9.7439e-04 - mae: 0.0226 - lr: 2.4384e-04\n",
            "Epoch 155/200\n",
            "94/94 [==============================] - 2s 22ms/step - loss: 9.7298e-04 - mae: 0.0226 - lr: 2.4384e-04\n",
            "Epoch 156/200\n",
            "94/94 [==============================] - 2s 22ms/step - loss: 9.7961e-04 - mae: 0.0227 - lr: 2.3165e-04\n",
            "Epoch 157/200\n",
            "94/94 [==============================] - 2s 22ms/step - loss: 9.5141e-04 - mae: 0.0223 - lr: 2.3165e-04\n",
            "Epoch 158/200\n",
            "94/94 [==============================] - 2s 23ms/step - loss: 9.4195e-04 - mae: 0.0222 - lr: 2.3165e-04\n",
            "Epoch 159/200\n",
            "94/94 [==============================] - 2s 21ms/step - loss: 9.3865e-04 - mae: 0.0222 - lr: 2.3165e-04\n",
            "Epoch 160/200\n",
            "94/94 [==============================] - 2s 22ms/step - loss: 9.3980e-04 - mae: 0.0222 - lr: 2.3165e-04\n",
            "Epoch 161/200\n",
            "94/94 [==============================] - 2s 22ms/step - loss: 9.4338e-04 - mae: 0.0222 - lr: 2.3165e-04\n",
            "Epoch 162/200\n",
            "94/94 [==============================] - 2s 22ms/step - loss: 9.4519e-04 - mae: 0.0222 - lr: 2.3165e-04\n",
            "Epoch 163/200\n",
            "94/94 [==============================] - 2s 23ms/step - loss: 9.4786e-04 - mae: 0.0223 - lr: 2.3165e-04\n",
            "Epoch 164/200\n",
            "94/94 [==============================] - 2s 22ms/step - loss: 9.5467e-04 - mae: 0.0224 - lr: 2.2006e-04\n",
            "Epoch 165/200\n",
            "94/94 [==============================] - 2s 22ms/step - loss: 9.3141e-04 - mae: 0.0221 - lr: 2.2006e-04\n",
            "Epoch 166/200\n",
            "94/94 [==============================] - 2s 22ms/step - loss: 9.1766e-04 - mae: 0.0219 - lr: 2.2006e-04\n",
            "Epoch 167/200\n",
            "94/94 [==============================] - 2s 23ms/step - loss: 9.1051e-04 - mae: 0.0218 - lr: 2.2006e-04\n",
            "Epoch 168/200\n",
            "94/94 [==============================] - 2s 23ms/step - loss: 9.1232e-04 - mae: 0.0218 - lr: 2.2006e-04\n",
            "Epoch 169/200\n",
            "94/94 [==============================] - 2s 21ms/step - loss: 9.1553e-04 - mae: 0.0219 - lr: 2.2006e-04\n",
            "Epoch 170/200\n",
            "94/94 [==============================] - 2s 22ms/step - loss: 9.2529e-04 - mae: 0.0220 - lr: 2.2006e-04\n",
            "Epoch 171/200\n",
            "94/94 [==============================] - 2s 22ms/step - loss: 9.2577e-04 - mae: 0.0220 - lr: 2.2006e-04\n",
            "Epoch 172/200\n",
            "94/94 [==============================] - 2s 21ms/step - loss: 9.2969e-04 - mae: 0.0221 - lr: 2.0906e-04\n",
            "Epoch 173/200\n",
            "94/94 [==============================] - 2s 22ms/step - loss: 9.0507e-04 - mae: 0.0218 - lr: 2.0906e-04\n",
            "Epoch 174/200\n",
            "94/94 [==============================] - 2s 21ms/step - loss: 8.9759e-04 - mae: 0.0217 - lr: 2.0906e-04\n",
            "Epoch 175/200\n",
            "94/94 [==============================] - 2s 21ms/step - loss: 8.8918e-04 - mae: 0.0215 - lr: 2.0906e-04\n",
            "Epoch 176/200\n",
            "94/94 [==============================] - 2s 22ms/step - loss: 8.9284e-04 - mae: 0.0216 - lr: 2.0906e-04\n",
            "Epoch 177/200\n",
            "94/94 [==============================] - 2s 22ms/step - loss: 8.9096e-04 - mae: 0.0216 - lr: 2.0906e-04\n",
            "Epoch 178/200\n",
            "94/94 [==============================] - 2s 22ms/step - loss: 8.9729e-04 - mae: 0.0217 - lr: 2.0906e-04\n",
            "Epoch 179/200\n",
            "94/94 [==============================] - 2s 22ms/step - loss: 8.9619e-04 - mae: 0.0216 - lr: 2.0906e-04\n",
            "Epoch 180/200\n",
            "94/94 [==============================] - 2s 21ms/step - loss: 8.9859e-04 - mae: 0.0217 - lr: 2.0906e-04\n",
            "Epoch 181/200\n",
            "94/94 [==============================] - 2s 22ms/step - loss: 9.0508e-04 - mae: 0.0218 - lr: 1.9861e-04\n",
            "Epoch 182/200\n",
            "94/94 [==============================] - 2s 22ms/step - loss: 8.7535e-04 - mae: 0.0214 - lr: 1.9861e-04\n",
            "Epoch 183/200\n",
            "94/94 [==============================] - 2s 22ms/step - loss: 8.6982e-04 - mae: 0.0213 - lr: 1.9861e-04\n",
            "Epoch 184/200\n",
            "94/94 [==============================] - 2s 24ms/step - loss: 8.7433e-04 - mae: 0.0214 - lr: 1.9861e-04\n",
            "Epoch 185/200\n",
            "94/94 [==============================] - 2s 23ms/step - loss: 8.7362e-04 - mae: 0.0213 - lr: 1.9861e-04\n",
            "Epoch 186/200\n",
            "94/94 [==============================] - 2s 22ms/step - loss: 8.6870e-04 - mae: 0.0213 - lr: 1.9861e-04\n",
            "Epoch 187/200\n",
            "94/94 [==============================] - 2s 21ms/step - loss: 8.7147e-04 - mae: 0.0213 - lr: 1.9861e-04\n",
            "Epoch 188/200\n",
            "94/94 [==============================] - 2s 22ms/step - loss: 8.7401e-04 - mae: 0.0214 - lr: 1.9861e-04\n",
            "Epoch 189/200\n",
            "94/94 [==============================] - 2s 22ms/step - loss: 8.7243e-04 - mae: 0.0214 - lr: 1.9861e-04\n",
            "Epoch 190/200\n",
            "94/94 [==============================] - 2s 22ms/step - loss: 8.7798e-04 - mae: 0.0214 - lr: 1.9861e-04\n",
            "Epoch 191/200\n",
            "94/94 [==============================] - 2s 22ms/step - loss: 8.7513e-04 - mae: 0.0214 - lr: 1.9861e-04\n",
            "Epoch 192/200\n",
            "94/94 [==============================] - 2s 22ms/step - loss: 8.8860e-04 - mae: 0.0216 - lr: 1.8868e-04\n",
            "Epoch 193/200\n",
            "94/94 [==============================] - 2s 22ms/step - loss: 8.6488e-04 - mae: 0.0213 - lr: 1.8868e-04\n",
            "Epoch 194/200\n",
            "94/94 [==============================] - 2s 21ms/step - loss: 8.6367e-04 - mae: 0.0213 - lr: 1.8868e-04\n",
            "Epoch 195/200\n",
            "94/94 [==============================] - 2s 23ms/step - loss: 8.5264e-04 - mae: 0.0211 - lr: 1.8868e-04\n",
            "Epoch 196/200\n",
            "94/94 [==============================] - 2s 21ms/step - loss: 8.5253e-04 - mae: 0.0211 - lr: 1.8868e-04\n",
            "Epoch 197/200\n",
            "94/94 [==============================] - 2s 22ms/step - loss: 8.4727e-04 - mae: 0.0210 - lr: 1.8868e-04\n",
            "Epoch 198/200\n",
            "94/94 [==============================] - 2s 22ms/step - loss: 8.5328e-04 - mae: 0.0211 - lr: 1.8868e-04\n",
            "Epoch 199/200\n",
            "94/94 [==============================] - 2s 21ms/step - loss: 8.5346e-04 - mae: 0.0211 - lr: 1.8868e-04\n",
            "Epoch 200/200\n",
            "94/94 [==============================] - 2s 23ms/step - loss: 8.7060e-04 - mae: 0.0214 - lr: 1.8868e-04\n"
          ]
        },
        {
          "output_type": "execute_result",
          "data": {
            "text/plain": [
              "<keras.callbacks.History at 0x7fe2f4a83490>"
            ]
          },
          "metadata": {},
          "execution_count": 96
        }
      ]
    },
    {
      "cell_type": "code",
      "source": [
        "print(cnn_lstm.summary())"
      ],
      "metadata": {
        "id": "Yg0W3J-E3r0s"
      },
      "execution_count": null,
      "outputs": []
    },
    {
      "cell_type": "markdown",
      "metadata": {
        "id": "IS2Afo5X4EJ_"
      },
      "source": [
        "### Evaluating the forecast\n",
        "\n",
        "Now it is time to evaluate the performance of the forecast. For this we use the `compute_metrics` function:"
      ]
    },
    {
      "cell_type": "markdown",
      "metadata": {
        "id": "ob2KEBSp4EKA"
      },
      "source": [
        "At this point only the model that will perform the forecast is ready but we still need to compute the actual forecast.\n",
        "\n"
      ]
    },
    {
      "cell_type": "markdown",
      "metadata": {
        "id": "mVMn6zWU4EKA"
      },
      "source": [
        "Faster model forecasts\n",
        "\n",
        "\n",
        "- The dataset is windowed using `window_size` rather than `window_size + 1`\n",
        "- No shuffle should be used\n",
        "- No need to split the data into features and labels\n",
        "- A model is used to predict batches of the dataset"
      ]
    },
    {
      "cell_type": "markdown",
      "metadata": {
        "id": "4LjJZV4M4EKA"
      },
      "source": [
        "Now compute the actual forecast:"
      ]
    },
    {
      "cell_type": "code",
      "source": [
        "# Evaluate each model and the ensemble on the test set\n",
        "# remember the last predicted value is not in the test set. It should be removed when producing y_hat series.\n",
        "\n",
        "cnn_lstm_pred =  model_forecast(cnn_lstm, series_norm, G.WINDOW_SIZE).squeeze()\n",
        "\n"
      ],
      "metadata": {
        "id": "4vs8AT5Q4EKA"
      },
      "execution_count": null,
      "outputs": []
    },
    {
      "cell_type": "code",
      "source": [
        "cnn_lstm_pred = reverse_normalization(cnn_lstm_pred, series_train)\n"
      ],
      "metadata": {
        "id": "n9HyxN0P4EKA"
      },
      "execution_count": null,
      "outputs": []
    },
    {
      "cell_type": "code",
      "source": [
        "series_hat_cnn_lstm = cnn_lstm_pred"
      ],
      "metadata": {
        "id": "CM4FwwoT4EKA"
      },
      "execution_count": null,
      "outputs": []
    },
    {
      "cell_type": "code",
      "source": [
        "series_y_hat_cnn_lstm = np.array(list(series_hat_cnn_lstm[:-1]))"
      ],
      "metadata": {
        "id": "GG2ca6Me4EKA"
      },
      "execution_count": null,
      "outputs": []
    },
    {
      "cell_type": "code",
      "source": [
        "series_test = series_y[-G.SPLIT_TIME:]\n",
        "series_test_hat_cnn_lstm_1 = series_y_hat_cnn_lstm[-G.SPLIT_TIME:,0]\n",
        "series_test_hat_cnn_lstm_2 = series_y_hat_cnn_lstm[-G.SPLIT_TIME:-1,1]\n",
        "series_test_hat_cnn_lstm_3 = series_y_hat_cnn_lstm[-G.SPLIT_TIME:-2,2]\n",
        "series_test_hat_cnn_lstm_4 = series_y_hat_cnn_lstm[-G.SPLIT_TIME:-3,3]\n",
        "series_test_hat_cnn_lstm_5 = series_y_hat_cnn_lstm[-G.SPLIT_TIME:-4,4]\n",
        "series_test_hat_cnn_lstm_6 = series_y_hat_cnn_lstm[-G.SPLIT_TIME:-5,5]\n",
        "series_test_hat_cnn_lstm_7 = series_y_hat_cnn_lstm[-G.SPLIT_TIME:-6,6]\n",
        "series_test_hat_cnn_lstm_8 = series_y_hat_cnn_lstm[-G.SPLIT_TIME:-7,7]\n",
        "series_test_hat_cnn_lstm_9 = series_y_hat_cnn_lstm[-G.SPLIT_TIME:-8,8]\n",
        "series_test_hat_cnn_lstm_10 = series_y_hat_cnn_lstm[-G.SPLIT_TIME:-9,9]\n"
      ],
      "metadata": {
        "id": "fU9AL7gA4EKA"
      },
      "execution_count": null,
      "outputs": []
    },
    {
      "cell_type": "code",
      "source": [
        "# Plot the forecast\n",
        "\n",
        "plt.figure(figsize=(10, 6))\n",
        "\n",
        "plt.plot(np.arange( 1, len(time_test)+1 ), series_test, linestyle='-', color='blue', label='Original Value')\n",
        "\n",
        "plt.plot(np.arange( 1, len(time_test)+1 ), series_test_hat_cnn_lstm_1, linestyle='-', color='Red', label='1-step forecasting')\n",
        "\n",
        "plt.plot(np.arange( 5, len(time_test)+1 ), series_test_hat_cnn_lstm_5, linestyle='--', color='Orange', label='5-step forecasting')\n",
        "\n",
        "plt.plot(np.arange( 10, len(time_test)+1 ), series_test_hat_cnn_lstm_10, linestyle=':', color='Green', label='10-step forecasting')\n",
        "\n",
        "plt.ylabel(\"Index Value\")\n",
        "plt.xlabel(\"Time Step\")\n",
        "plt.title(\"GOLD test set prediction with CNN-LSTM\")\n",
        "legend_drawn_flag = True\n",
        "plt.legend([\"Original Value (GOLD)\", \"1-step forecasting\",\"5-step forecasting\",\"10-step forecasting\"], loc='upper left', frameon=legend_drawn_flag)\n",
        "plt.savefig(\"/content/gdrive/MyDrive/Multistage/GOLD/figures/cnn_lstm_forecasts_GOLD.tif\")"
      ],
      "metadata": {
        "id": "G8EJlz6N4EKB"
      },
      "execution_count": null,
      "outputs": []
    },
    {
      "cell_type": "code",
      "execution_count": null,
      "metadata": {
        "id": "Uq6BBYuB4EKB"
      },
      "outputs": [],
      "source": [
        "rmse_cnn_lstm_1, mae_cnn_lstm_1, mape_cnn_lstm_1= compute_metrics(series_test, series_test_hat_cnn_lstm_1)\n",
        "\n",
        "print(f\"rmse: {rmse_cnn_lstm_1:.2f}, mae: {mae_cnn_lstm_1:.2f} , mape: {mape_cnn_lstm_1:.2f} for 1 step forecast\")"
      ]
    },
    {
      "cell_type": "code",
      "source": [
        "rmse_cnn_lstm_2, mae_cnn_lstm_2, mape_cnn_lstm_2= compute_metrics(series_test[1:], series_test_hat_cnn_lstm_2)\n",
        "\n",
        "print(f\"rmse: {rmse_cnn_lstm_2:.2f}, mae: {mae_cnn_lstm_2:.2f} , mape: {mape_cnn_lstm_2:.2f} for 2 steps forecast\")"
      ],
      "metadata": {
        "id": "7CPaK3Ib4EKB"
      },
      "execution_count": null,
      "outputs": []
    },
    {
      "cell_type": "code",
      "source": [
        "rmse_cnn_lstm_3, mae_cnn_lstm_3, mape_cnn_lstm_3= compute_metrics(series_test[2:], series_test_hat_cnn_lstm_3)\n",
        "\n",
        "print(f\"rmse: {rmse_cnn_lstm_3:.2f}, mae: {mae_cnn_lstm_3:.2f} , mape: {mape_cnn_lstm_3:.2f} for 3 steps forecast\")"
      ],
      "metadata": {
        "id": "-7hkW_ia4EKB"
      },
      "execution_count": null,
      "outputs": []
    },
    {
      "cell_type": "code",
      "source": [
        "rmse_cnn_lstm_4, mae_cnn_lstm_4, mape_cnn_lstm_4= compute_metrics(series_test[3:], series_test_hat_cnn_lstm_4)\n",
        "\n",
        "print(f\"rmse: {rmse_cnn_lstm_4:.2f}, mae: {mae_cnn_lstm_4:.2f} , mape: {mape_cnn_lstm_4:.2f} for 4 steps forecast\")"
      ],
      "metadata": {
        "id": "zLCpi38j4EKB"
      },
      "execution_count": null,
      "outputs": []
    },
    {
      "cell_type": "code",
      "source": [
        "rmse_cnn_lstm_5, mae_cnn_lstm_5, mape_cnn_lstm_5= compute_metrics(series_test[4:], series_test_hat_cnn_lstm_5)\n",
        "\n",
        "print(f\"rmse: {rmse_cnn_lstm_5:.2f}, mae: {mae_cnn_lstm_5:.2f} , mape: {mape_cnn_lstm_5:.2f} for 5 steps forecast\")"
      ],
      "metadata": {
        "id": "vp4EHJQ54EKB"
      },
      "execution_count": null,
      "outputs": []
    },
    {
      "cell_type": "code",
      "source": [
        "rmse_cnn_lstm_6, mae_cnn_lstm_6, mape_cnn_lstm_6= compute_metrics(series_test[5:], series_test_hat_cnn_lstm_6)\n",
        "\n",
        "print(f\"rmse: {rmse_cnn_lstm_6:.2f}, mae: {mae_cnn_lstm_6:.2f} , mape: {mape_cnn_lstm_6:.2f} for 6 steps forecast\")"
      ],
      "metadata": {
        "id": "5Mm4KmoR4EKB"
      },
      "execution_count": null,
      "outputs": []
    },
    {
      "cell_type": "code",
      "source": [
        "rmse_cnn_lstm_7, mae_cnn_lstm_7, mape_cnn_lstm_7= compute_metrics(series_test[6:], series_test_hat_cnn_lstm_7)\n",
        "\n",
        "print(f\"rmse: {rmse_cnn_lstm_7:.2f}, mae: {mae_cnn_lstm_7:.2f} , mape: {mape_cnn_lstm_7:.2f} for 7 steps forecast\")"
      ],
      "metadata": {
        "id": "d46ZaJKe4EKB"
      },
      "execution_count": null,
      "outputs": []
    },
    {
      "cell_type": "code",
      "source": [
        "rmse_cnn_lstm_8, mae_cnn_lstm_8, mape_cnn_lstm_8= compute_metrics(series_test[7:], series_test_hat_cnn_lstm_8)\n",
        "\n",
        "print(f\"rmse: {rmse_cnn_lstm_8:.2f}, mae: {mae_cnn_lstm_8:.2f} , mape: {mape_cnn_lstm_8:.2f} for 8 steps forecast\")"
      ],
      "metadata": {
        "id": "1KShz_eK4EKB"
      },
      "execution_count": null,
      "outputs": []
    },
    {
      "cell_type": "code",
      "source": [
        "rmse_cnn_lstm_9, mae_cnn_lstm_9, mape_cnn_lstm_9= compute_metrics(series_test[8:], series_test_hat_cnn_lstm_9)\n",
        "\n",
        "print(f\"rmse: {rmse_cnn_lstm_9:.2f}, mae: {mae_cnn_lstm_9:.2f} , mape: {mape_cnn_lstm_9:.2f} for 9 steps forecast\")"
      ],
      "metadata": {
        "id": "9DgkgPAb4EKC"
      },
      "execution_count": null,
      "outputs": []
    },
    {
      "cell_type": "code",
      "source": [
        "rmse_cnn_lstm_10, mae_cnn_lstm_10, mape_cnn_lstm_10= compute_metrics(series_test[9:], series_test_hat_cnn_lstm_10)\n",
        "\n",
        "print(f\"rmse: {rmse_cnn_lstm_10:.2f}, mae: {mae_cnn_lstm_10:.2f} , mape: {mape_cnn_lstm_10:.2f} for 10 steps forecast\")"
      ],
      "metadata": {
        "id": "h1Nb0vES4EKC",
        "colab": {
          "base_uri": "https://localhost:8080/"
        },
        "outputId": "7aa35fc4-48af-4bc0-da53-fce965481906"
      },
      "execution_count": 124,
      "outputs": [
        {
          "output_type": "stream",
          "name": "stdout",
          "text": [
            "rmse: 86.03, mae: 68.59 , mape: 4.04 for 10 steps forecast\n"
          ]
        }
      ]
    },
    {
      "cell_type": "code",
      "source": [
        "# Save_weights model\n",
        "\n",
        "cnn_lstm.save_weights(\"/content/gdrive/MyDrive/Multistage/GOLD/models/cnn_lstm_GOLD_MIMO.h5\", overwrite=True, save_format=None, options=None)\n"
      ],
      "metadata": {
        "id": "Srg6rnYS4EKC"
      },
      "execution_count": 125,
      "outputs": []
    },
    {
      "cell_type": "code",
      "source": [
        "# Save predicted values\n",
        "\n",
        "np.savetxt(\"/content/gdrive/MyDrive/Multistage/GOLD/files/cnn_lstm_predicted_test_GOLD_1.csv\", \n",
        "           series_test_hat_cnn_lstm_1.T, delimiter=\",\")\n",
        "np.savetxt(\"/content/gdrive/MyDrive/Multistage/GOLD/files/cnn_lstm_predicted_test_GOLD_2.csv\", \n",
        "           series_test_hat_cnn_lstm_2.T, delimiter=\",\")\n",
        "np.savetxt(\"/content/gdrive/MyDrive/Multistage/GOLD/files/cnn_lstm_predicted_test_GOLD_3.csv\", \n",
        "           series_test_hat_cnn_lstm_3.T, delimiter=\",\")\n",
        "np.savetxt(\"/content/gdrive/MyDrive/Multistage/GOLD/files/cnn_lstm_predicted_test_GOLD_4.csv\", \n",
        "           series_test_hat_cnn_lstm_4.T, delimiter=\",\")\n",
        "np.savetxt(\"/content/gdrive/MyDrive/Multistage/GOLD/files/cnn_lstm_predicted_test_GOLD_5.csv\", \n",
        "           series_test_hat_cnn_lstm_5.T, delimiter=\",\")\n",
        "np.savetxt(\"/content/gdrive/MyDrive/Multistage/GOLD/files/cnn_lstm_predicted_test_GOLD_6.csv\", \n",
        "           series_test_hat_cnn_lstm_6.T, delimiter=\",\")\n",
        "np.savetxt(\"/content/gdrive/MyDrive/Multistage/GOLD/files/cnn_lstm_predicted_test_GOLD_7.csv\", \n",
        "           series_test_hat_cnn_lstm_7.T, delimiter=\",\")\n",
        "np.savetxt(\"/content/gdrive/MyDrive/Multistage/GOLD/files/cnn_lstm_predicted_test_GOLD_8.csv\", \n",
        "           series_test_hat_cnn_lstm_8.T, delimiter=\",\")\n",
        "np.savetxt(\"/content/gdrive/MyDrive/Multistage/GOLD/files/cnn_lstm_predicted_test_GOLD_9.csv\", \n",
        "           series_test_hat_cnn_lstm_9.T, delimiter=\",\")\n",
        "np.savetxt(\"/content/gdrive/MyDrive/Multistage/GOLD/files/cnn_lstm_predicted_test_GOLD_10.csv\", \n",
        "           series_test_hat_cnn_lstm_10.T, delimiter=\",\")\n",
        "\n",
        "\n",
        "np.savetxt(\"/content/gdrive/MyDrive/Multistage/GOLD/files/cnn_lstm_predicted_whole_GOLD.csv\", \n",
        "           series_y_hat_cnn_lstm.T, delimiter=\",\")"
      ],
      "metadata": {
        "id": "476v-dci4EKC"
      },
      "execution_count": 126,
      "outputs": []
    },
    {
      "cell_type": "markdown",
      "source": [
        "# Plot together"
      ],
      "metadata": {
        "id": "b_lQPNVBkQsT"
      }
    },
    {
      "cell_type": "code",
      "source": [
        "# Plot the forecast\n",
        "\n",
        "plt.figure(figsize=(10, 6))\n",
        "\n",
        "plt.plot(np.arange( 1, len(time_test)+1 ), series_test, linestyle='-', color='blue')\n",
        "\n",
        "plt.plot(np.arange( 1, len(time_test)+1 ), series_test_hat_capsnet_lstm_1, linestyle='-', color='Red')\n",
        "\n",
        "plt.plot(np.arange( 1, len(time_test)+1 ), series_test_hat_lstm_1, linestyle='--', color='Orange')\n",
        "\n",
        "plt.plot(np.arange( 1, len(time_test)+1 ), series_test_hat_rnn_1, linestyle=':', color='Green')\n",
        "\n",
        "plt.plot(np.arange( 1, len(time_test)+1 ), series_test_hat_cnn_lstm_1, linestyle='-.', color='Grey')\n",
        "\n",
        "plt.ylabel(\"Index Value\")\n",
        "plt.xlabel(\"Time Step\")\n",
        "plt.title(\"Comparison of 1-step forecasting for GOLD\")\n",
        "legend_drawn_flag = True\n",
        "plt.legend([\"Original Value (GOLD)\", \"CapsNet-LSTM\",\"LSTM\",\"RNN\",\"CNN-LSTM\"], loc='upper left', frameon=legend_drawn_flag)\n",
        "plt.savefig(\"/content/gdrive/MyDrive/Multistage/GOLD/figures/comparison_forecasts_1_step_GOLD.tif\")\n"
      ],
      "metadata": {
        "colab": {
          "base_uri": "https://localhost:8080/",
          "height": 419
        },
        "id": "tAothLmZqYEe",
        "outputId": "9f993c4c-778c-43c4-ccee-7c588929f7c4"
      },
      "execution_count": 127,
      "outputs": [
        {
          "output_type": "display_data",
          "data": {
            "text/plain": [
              "<Figure size 720x432 with 1 Axes>"
            ],
            "image/png": "[encoded data removed]"
          },
          "metadata": {
            "needs_background": "light"
          }
        }
      ]
    },
    {
      "cell_type": "code",
      "source": [
        "# Plot the forecast\n",
        "\n",
        "plt.figure(figsize=(10, 6))\n",
        "\n",
        "plt.plot(np.arange( 1, len(time_test)+1 ), series_test, linestyle='-', color='blue')\n",
        "\n",
        "plt.plot(np.arange( 5, len(time_test)+1 ), series_test_hat_capsnet_lstm_5, linestyle='-', color='Red')\n",
        "\n",
        "plt.plot(np.arange( 5, len(time_test)+1 ), series_test_hat_lstm_5, linestyle='--', color='Orange')\n",
        "\n",
        "plt.plot(np.arange( 5, len(time_test)+1 ), series_test_hat_rnn_5, linestyle=':', color='Green')\n",
        "\n",
        "plt.plot(np.arange( 5, len(time_test)+1 ), series_test_hat_cnn_lstm_5, linestyle='-.', color='Grey')\n",
        "\n",
        "plt.ylabel(\"Index Value\")\n",
        "plt.xlabel(\"Time Step\")\n",
        "plt.title(\"Comparison of 5-step forecasting for GOLD\")\n",
        "legend_drawn_flag = True\n",
        "plt.legend([\"Original Value (GOLD)\", \"CapsNet-LSTM\",\"LSTM\",\"RNN\",\"CNN-LSTM\"], loc='upper left', frameon=legend_drawn_flag)\n",
        "plt.savefig(\"/content/gdrive/MyDrive/Multistage/GOLD/figures/comparison_forecasts_5_step_GOLD.tif\")"
      ],
      "metadata": {
        "id": "HV9A-uEqheTx",
        "colab": {
          "base_uri": "https://localhost:8080/",
          "height": 419
        },
        "outputId": "fc673dc2-f976-40c2-e15d-d840ab3c25c4"
      },
      "execution_count": 128,
      "outputs": [
        {
          "output_type": "display_data",
          "data": {
            "text/plain": [
              "<Figure size 720x432 with 1 Axes>"
            ],
            "image/png": "[encoded data removed]"
          },
          "metadata": {
            "needs_background": "light"
          }
        }
      ]
    },
    {
      "cell_type": "code",
      "source": [
        "# Plot the forecast\n",
        "\n",
        "plt.figure(figsize=(10, 6))\n",
        "\n",
        "plt.plot(np.arange( 1, len(time_test)+1 ), series_test, linestyle='-', color='blue')\n",
        "\n",
        "plt.plot(np.arange( 10, len(time_test)+1 ), series_test_hat_capsnet_lstm_10, linestyle='-', color='Red')\n",
        "\n",
        "plt.plot(np.arange( 10, len(time_test)+1 ), series_test_hat_lstm_10, linestyle='--', color='Orange')\n",
        "\n",
        "plt.plot(np.arange( 10, len(time_test)+1 ), series_test_hat_rnn_10, linestyle=':', color='Green')\n",
        "\n",
        "plt.plot(np.arange( 10, len(time_test)+1 ), series_test_hat_cnn_lstm_10, linestyle='-.', color='Grey')\n",
        "\n",
        "plt.ylabel(\"Index Value\")\n",
        "plt.xlabel(\"Time Step\")\n",
        "plt.title(\"Comparison of 10-step forecasting for GOLD\")\n",
        "legend_drawn_flag = True\n",
        "plt.legend([\"Original Value (GOLD)\", \"CapsNet-LSTM\",\"LSTM\",\"RNN\",\"CNN-LSTM\"], loc='upper left', frameon=legend_drawn_flag)\n",
        "plt.savefig(\"/content/gdrive/MyDrive/Multistage/GOLD/figures/comparison_forecasts_10_step_GOLD.tif\")"
      ],
      "metadata": {
        "colab": {
          "base_uri": "https://localhost:8080/",
          "height": 419
        },
        "id": "eoFdDNtlrwvk",
        "outputId": "9e40bb75-9548-44f9-ddd4-bce95c35a04d"
      },
      "execution_count": 129,
      "outputs": [
        {
          "output_type": "display_data",
          "data": {
            "text/plain": [
              "<Figure size 720x432 with 1 Axes>"
            ],
            "image/png": "[encoded data removed]"
          },
          "metadata": {
            "needs_background": "light"
          }
        }
      ]
    },
    {
      "cell_type": "markdown",
      "source": [
        "RMSE:"
      ],
      "metadata": {
        "id": "HSfs51S36K6y"
      }
    },
    {
      "cell_type": "code",
      "source": [
        "rmse_capsnet_lstm = [rmse_capsnet_lstm_1,rmse_capsnet_lstm_2,rmse_capsnet_lstm_3,rmse_capsnet_lstm_4,rmse_capsnet_lstm_5,rmse_capsnet_lstm_6,rmse_capsnet_lstm_7,rmse_capsnet_lstm_8,rmse_capsnet_lstm_9,rmse_capsnet_lstm_10]"
      ],
      "metadata": {
        "id": "2U7DuHrn6Iaj"
      },
      "execution_count": 130,
      "outputs": []
    },
    {
      "cell_type": "code",
      "source": [
        "rmse_lstm = [rmse_lstm_1,rmse_lstm_2,rmse_lstm_3,rmse_lstm_4,rmse_lstm_5,rmse_lstm_6,rmse_lstm_7,rmse_lstm_8,rmse_lstm_9,rmse_lstm_10]"
      ],
      "metadata": {
        "id": "Fdn-REy-7zCr"
      },
      "execution_count": 131,
      "outputs": []
    },
    {
      "cell_type": "code",
      "source": [
        "rmse_rnn = [rmse_rnn_1,rmse_rnn_2,rmse_rnn_3,rmse_rnn_4,rmse_rnn_5,rmse_rnn_6,rmse_rnn_7,rmse_rnn_8,rmse_rnn_9,rmse_rnn_10]"
      ],
      "metadata": {
        "id": "yk75YwTSDA53"
      },
      "execution_count": 132,
      "outputs": []
    },
    {
      "cell_type": "code",
      "source": [
        "rmse_cnn_lstm = [rmse_cnn_lstm_1,rmse_cnn_lstm_2,rmse_cnn_lstm_3,rmse_cnn_lstm_4,rmse_cnn_lstm_5,rmse_cnn_lstm_6,rmse_cnn_lstm_7,rmse_cnn_lstm_8,rmse_cnn_lstm_9,rmse_cnn_lstm_10]"
      ],
      "metadata": {
        "id": "tascR3Yn8En2"
      },
      "execution_count": 133,
      "outputs": []
    },
    {
      "cell_type": "code",
      "source": [
        "plt.figure(figsize=(10, 6))\n",
        "plt.rcParams['font.size'] = '16'\n",
        "plt.plot(np.arange( 1, 11 ), rmse_capsnet_lstm,linestyle='-', color='blue')\n",
        "plt.plot(np.arange( 1, 11 ), rmse_lstm,linestyle='-', color='Red')\n",
        "plt.plot(np.arange( 1, 11 ), rmse_rnn,linestyle='--', color='Orange')\n",
        "plt.plot(np.arange( 1, 11 ), rmse_cnn_lstm,linestyle=':', color='Green')\n",
        "\n",
        "plt.ylabel(\"RMSE Value\")\n",
        "plt.xlabel(\"Time Step\")\n",
        "plt.title(\"Comparison of RMSE values for multi step ahead forecasting\")\n",
        "legend_drawn_flag = True\n",
        "plt.legend([\"CapsNet-LSTM\",\"LSTM\",\"RNN\",\"CNN-LSTM)\"], loc='upper left', frameon=legend_drawn_flag)\n",
        "plt.savefig(\"/content/gdrive/MyDrive/Multistage/GOLD/figures/rmse_10_steps_GOLD.tif\")"
      ],
      "metadata": {
        "id": "NHM_11Ag8Q0h",
        "colab": {
          "base_uri": "https://localhost:8080/",
          "height": 419
        },
        "outputId": "db345d77-4bea-4f3f-9420-43f7f06f3245"
      },
      "execution_count": 136,
      "outputs": [
        {
          "output_type": "display_data",
          "data": {
            "text/plain": [
              "<Figure size 720x432 with 1 Axes>"
            ],
            "image/png": "[encoded data removed]"
          },
          "metadata": {
            "needs_background": "light"
          }
        }
      ]
    },
    {
      "cell_type": "markdown",
      "source": [
        "MAE:"
      ],
      "metadata": {
        "id": "D90RycO66OQj"
      }
    },
    {
      "cell_type": "code",
      "source": [
        "mae_capsnet_lstm = [mae_capsnet_lstm_1,mae_capsnet_lstm_2,mae_capsnet_lstm_3,mae_capsnet_lstm_4,mae_capsnet_lstm_5,mae_capsnet_lstm_6,mae_capsnet_lstm_7,mae_capsnet_lstm_8,mae_capsnet_lstm_9,mae_capsnet_lstm_10]"
      ],
      "metadata": {
        "id": "QVi54oQD6Nn9"
      },
      "execution_count": 137,
      "outputs": []
    },
    {
      "cell_type": "code",
      "source": [
        "mae_lstm = [mae_lstm_1,mae_lstm_2,mae_lstm_3,mae_lstm_4,mae_lstm_5,mae_lstm_6,mae_lstm_7,mae_lstm_8,mae_lstm_9,mae_lstm_10]"
      ],
      "metadata": {
        "id": "BK2q_adqDW74"
      },
      "execution_count": 138,
      "outputs": []
    },
    {
      "cell_type": "code",
      "source": [
        "mae_rnn = [mae_rnn_1,mae_rnn_2,mae_rnn_3,mae_rnn_4,mae_rnn_5,mae_rnn_6,mae_rnn_7,mae_rnn_8,mae_rnn_9,mae_rnn_10]"
      ],
      "metadata": {
        "id": "JpM9Wp24DWvJ"
      },
      "execution_count": 139,
      "outputs": []
    },
    {
      "cell_type": "code",
      "source": [
        "mae_cnn_lstm = [mae_cnn_lstm_1,mae_cnn_lstm_2,mae_cnn_lstm_3,mae_cnn_lstm_4,mae_cnn_lstm_5,mae_cnn_lstm_6,mae_cnn_lstm_7,mae_cnn_lstm_8,mae_cnn_lstm_9,mae_cnn_lstm_10]"
      ],
      "metadata": {
        "id": "VBeb23OuDWjr"
      },
      "execution_count": 140,
      "outputs": []
    },
    {
      "cell_type": "code",
      "source": [
        "plt.figure(figsize=(10, 6))\n",
        "plt.rcParams['font.size'] = '16'\n",
        "plt.plot(np.arange( 1, 11 ), mae_capsnet_lstm,linestyle='-', color='blue')\n",
        "plt.plot(np.arange( 1, 11 ), mae_lstm,linestyle='-', color='Red')\n",
        "plt.plot(np.arange( 1, 11 ), mae_rnn,linestyle='--', color='Orange')\n",
        "plt.plot(np.arange( 1, 11 ), mae_cnn_lstm,linestyle=':', color='Green')\n",
        "\n",
        "plt.ylabel(\"MAE Value\")\n",
        "plt.xlabel(\"Time Step\")\n",
        "plt.title(\"Comparison of MAE values for multi step ahead forecasting\")\n",
        "legend_drawn_flag = True\n",
        "plt.legend([\"CapsNet-LSTM\",\"LSTM\",\"RNN\",\"CNN-LSTM)\"], loc='upper left', frameon=legend_drawn_flag)\n",
        "plt.savefig(\"/content/gdrive/MyDrive/Multistage/GOLD/figures/mae_10_steps_GOLD.tif\")"
      ],
      "metadata": {
        "id": "1LPfpbLuDfAT",
        "colab": {
          "base_uri": "https://localhost:8080/",
          "height": 419
        },
        "outputId": "e0ff8288-8cd0-4bdb-f1c7-ee74f600babb"
      },
      "execution_count": 142,
      "outputs": [
        {
          "output_type": "display_data",
          "data": {
            "text/plain": [
              "<Figure size 720x432 with 1 Axes>"
            ],
            "image/png": "[encoded data removed]"
          },
          "metadata": {
            "needs_background": "light"
          }
        }
      ]
    },
    {
      "cell_type": "markdown",
      "source": [
        "MAPE:"
      ],
      "metadata": {
        "id": "7g6ujfBa6Poj"
      }
    },
    {
      "cell_type": "code",
      "source": [
        "mape_capsnet_lstm = [mape_capsnet_lstm_1,mape_capsnet_lstm_2,mape_capsnet_lstm_3,mape_capsnet_lstm_4,mape_capsnet_lstm_5,mape_capsnet_lstm_6,mape_capsnet_lstm_7,mape_capsnet_lstm_8,mape_capsnet_lstm_9,mape_capsnet_lstm_10]"
      ],
      "metadata": {
        "id": "VAIvmajf6ISz"
      },
      "execution_count": 143,
      "outputs": []
    },
    {
      "cell_type": "code",
      "source": [
        "mape_lstm = [mape_lstm_1,mape_lstm_2,mape_lstm_3,mape_lstm_4,mape_lstm_5,mape_lstm_6,mape_lstm_7,mape_lstm_8,mape_lstm_9,mape_lstm_10]"
      ],
      "metadata": {
        "id": "TGqBbbBx6III"
      },
      "execution_count": 144,
      "outputs": []
    },
    {
      "cell_type": "code",
      "source": [
        "mape_rnn = [mape_rnn_1,mape_rnn_2,mape_rnn_3,mape_rnn_4,mape_rnn_5,mape_rnn_6,mape_rnn_7,mape_rnn_8,mape_rnn_9,mape_rnn_10]"
      ],
      "metadata": {
        "id": "RY1zVHqoD4ci"
      },
      "execution_count": 145,
      "outputs": []
    },
    {
      "cell_type": "code",
      "source": [
        "mape_cnn_lstm = [mape_cnn_lstm_1,mape_cnn_lstm_2,mape_cnn_lstm_3,mape_cnn_lstm_4,mape_cnn_lstm_5,mape_cnn_lstm_6,mape_cnn_lstm_7,mape_cnn_lstm_8,mape_cnn_lstm_9,mape_cnn_lstm_10]"
      ],
      "metadata": {
        "id": "cvyjV1YXD4Pw"
      },
      "execution_count": 146,
      "outputs": []
    },
    {
      "cell_type": "code",
      "source": [
        "plt.figure(figsize=(10, 6))\n",
        "plt.rcParams['font.size'] = '16'\n",
        "plt.plot(np.arange( 1, 11 ), mape_capsnet_lstm,linestyle='-', color='blue')\n",
        "plt.plot(np.arange( 1, 11 ), mape_lstm,linestyle='-', color='Red')\n",
        "plt.plot(np.arange( 1, 11 ), mape_rnn,linestyle='--', color='Orange')\n",
        "plt.plot(np.arange( 1, 11 ), mape_cnn_lstm,linestyle=':', color='Green')\n",
        "\n",
        "plt.ylabel(\"MAPE Value\")\n",
        "plt.xlabel(\"Time Step\")\n",
        "plt.title(\"Comparison of MAPE values for multi step ahead forecasting\")\n",
        "legend_drawn_flag = True\n",
        "plt.legend([\"CapsNet-LSTM\",\"LSTM\",\"RNN\",\"CNN-LSTM)\"], loc='upper left', frameon=legend_drawn_flag)\n",
        "plt.savefig(\"/content/gdrive/MyDrive/Multistage/GOLD/figures/mape_10_steps_GOLD.tif\")"
      ],
      "metadata": {
        "id": "wG3QiX2XD4L5",
        "colab": {
          "base_uri": "https://localhost:8080/",
          "height": 419
        },
        "outputId": "83943b93-5810-4b8c-a08c-4e5c07f47adc"
      },
      "execution_count": 147,
      "outputs": [
        {
          "output_type": "display_data",
          "data": {
            "text/plain": [
              "<Figure size 720x432 with 1 Axes>"
            ],
            "image/png": "[encoded data removed]"
          },
          "metadata": {
            "needs_background": "light"
          }
        }
      ]
    }
  ],
  "metadata": {
    "kernelspec": {
      "display_name": "Python 3",
      "language": "python",
      "name": "python3"
    },
    "language_info": {
      "codemirror_mode": {
        "name": "ipython",
        "version": 3
      },
      "file_extension": ".py",
      "mimetype": "text/x-python",
      "name": "python",
      "nbconvert_exporter": "python",
      "pygments_lexer": "ipython3",
      "version": "3.8.8"
    },
    "colab": {
      "provenance": [],
      "include_colab_link": true
    },
    "accelerator": "TPU",
    "gpuClass": "standard"
  },
  "nbformat": 4,
  "nbformat_minor": 0
}